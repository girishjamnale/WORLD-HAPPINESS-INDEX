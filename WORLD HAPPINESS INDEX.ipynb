{
 "cells": [
  {
   "cell_type": "code",
   "execution_count": 39,
   "metadata": {},
   "outputs": [
    {
     "name": "stdout",
     "output_type": "stream",
     "text": [
      "Requirement already satisfied: bubbly in c:\\users\\girish8793\\anaconda3\\lib\\site-packages (1.0.2)\n",
      "Requirement already satisfied: plotly in c:\\users\\girish8793\\anaconda3\\lib\\site-packages (from bubbly) (4.11.0)\n",
      "Requirement already satisfied: pandas in c:\\users\\girish8793\\anaconda3\\lib\\site-packages (from bubbly) (0.25.1)\n",
      "Requirement already satisfied: retrying>=1.3.3 in c:\\users\\girish8793\\anaconda3\\lib\\site-packages (from plotly->bubbly) (1.3.3)\n",
      "Requirement already satisfied: six in c:\\users\\girish8793\\anaconda3\\lib\\site-packages (from plotly->bubbly) (1.12.0)\n",
      "Requirement already satisfied: python-dateutil>=2.6.1 in c:\\users\\girish8793\\anaconda3\\lib\\site-packages (from pandas->bubbly) (2.8.0)\n",
      "Requirement already satisfied: numpy>=1.13.3 in c:\\users\\girish8793\\anaconda3\\lib\\site-packages (from pandas->bubbly) (1.16.5)\n",
      "Requirement already satisfied: pytz>=2017.2 in c:\\users\\girish8793\\anaconda3\\lib\\site-packages (from pandas->bubbly) (2019.3)\n",
      "Note: you may need to restart the kernel to use updated packages.\n"
     ]
    }
   ],
   "source": [
    "pip install bubbly"
   ]
  },
  {
   "cell_type": "code",
   "execution_count": 40,
   "metadata": {},
   "outputs": [],
   "source": [
    "import numpy as  np\n",
    "import pandas as pd\n",
    "import matplotlib.pyplot as plt\n",
    "import seaborn as sns\n",
    "import plotly.offline as py\n",
    "import plotly.graph_objects as go\n",
    "from bubbly.bubbly import bubbleplot\n"
   ]
  },
  {
   "cell_type": "code",
   "execution_count": 41,
   "metadata": {},
   "outputs": [],
   "source": [
    "data_2015=pd.read_csv('2015.csv')\n",
    "data_2016=pd.read_csv('2016.csv')\n",
    "data_2017=pd.read_csv('2017.csv')\n"
   ]
  },
  {
   "cell_type": "code",
   "execution_count": 42,
   "metadata": {},
   "outputs": [
    {
     "data": {
      "text/html": [
       "<div>\n",
       "<style scoped>\n",
       "    .dataframe tbody tr th:only-of-type {\n",
       "        vertical-align: middle;\n",
       "    }\n",
       "\n",
       "    .dataframe tbody tr th {\n",
       "        vertical-align: top;\n",
       "    }\n",
       "\n",
       "    .dataframe thead th {\n",
       "        text-align: right;\n",
       "    }\n",
       "</style>\n",
       "<table border=\"1\" class=\"dataframe\">\n",
       "  <thead>\n",
       "    <tr style=\"text-align: right;\">\n",
       "      <th></th>\n",
       "      <th>Country</th>\n",
       "      <th>Region</th>\n",
       "      <th>Happiness Rank</th>\n",
       "      <th>Happiness Score</th>\n",
       "      <th>Lower Confidence Interval</th>\n",
       "      <th>Upper Confidence Interval</th>\n",
       "      <th>Economy (GDP per Capita)</th>\n",
       "      <th>Family</th>\n",
       "      <th>Health (Life Expectancy)</th>\n",
       "      <th>Freedom</th>\n",
       "      <th>Trust (Government Corruption)</th>\n",
       "      <th>Generosity</th>\n",
       "      <th>Dystopia Residual</th>\n",
       "    </tr>\n",
       "  </thead>\n",
       "  <tbody>\n",
       "    <tr>\n",
       "      <td>0</td>\n",
       "      <td>Denmark</td>\n",
       "      <td>Western Europe</td>\n",
       "      <td>1</td>\n",
       "      <td>7.526</td>\n",
       "      <td>7.460</td>\n",
       "      <td>7.592</td>\n",
       "      <td>1.44178</td>\n",
       "      <td>1.16374</td>\n",
       "      <td>0.79504</td>\n",
       "      <td>0.57941</td>\n",
       "      <td>0.44453</td>\n",
       "      <td>0.36171</td>\n",
       "      <td>2.73939</td>\n",
       "    </tr>\n",
       "    <tr>\n",
       "      <td>1</td>\n",
       "      <td>Switzerland</td>\n",
       "      <td>Western Europe</td>\n",
       "      <td>2</td>\n",
       "      <td>7.509</td>\n",
       "      <td>7.428</td>\n",
       "      <td>7.590</td>\n",
       "      <td>1.52733</td>\n",
       "      <td>1.14524</td>\n",
       "      <td>0.86303</td>\n",
       "      <td>0.58557</td>\n",
       "      <td>0.41203</td>\n",
       "      <td>0.28083</td>\n",
       "      <td>2.69463</td>\n",
       "    </tr>\n",
       "    <tr>\n",
       "      <td>2</td>\n",
       "      <td>Iceland</td>\n",
       "      <td>Western Europe</td>\n",
       "      <td>3</td>\n",
       "      <td>7.501</td>\n",
       "      <td>7.333</td>\n",
       "      <td>7.669</td>\n",
       "      <td>1.42666</td>\n",
       "      <td>1.18326</td>\n",
       "      <td>0.86733</td>\n",
       "      <td>0.56624</td>\n",
       "      <td>0.14975</td>\n",
       "      <td>0.47678</td>\n",
       "      <td>2.83137</td>\n",
       "    </tr>\n",
       "    <tr>\n",
       "      <td>3</td>\n",
       "      <td>Norway</td>\n",
       "      <td>Western Europe</td>\n",
       "      <td>4</td>\n",
       "      <td>7.498</td>\n",
       "      <td>7.421</td>\n",
       "      <td>7.575</td>\n",
       "      <td>1.57744</td>\n",
       "      <td>1.12690</td>\n",
       "      <td>0.79579</td>\n",
       "      <td>0.59609</td>\n",
       "      <td>0.35776</td>\n",
       "      <td>0.37895</td>\n",
       "      <td>2.66465</td>\n",
       "    </tr>\n",
       "    <tr>\n",
       "      <td>4</td>\n",
       "      <td>Finland</td>\n",
       "      <td>Western Europe</td>\n",
       "      <td>5</td>\n",
       "      <td>7.413</td>\n",
       "      <td>7.351</td>\n",
       "      <td>7.475</td>\n",
       "      <td>1.40598</td>\n",
       "      <td>1.13464</td>\n",
       "      <td>0.81091</td>\n",
       "      <td>0.57104</td>\n",
       "      <td>0.41004</td>\n",
       "      <td>0.25492</td>\n",
       "      <td>2.82596</td>\n",
       "    </tr>\n",
       "  </tbody>\n",
       "</table>\n",
       "</div>"
      ],
      "text/plain": [
       "       Country          Region  Happiness Rank  Happiness Score  \\\n",
       "0      Denmark  Western Europe               1            7.526   \n",
       "1  Switzerland  Western Europe               2            7.509   \n",
       "2      Iceland  Western Europe               3            7.501   \n",
       "3       Norway  Western Europe               4            7.498   \n",
       "4      Finland  Western Europe               5            7.413   \n",
       "\n",
       "   Lower Confidence Interval  Upper Confidence Interval  \\\n",
       "0                      7.460                      7.592   \n",
       "1                      7.428                      7.590   \n",
       "2                      7.333                      7.669   \n",
       "3                      7.421                      7.575   \n",
       "4                      7.351                      7.475   \n",
       "\n",
       "   Economy (GDP per Capita)   Family  Health (Life Expectancy)  Freedom  \\\n",
       "0                   1.44178  1.16374                   0.79504  0.57941   \n",
       "1                   1.52733  1.14524                   0.86303  0.58557   \n",
       "2                   1.42666  1.18326                   0.86733  0.56624   \n",
       "3                   1.57744  1.12690                   0.79579  0.59609   \n",
       "4                   1.40598  1.13464                   0.81091  0.57104   \n",
       "\n",
       "   Trust (Government Corruption)  Generosity  Dystopia Residual  \n",
       "0                        0.44453     0.36171            2.73939  \n",
       "1                        0.41203     0.28083            2.69463  \n",
       "2                        0.14975     0.47678            2.83137  \n",
       "3                        0.35776     0.37895            2.66465  \n",
       "4                        0.41004     0.25492            2.82596  "
      ]
     },
     "execution_count": 42,
     "metadata": {},
     "output_type": "execute_result"
    }
   ],
   "source": [
    "data_2016.head()"
   ]
  },
  {
   "cell_type": "code",
   "execution_count": 43,
   "metadata": {},
   "outputs": [
    {
     "data": {
      "text/html": [
       "<div>\n",
       "<style scoped>\n",
       "    .dataframe tbody tr th:only-of-type {\n",
       "        vertical-align: middle;\n",
       "    }\n",
       "\n",
       "    .dataframe tbody tr th {\n",
       "        vertical-align: top;\n",
       "    }\n",
       "\n",
       "    .dataframe thead th {\n",
       "        text-align: right;\n",
       "    }\n",
       "</style>\n",
       "<table border=\"1\" class=\"dataframe\">\n",
       "  <thead>\n",
       "    <tr style=\"text-align: right;\">\n",
       "      <th></th>\n",
       "      <th>Country</th>\n",
       "      <th>Happiness.Rank</th>\n",
       "      <th>Happiness.Score</th>\n",
       "      <th>Whisker.high</th>\n",
       "      <th>Whisker.low</th>\n",
       "      <th>Economy..GDP.per.Capita.</th>\n",
       "      <th>Family</th>\n",
       "      <th>Health..Life.Expectancy.</th>\n",
       "      <th>Freedom</th>\n",
       "      <th>Generosity</th>\n",
       "      <th>Trust..Government.Corruption.</th>\n",
       "      <th>Dystopia.Residual</th>\n",
       "    </tr>\n",
       "  </thead>\n",
       "  <tbody>\n",
       "    <tr>\n",
       "      <td>0</td>\n",
       "      <td>Norway</td>\n",
       "      <td>1</td>\n",
       "      <td>7.537</td>\n",
       "      <td>7.594445</td>\n",
       "      <td>7.479556</td>\n",
       "      <td>1.616463</td>\n",
       "      <td>1.533524</td>\n",
       "      <td>0.796667</td>\n",
       "      <td>0.635423</td>\n",
       "      <td>0.362012</td>\n",
       "      <td>0.315964</td>\n",
       "      <td>2.277027</td>\n",
       "    </tr>\n",
       "    <tr>\n",
       "      <td>1</td>\n",
       "      <td>Denmark</td>\n",
       "      <td>2</td>\n",
       "      <td>7.522</td>\n",
       "      <td>7.581728</td>\n",
       "      <td>7.462272</td>\n",
       "      <td>1.482383</td>\n",
       "      <td>1.551122</td>\n",
       "      <td>0.792566</td>\n",
       "      <td>0.626007</td>\n",
       "      <td>0.355280</td>\n",
       "      <td>0.400770</td>\n",
       "      <td>2.313707</td>\n",
       "    </tr>\n",
       "    <tr>\n",
       "      <td>2</td>\n",
       "      <td>Iceland</td>\n",
       "      <td>3</td>\n",
       "      <td>7.504</td>\n",
       "      <td>7.622030</td>\n",
       "      <td>7.385970</td>\n",
       "      <td>1.480633</td>\n",
       "      <td>1.610574</td>\n",
       "      <td>0.833552</td>\n",
       "      <td>0.627163</td>\n",
       "      <td>0.475540</td>\n",
       "      <td>0.153527</td>\n",
       "      <td>2.322715</td>\n",
       "    </tr>\n",
       "    <tr>\n",
       "      <td>3</td>\n",
       "      <td>Switzerland</td>\n",
       "      <td>4</td>\n",
       "      <td>7.494</td>\n",
       "      <td>7.561772</td>\n",
       "      <td>7.426227</td>\n",
       "      <td>1.564980</td>\n",
       "      <td>1.516912</td>\n",
       "      <td>0.858131</td>\n",
       "      <td>0.620071</td>\n",
       "      <td>0.290549</td>\n",
       "      <td>0.367007</td>\n",
       "      <td>2.276716</td>\n",
       "    </tr>\n",
       "    <tr>\n",
       "      <td>4</td>\n",
       "      <td>Finland</td>\n",
       "      <td>5</td>\n",
       "      <td>7.469</td>\n",
       "      <td>7.527542</td>\n",
       "      <td>7.410458</td>\n",
       "      <td>1.443572</td>\n",
       "      <td>1.540247</td>\n",
       "      <td>0.809158</td>\n",
       "      <td>0.617951</td>\n",
       "      <td>0.245483</td>\n",
       "      <td>0.382612</td>\n",
       "      <td>2.430182</td>\n",
       "    </tr>\n",
       "  </tbody>\n",
       "</table>\n",
       "</div>"
      ],
      "text/plain": [
       "       Country  Happiness.Rank  Happiness.Score  Whisker.high  Whisker.low  \\\n",
       "0       Norway               1            7.537      7.594445     7.479556   \n",
       "1      Denmark               2            7.522      7.581728     7.462272   \n",
       "2      Iceland               3            7.504      7.622030     7.385970   \n",
       "3  Switzerland               4            7.494      7.561772     7.426227   \n",
       "4      Finland               5            7.469      7.527542     7.410458   \n",
       "\n",
       "   Economy..GDP.per.Capita.    Family  Health..Life.Expectancy.   Freedom  \\\n",
       "0                  1.616463  1.533524                  0.796667  0.635423   \n",
       "1                  1.482383  1.551122                  0.792566  0.626007   \n",
       "2                  1.480633  1.610574                  0.833552  0.627163   \n",
       "3                  1.564980  1.516912                  0.858131  0.620071   \n",
       "4                  1.443572  1.540247                  0.809158  0.617951   \n",
       "\n",
       "   Generosity  Trust..Government.Corruption.  Dystopia.Residual  \n",
       "0    0.362012                       0.315964           2.277027  \n",
       "1    0.355280                       0.400770           2.313707  \n",
       "2    0.475540                       0.153527           2.322715  \n",
       "3    0.290549                       0.367007           2.276716  \n",
       "4    0.245483                       0.382612           2.430182  "
      ]
     },
     "execution_count": 43,
     "metadata": {},
     "output_type": "execute_result"
    }
   ],
   "source": [
    "data_2017.head()"
   ]
  },
  {
   "cell_type": "code",
   "execution_count": 44,
   "metadata": {},
   "outputs": [
    {
     "data": {
      "text/html": [
       "<div>\n",
       "<style scoped>\n",
       "    .dataframe tbody tr th:only-of-type {\n",
       "        vertical-align: middle;\n",
       "    }\n",
       "\n",
       "    .dataframe tbody tr th {\n",
       "        vertical-align: top;\n",
       "    }\n",
       "\n",
       "    .dataframe thead th {\n",
       "        text-align: right;\n",
       "    }\n",
       "</style>\n",
       "<table border=\"1\" class=\"dataframe\">\n",
       "  <thead>\n",
       "    <tr style=\"text-align: right;\">\n",
       "      <th></th>\n",
       "      <th>Country</th>\n",
       "      <th>Region</th>\n",
       "      <th>Happiness Rank</th>\n",
       "      <th>Happiness Score</th>\n",
       "      <th>Standard Error</th>\n",
       "      <th>Economy (GDP per Capita)</th>\n",
       "      <th>Family</th>\n",
       "      <th>Health (Life Expectancy)</th>\n",
       "      <th>Freedom</th>\n",
       "      <th>Trust (Government Corruption)</th>\n",
       "      <th>Generosity</th>\n",
       "      <th>Dystopia Residual</th>\n",
       "    </tr>\n",
       "  </thead>\n",
       "  <tbody>\n",
       "    <tr>\n",
       "      <td>0</td>\n",
       "      <td>Switzerland</td>\n",
       "      <td>Western Europe</td>\n",
       "      <td>1</td>\n",
       "      <td>7.587</td>\n",
       "      <td>0.03411</td>\n",
       "      <td>1.39651</td>\n",
       "      <td>1.34951</td>\n",
       "      <td>0.94143</td>\n",
       "      <td>0.66557</td>\n",
       "      <td>0.41978</td>\n",
       "      <td>0.29678</td>\n",
       "      <td>2.51738</td>\n",
       "    </tr>\n",
       "    <tr>\n",
       "      <td>1</td>\n",
       "      <td>Iceland</td>\n",
       "      <td>Western Europe</td>\n",
       "      <td>2</td>\n",
       "      <td>7.561</td>\n",
       "      <td>0.04884</td>\n",
       "      <td>1.30232</td>\n",
       "      <td>1.40223</td>\n",
       "      <td>0.94784</td>\n",
       "      <td>0.62877</td>\n",
       "      <td>0.14145</td>\n",
       "      <td>0.43630</td>\n",
       "      <td>2.70201</td>\n",
       "    </tr>\n",
       "    <tr>\n",
       "      <td>2</td>\n",
       "      <td>Denmark</td>\n",
       "      <td>Western Europe</td>\n",
       "      <td>3</td>\n",
       "      <td>7.527</td>\n",
       "      <td>0.03328</td>\n",
       "      <td>1.32548</td>\n",
       "      <td>1.36058</td>\n",
       "      <td>0.87464</td>\n",
       "      <td>0.64938</td>\n",
       "      <td>0.48357</td>\n",
       "      <td>0.34139</td>\n",
       "      <td>2.49204</td>\n",
       "    </tr>\n",
       "    <tr>\n",
       "      <td>3</td>\n",
       "      <td>Norway</td>\n",
       "      <td>Western Europe</td>\n",
       "      <td>4</td>\n",
       "      <td>7.522</td>\n",
       "      <td>0.03880</td>\n",
       "      <td>1.45900</td>\n",
       "      <td>1.33095</td>\n",
       "      <td>0.88521</td>\n",
       "      <td>0.66973</td>\n",
       "      <td>0.36503</td>\n",
       "      <td>0.34699</td>\n",
       "      <td>2.46531</td>\n",
       "    </tr>\n",
       "    <tr>\n",
       "      <td>4</td>\n",
       "      <td>Canada</td>\n",
       "      <td>North America</td>\n",
       "      <td>5</td>\n",
       "      <td>7.427</td>\n",
       "      <td>0.03553</td>\n",
       "      <td>1.32629</td>\n",
       "      <td>1.32261</td>\n",
       "      <td>0.90563</td>\n",
       "      <td>0.63297</td>\n",
       "      <td>0.32957</td>\n",
       "      <td>0.45811</td>\n",
       "      <td>2.45176</td>\n",
       "    </tr>\n",
       "  </tbody>\n",
       "</table>\n",
       "</div>"
      ],
      "text/plain": [
       "       Country          Region  Happiness Rank  Happiness Score  \\\n",
       "0  Switzerland  Western Europe               1            7.587   \n",
       "1      Iceland  Western Europe               2            7.561   \n",
       "2      Denmark  Western Europe               3            7.527   \n",
       "3       Norway  Western Europe               4            7.522   \n",
       "4       Canada   North America               5            7.427   \n",
       "\n",
       "   Standard Error  Economy (GDP per Capita)   Family  \\\n",
       "0         0.03411                   1.39651  1.34951   \n",
       "1         0.04884                   1.30232  1.40223   \n",
       "2         0.03328                   1.32548  1.36058   \n",
       "3         0.03880                   1.45900  1.33095   \n",
       "4         0.03553                   1.32629  1.32261   \n",
       "\n",
       "   Health (Life Expectancy)  Freedom  Trust (Government Corruption)  \\\n",
       "0                   0.94143  0.66557                        0.41978   \n",
       "1                   0.94784  0.62877                        0.14145   \n",
       "2                   0.87464  0.64938                        0.48357   \n",
       "3                   0.88521  0.66973                        0.36503   \n",
       "4                   0.90563  0.63297                        0.32957   \n",
       "\n",
       "   Generosity  Dystopia Residual  \n",
       "0     0.29678            2.51738  \n",
       "1     0.43630            2.70201  \n",
       "2     0.34139            2.49204  \n",
       "3     0.34699            2.46531  \n",
       "4     0.45811            2.45176  "
      ]
     },
     "execution_count": 44,
     "metadata": {},
     "output_type": "execute_result"
    }
   ],
   "source": [
    "data_2015.head()"
   ]
  },
  {
   "cell_type": "code",
   "execution_count": 45,
   "metadata": {},
   "outputs": [
    {
     "data": {
      "image/png": "[encoded data removed]",
      "text/plain": [
       "<Figure size 1080x720 with 1 Axes>"
      ]
     },
     "metadata": {
      "needs_background": "light"
     },
     "output_type": "display_data"
    }
   ],
   "source": [
    "plt.figure(figsize=(15,10))\n",
    "sns.violinplot(data_2016['Happiness Score'],data_2016['Region'])\n",
    "plt.show()"
   ]
  },
  {
   "cell_type": "code",
   "execution_count": 46,
   "metadata": {},
   "outputs": [
    {
     "data": {
      "image/png": "[encoded data removed]",
      "text/plain": [
       "<Figure size 1080x720 with 2 Axes>"
      ]
     },
     "metadata": {
      "needs_background": "light"
     },
     "output_type": "display_data"
    }
   ],
   "source": [
    "plt.figure(figsize=(15,10))\n",
    "sns.heatmap(data_2017.corr(),cmap='copper',annot=True)\n",
    "plt.show()\n"
   ]
  },
  {
   "cell_type": "markdown",
   "metadata": {},
   "source": [
    "# Correlations for WESTERN EUROPE"
   ]
  },
  {
   "cell_type": "code",
   "execution_count": 47,
   "metadata": {},
   "outputs": [
    {
     "data": {
      "image/png": "[encoded data removed]",
      "text/plain": [
       "<Figure size 1080x720 with 2 Axes>"
      ]
     },
     "metadata": {
      "needs_background": "light"
     },
     "output_type": "display_data"
    }
   ],
   "source": [
    "plt.figure(figsize=(15,10))\n",
    "we=data_2016.loc[lambda data_2016:data_2016['Region']=='Western Europe']\n",
    "sns.heatmap(we.corr(), cmap='Wistia', annot=True)\n",
    "plt.show()"
   ]
  },
  {
   "cell_type": "markdown",
   "metadata": {},
   "source": [
    "# Correlations for Eastern Asia"
   ]
  },
  {
   "cell_type": "code",
   "execution_count": 48,
   "metadata": {},
   "outputs": [
    {
     "data": {
      "image/png": "[encoded data removed]",
      "text/plain": [
       "<Figure size 1080x720 with 2 Axes>"
      ]
     },
     "metadata": {
      "needs_background": "light"
     },
     "output_type": "display_data"
    }
   ],
   "source": [
    "plt.figure(figsize=(15,10))\n",
    "ea=data_2016.loc[lambda data_2016:data_2016['Region']=='Eastern Asia']\n",
    "sns.heatmap(ea.corr(),cmap='Blues', annot=True)\n",
    "plt.show()"
   ]
  },
  {
   "cell_type": "markdown",
   "metadata": {},
   "source": [
    "# Correlation for North America"
   ]
  },
  {
   "cell_type": "code",
   "execution_count": 49,
   "metadata": {},
   "outputs": [
    {
     "data": {
      "image/png": "[encoded data removed]",
      "text/plain": [
       "<Figure size 1080x720 with 2 Axes>"
      ]
     },
     "metadata": {
      "needs_background": "light"
     },
     "output_type": "display_data"
    }
   ],
   "source": [
    "plt.figure(figsize=(15,10))\n",
    "na=data_2016.loc[lambda data_2016:data_2016['Region']=='North America']\n",
    "sns.heatmap(na.corr(), cmap='PuBuGn', annot=True)\n",
    "plt.show()"
   ]
  },
  {
   "cell_type": "markdown",
   "metadata": {},
   "source": [
    "# Correlation for Middle East And North Africa"
   ]
  },
  {
   "cell_type": "code",
   "execution_count": 50,
   "metadata": {},
   "outputs": [
    {
     "data": {
      "image/png": "[encoded data removed]",
      "text/plain": [
       "<Figure size 1440x1080 with 2 Axes>"
      ]
     },
     "metadata": {
      "needs_background": "light"
     },
     "output_type": "display_data"
    }
   ],
   "source": [
    "plt.rcParams['figure.figsize'] = (20, 15)\n",
    "\n",
    "d = data_2016.loc[lambda data_2016: data_2016['Region'] == 'Middle East and Northern Africa']\n",
    "\n",
    "sns.heatmap(d.corr(), cmap = 'rainbow', annot = True)\n",
    "\n",
    "plt.show()"
   ]
  },
  {
   "cell_type": "markdown",
   "metadata": {},
   "source": [
    "# Correlations for SubSaharan Africa"
   ]
  },
  {
   "cell_type": "code",
   "execution_count": 51,
   "metadata": {},
   "outputs": [
    {
     "data": {
      "image/png": "[encoded data removed]",
      "text/plain": [
       "<Figure size 1080x720 with 2 Axes>"
      ]
     },
     "metadata": {
      "needs_background": "light"
     },
     "output_type": "display_data"
    }
   ],
   "source": [
    "plt.figure(figsize=(15,10))\n",
    "ss=data_2016.loc[lambda data_2016: data_2016['Region']=='Sub-Saharan Africa']\n",
    "sns.heatmap(ss.corr(), cmap='BuGn',annot= True)\n",
    "plt.show()"
   ]
  },
  {
   "cell_type": "markdown",
   "metadata": {},
   "source": [
    "# Bubble Chart"
   ]
  },
  {
   "cell_type": "code",
   "execution_count": 52,
   "metadata": {},
   "outputs": [
    {
     "data": {
      "application/vnd.plotly.v1+json": {
       "config": {
        "linkText": "Export to plot.ly",
        "plotlyServerURL": "https://plot.ly",
        "scrollzoom": true,
        "showLink": false
       },
       "data": [
        {
         "marker": {
          "size": [
           1.3965100000000001,
           1.3023200000000001,
           1.32548,
           1.459,
           1.29025,
           1.32944,
           1.33171,
           1.33723,
           1.5639100000000001,
           1.33596,
           1.30782,
           1.26637,
           1.32792,
           1.27778,
           1.23011,
           1.2074,
           1.25114,
           1.2080600000000001,
           1.20813,
           1.15991,
           1.15406
          ],
          "sizemode": "area",
          "sizeref": 0.00052825625
         },
         "mode": "markers",
         "name": "Western Europe",
         "text": [
          "Switzerland",
          "Iceland",
          "Denmark",
          "Norway",
          "Finland",
          "Netherlands",
          "Sweden",
          "Austria",
          "Luxembourg",
          "Ireland",
          "Belgium",
          "United Kingdom",
          "Germany",
          "France",
          "Spain",
          "Malta",
          "Italy",
          "North Cyprus",
          "Cyprus",
          "Portugal",
          "Greece"
         ],
         "type": "scatter",
         "x": [
          7.587000000000001,
          7.561,
          7.527,
          7.522,
          7.406000000000001,
          7.377999999999999,
          7.364,
          7.2,
          6.946000000000001,
          6.94,
          6.937,
          6.867000000000001,
          6.75,
          6.575,
          6.329,
          6.3020000000000005,
          5.9479999999999995,
          5.695,
          5.689,
          5.102,
          4.857
         ],
         "y": [
          0.29678000000000004,
          0.4363,
          0.34139,
          0.34699,
          0.23351,
          0.4761,
          0.36262,
          0.33088,
          0.28034000000000003,
          0.45901000000000003,
          0.2225,
          0.51912,
          0.28214,
          0.12332,
          0.18227000000000002,
          0.51752,
          0.22823000000000002,
          0.26169000000000003,
          0.30638000000000004,
          0.13719,
          0
         ]
        },
        {
         "marker": {
          "size": [
           1.32629,
           1.3945100000000001
          ],
          "sizemode": "area",
          "sizeref": 0.00052825625
         },
         "mode": "markers",
         "name": "North America",
         "text": [
          "Canada",
          "United States"
         ],
         "type": "scatter",
         "x": [
          7.4270000000000005,
          7.119
         ],
         "y": [
          0.45811,
          0.40105
         ]
        },
        {
         "marker": {
          "size": [
           1.2501799999999998,
           1.33358
          ],
          "sizemode": "area",
          "sizeref": 0.00052825625
         },
         "mode": "markers",
         "name": "Australia and New Zealand",
         "text": [
          "New Zealand",
          "Australia"
         ],
         "type": "scatter",
         "x": [
          7.2860000000000005,
          7.284
         ],
         "y": [
          0.47501000000000004,
          0.43562
         ]
        },
        {
         "marker": {
          "size": [
           1.2285700000000002,
           1.42727,
           1.36011,
           1.69042,
           1.39541,
           1.5542200000000002,
           1.32376,
           1.13145,
           0.93929,
           1.06098,
           0.9019799999999999,
           0.7347899999999999,
           1.0256399999999999,
           0.88113,
           0.59867,
           1.0088,
           0.98549,
           0.8818,
           0.5464899999999999,
           0.6632
          ],
          "sizemode": "area",
          "sizeref": 0.00052825625
         },
         "mode": "markers",
         "name": "Middle East and Northern Africa",
         "text": [
          "Israel",
          "United Arab Emirates",
          "Oman",
          "Qatar",
          "Saudi Arabia",
          "Kuwait",
          "Bahrain",
          "Libya",
          "Algeria",
          "Turkey",
          "Jordan",
          "Morocco",
          "Lebanon",
          "Tunisia",
          "Palestinian Territories",
          "Iran",
          "Iraq",
          "Egypt",
          "Yemen",
          "Syria"
         ],
         "type": "scatter",
         "x": [
          7.278,
          6.901,
          6.853,
          6.611000000000001,
          6.4110000000000005,
          6.295,
          5.96,
          5.754,
          5.605,
          5.332000000000001,
          5.192,
          5.013,
          4.8389999999999995,
          4.739,
          4.715,
          4.686,
          4.677,
          4.194,
          4.077,
          3.0060000000000002
         ],
         "y": [
          0.33171999999999996,
          0.26428,
          0.21541999999999997,
          0.32573,
          0.13706,
          0.16228,
          0.17362,
          0.18295,
          0.07822,
          0.12253,
          0.11052999999999999,
          0.07172,
          0.21854,
          0.06431,
          0.11250999999999999,
          0.38086,
          0.17922000000000002,
          0.11291,
          0.09131,
          0.47179
         ]
        },
        {
         "marker": {
          "size": [
           0.95578,
           1.02054,
           0.98124,
           1.04424,
           1.0635299999999999,
           1.10715,
           1.05351,
           1.06166,
           0.91861,
           0.99534,
           1.21183,
           0.76454,
           0.74553,
           0.8640200000000001,
           0.68133,
           0.75985,
           0.59325,
           0.9001899999999999,
           0.81038,
           0.8953700000000001,
           0.59532,
           0.26673
          ],
          "sizemode": "area",
          "sizeref": 0.00052825625
         },
         "mode": "markers",
         "name": "Latin America and Caribbean",
         "text": [
          "Costa Rica",
          "Mexico",
          "Brazil",
          "Venezuela",
          "Panama",
          "Chile",
          "Argentina",
          "Uruguay",
          "Colombia",
          "Suriname",
          "Trinidad and Tobago",
          "El Salvador",
          "Guatemala",
          "Ecuador",
          "Bolivia",
          "Paraguay",
          "Nicaragua",
          "Peru",
          "Jamaica",
          "Dominican Republic",
          "Honduras",
          "Haiti"
         ],
         "type": "scatter",
         "x": [
          7.226,
          7.187,
          6.983,
          6.81,
          6.7860000000000005,
          6.67,
          6.574,
          6.485,
          6.477,
          6.269,
          6.167999999999999,
          6.13,
          6.122999999999999,
          5.975,
          5.89,
          5.877999999999999,
          5.827999999999999,
          5.824,
          5.709,
          4.885,
          4.788,
          4.518
         ],
         "y": [
          0.25497,
          0.14074,
          0.14574,
          0.058410000000000004,
          0.24434,
          0.33363000000000004,
          0.11450999999999999,
          0.2324,
          0.18400999999999998,
          0.16990999999999998,
          0.31844,
          0.10692,
          0.27489,
          0.11540999999999998,
          0.20536,
          0.3424,
          0.27815,
          0.14982,
          0.2123,
          0.21684,
          0.23026999999999997,
          0.46187
         ]
        },
        {
         "marker": {
          "size": [
           1.52186,
           0.9669,
           1.12486,
           0.8282700000000001,
           0.63216,
           0.70532,
           0.5906600000000001,
           0.27108000000000004,
           0.46038
          ],
          "sizemode": "area",
          "sizeref": 0.00052825625
         },
         "mode": "markers",
         "name": "Southeastern Asia",
         "text": [
          "Singapore",
          "Thailand",
          "Malaysia",
          "Indonesia",
          "Vietnam",
          "Philippines",
          "Laos",
          "Myanmar",
          "Cambodia"
         ],
         "type": "scatter",
         "x": [
          6.797999999999999,
          6.455,
          5.77,
          5.399,
          5.36,
          5.073,
          4.876,
          4.3069999999999995,
          3.819
         ],
         "y": [
          0.31105,
          0.5763,
          0.33075,
          0.51535,
          0.1686,
          0.24991,
          0.42191999999999996,
          0.79588,
          0.40359
         ]
        },
        {
         "marker": {
          "size": [
           1.17898,
           0.63244,
           1.1689100000000001,
           0.59448,
           1.1225399999999999,
           1.18498,
           1.14723,
           1.0319200000000002,
           1.12555,
           1.08254,
           1.13764,
           0.80148,
           0.95847,
           1.15174,
           0.47428000000000003,
           1.02389,
           0.9743799999999999,
           1.04345,
           0.92053,
           1.11312,
           0.91851,
           0.8786700000000001,
           0.8322299999999999,
           1.12094,
           0.39047,
           0.79907,
           0.7682100000000001,
           0.7419,
           1.01216
          ],
          "sizemode": "area",
          "sizeref": 0.00052825625
         },
         "mode": "markers",
         "name": "Central and Eastern Europe",
         "text": [
          "Czech Republic",
          "Uzbekistan",
          "Slovakia",
          "Moldova",
          "Kazakhstan",
          "Slovenia",
          "Lithuania",
          "Belarus",
          "Poland",
          "Croatia",
          "Russia",
          "Kosovo",
          "Turkmenistan",
          "Estonia",
          "Kyrgyzstan",
          "Azerbaijan",
          "Montenegro",
          "Romania",
          "Serbia",
          "Latvia",
          "Macedonia",
          "Albania",
          "Bosnia and Herzegovina",
          "Hungary",
          "Tajikistan",
          "Ukraine",
          "Armenia",
          "Georgia",
          "Bulgaria"
         ],
         "type": "scatter",
         "x": [
          6.505,
          6.002999999999999,
          5.995,
          5.888999999999999,
          5.855,
          5.848,
          5.832999999999999,
          5.813,
          5.791,
          5.7589999999999995,
          5.716,
          5.5889999999999995,
          5.547999999999999,
          5.428999999999999,
          5.2860000000000005,
          5.212000000000001,
          5.192,
          5.124,
          5.122999999999999,
          5.098,
          5.007,
          4.959,
          4.949,
          4.8,
          4.7860000000000005,
          4.681,
          4.35,
          4.297,
          4.218
         ],
         "y": [
          0.10686,
          0.22837,
          0.16893,
          0.20951,
          0.11827,
          0.25328,
          0.026410000000000003,
          0.11045999999999999,
          0.16759000000000002,
          0.054439999999999995,
          0.00199,
          0.2831,
          0.16979,
          0.0868,
          0.3003,
          0.07799,
          0.1614,
          0.13748,
          0.19230999999999998,
          0.18225999999999998,
          0.22359,
          0.14272,
          0.24808000000000002,
          0.128,
          0.22974,
          0.15275,
          0.07855,
          0.055470000000000005,
          0.11921
         ]
        },
        {
         "marker": {
          "size": [
           1.29098,
           1.27074,
           1.24461,
           1.38604,
           0.89012,
           0.82819
          ],
          "sizemode": "area",
          "sizeref": 0.00052825625
         },
         "mode": "markers",
         "name": "Eastern Asia",
         "text": [
          "Taiwan",
          "Japan",
          "South Korea",
          "Hong Kong",
          "China",
          "Mongolia"
         ],
         "type": "scatter",
         "x": [
          6.297999999999999,
          5.987,
          5.984,
          5.474,
          5.14,
          4.874
         ],
         "y": [
          0.25376,
          0.10705,
          0.18557,
          0.39478,
          0.08185,
          0.3323
         ]
        },
        {
         "marker": {
          "size": [
           1.0076100000000001,
           0.65435,
           0.47038,
           0.18847,
           0.08308,
           0.37545,
           0.71206,
           0.9204899999999999,
           0.5455800000000001,
           0.271,
           0.0712,
           0.52107,
           0,
           0.19072999999999998,
           0.33024000000000003,
           0.45407,
           0.36471,
           0.44025,
           0.99355,
           0.016040000000000002,
           0.4225,
           0.75778,
           0.26074,
           0.67866,
           0.23906,
           0.21101999999999999,
           0.36498,
           1.06024,
           0.0694,
           0.2852,
           0.20824,
           0.0785,
           0.34193,
           0.17417,
           0.46534,
           0.25811999999999996,
           0.22208000000000003,
           0.28665,
           0.0153,
           0.20868
          ],
          "sizemode": "area",
          "sizeref": 0.00052825625
         },
         "mode": "markers",
         "name": "Sub-Saharan Africa",
         "text": [
          "Mauritius",
          "Nigeria",
          "Zambia",
          "Somaliland region",
          "Mozambique",
          "Lesotho",
          "Swaziland",
          "South Africa",
          "Ghana",
          "Zimbabwe",
          "Liberia",
          "Sudan",
          "Congo (Kinshasa)",
          "Ethiopia",
          "Sierra Leone",
          "Mauritania",
          "Kenya",
          "Djibouti",
          "Botswana",
          "Malawi",
          "Cameroon",
          "Angola",
          "Mali",
          "Congo (Brazzaville)",
          "Comoros",
          "Uganda",
          "Senegal",
          "Gabon",
          "Niger",
          "Tanzania",
          "Madagascar",
          "Central African Republic",
          "Chad",
          "Guinea",
          "Ivory Coast",
          "Burkina Faso",
          "Rwanda",
          "Benin",
          "Burundi",
          "Togo"
         ],
         "type": "scatter",
         "x": [
          5.477,
          5.268,
          5.129,
          5.0569999999999995,
          4.971,
          4.898,
          4.867,
          4.6419999999999995,
          4.633,
          4.61,
          4.571000000000001,
          4.55,
          4.5169999999999995,
          4.512,
          4.507,
          4.436,
          4.419,
          4.369,
          4.332,
          4.292,
          4.252,
          4.033,
          3.995,
          3.989,
          3.9560000000000004,
          3.931,
          3.904,
          3.8960000000000004,
          3.845,
          3.781,
          3.681,
          3.678,
          3.667,
          3.656,
          3.655,
          3.5869999999999997,
          3.465,
          3.34,
          2.905,
          2.839
         ],
         "y": [
          0.37744,
          0.27233,
          0.19591,
          0.5031800000000001,
          0.22269,
          0.16388,
          0.18259,
          0.11972999999999999,
          0.23087,
          0.18987,
          0.24361999999999998,
          0.19062,
          0.24834,
          0.24325,
          0.21488000000000002,
          0.21899999999999997,
          0.37542,
          0.18093,
          0.10461,
          0.33128,
          0.20618000000000003,
          0.12344000000000001,
          0.18798,
          0.12387999999999999,
          0.17440999999999998,
          0.29066,
          0.20843000000000003,
          0.06822,
          0.19387000000000001,
          0.34376999999999996,
          0.21333000000000002,
          0.23835,
          0.18386,
          0.28657,
          0.20165,
          0.21746999999999997,
          0.22628,
          0.1826,
          0.19727,
          0.16680999999999999
         ]
        },
        {
         "marker": {
          "size": [
           0.77042,
           0.59543,
           0.39753,
           0.64499,
           0.35996999999999996,
           0.83524,
           0.31982
          ],
          "sizemode": "area",
          "sizeref": 0.00052825625
         },
         "mode": "markers",
         "name": "Southern Asia",
         "text": [
          "Bhutan",
          "Pakistan",
          "Bangladesh",
          "India",
          "Nepal",
          "Sri Lanka",
          "Afghanistan"
         ],
         "type": "scatter",
         "x": [
          5.252999999999999,
          5.194,
          4.694,
          4.565,
          4.513999999999999,
          4.271,
          3.575
         ],
         "y": [
          0.47998,
          0.33671,
          0.21222,
          0.26475,
          0.32295999999999997,
          0.40828000000000003,
          0.3651
         ]
        }
       ],
       "layout": {
        "height": 650,
        "hovermode": "closest",
        "margin": {
         "b": 50,
         "pad": 5,
         "t": 50
        },
        "showlegend": true,
        "template": {
         "data": {
          "bar": [
           {
            "error_x": {
             "color": "#2a3f5f"
            },
            "error_y": {
             "color": "#2a3f5f"
            },
            "marker": {
             "line": {
              "color": "#E5ECF6",
              "width": 0.5
             }
            },
            "type": "bar"
           }
          ],
          "barpolar": [
           {
            "marker": {
             "line": {
              "color": "#E5ECF6",
              "width": 0.5
             }
            },
            "type": "barpolar"
           }
          ],
          "carpet": [
           {
            "aaxis": {
             "endlinecolor": "#2a3f5f",
             "gridcolor": "white",
             "linecolor": "white",
             "minorgridcolor": "white",
             "startlinecolor": "#2a3f5f"
            },
            "baxis": {
             "endlinecolor": "#2a3f5f",
             "gridcolor": "white",
             "linecolor": "white",
             "minorgridcolor": "white",
             "startlinecolor": "#2a3f5f"
            },
            "type": "carpet"
           }
          ],
          "choropleth": [
           {
            "colorbar": {
             "outlinewidth": 0,
             "ticks": ""
            },
            "type": "choropleth"
           }
          ],
          "contour": [
           {
            "colorbar": {
             "outlinewidth": 0,
             "ticks": ""
            },
            "colorscale": [
             [
              0,
              "#0d0887"
             ],
             [
              0.1111111111111111,
              "#46039f"
             ],
             [
              0.2222222222222222,
              "#7201a8"
             ],
             [
              0.3333333333333333,
              "#9c179e"
             ],
             [
              0.4444444444444444,
              "#bd3786"
             ],
             [
              0.5555555555555556,
              "#d8576b"
             ],
             [
              0.6666666666666666,
              "#ed7953"
             ],
             [
              0.7777777777777778,
              "#fb9f3a"
             ],
             [
              0.8888888888888888,
              "#fdca26"
             ],
             [
              1,
              "#f0f921"
             ]
            ],
            "type": "contour"
           }
          ],
          "contourcarpet": [
           {
            "colorbar": {
             "outlinewidth": 0,
             "ticks": ""
            },
            "type": "contourcarpet"
           }
          ],
          "heatmap": [
           {
            "colorbar": {
             "outlinewidth": 0,
             "ticks": ""
            },
            "colorscale": [
             [
              0,
              "#0d0887"
             ],
             [
              0.1111111111111111,
              "#46039f"
             ],
             [
              0.2222222222222222,
              "#7201a8"
             ],
             [
              0.3333333333333333,
              "#9c179e"
             ],
             [
              0.4444444444444444,
              "#bd3786"
             ],
             [
              0.5555555555555556,
              "#d8576b"
             ],
             [
              0.6666666666666666,
              "#ed7953"
             ],
             [
              0.7777777777777778,
              "#fb9f3a"
             ],
             [
              0.8888888888888888,
              "#fdca26"
             ],
             [
              1,
              "#f0f921"
             ]
            ],
            "type": "heatmap"
           }
          ],
          "heatmapgl": [
           {
            "colorbar": {
             "outlinewidth": 0,
             "ticks": ""
            },
            "colorscale": [
             [
              0,
              "#0d0887"
             ],
             [
              0.1111111111111111,
              "#46039f"
             ],
             [
              0.2222222222222222,
              "#7201a8"
             ],
             [
              0.3333333333333333,
              "#9c179e"
             ],
             [
              0.4444444444444444,
              "#bd3786"
             ],
             [
              0.5555555555555556,
              "#d8576b"
             ],
             [
              0.6666666666666666,
              "#ed7953"
             ],
             [
              0.7777777777777778,
              "#fb9f3a"
             ],
             [
              0.8888888888888888,
              "#fdca26"
             ],
             [
              1,
              "#f0f921"
             ]
            ],
            "type": "heatmapgl"
           }
          ],
          "histogram": [
           {
            "marker": {
             "colorbar": {
              "outlinewidth": 0,
              "ticks": ""
             }
            },
            "type": "histogram"
           }
          ],
          "histogram2d": [
           {
            "colorbar": {
             "outlinewidth": 0,
             "ticks": ""
            },
            "colorscale": [
             [
              0,
              "#0d0887"
             ],
             [
              0.1111111111111111,
              "#46039f"
             ],
             [
              0.2222222222222222,
              "#7201a8"
             ],
             [
              0.3333333333333333,
              "#9c179e"
             ],
             [
              0.4444444444444444,
              "#bd3786"
             ],
             [
              0.5555555555555556,
              "#d8576b"
             ],
             [
              0.6666666666666666,
              "#ed7953"
             ],
             [
              0.7777777777777778,
              "#fb9f3a"
             ],
             [
              0.8888888888888888,
              "#fdca26"
             ],
             [
              1,
              "#f0f921"
             ]
            ],
            "type": "histogram2d"
           }
          ],
          "histogram2dcontour": [
           {
            "colorbar": {
             "outlinewidth": 0,
             "ticks": ""
            },
            "colorscale": [
             [
              0,
              "#0d0887"
             ],
             [
              0.1111111111111111,
              "#46039f"
             ],
             [
              0.2222222222222222,
              "#7201a8"
             ],
             [
              0.3333333333333333,
              "#9c179e"
             ],
             [
              0.4444444444444444,
              "#bd3786"
             ],
             [
              0.5555555555555556,
              "#d8576b"
             ],
             [
              0.6666666666666666,
              "#ed7953"
             ],
             [
              0.7777777777777778,
              "#fb9f3a"
             ],
             [
              0.8888888888888888,
              "#fdca26"
             ],
             [
              1,
              "#f0f921"
             ]
            ],
            "type": "histogram2dcontour"
           }
          ],
          "mesh3d": [
           {
            "colorbar": {
             "outlinewidth": 0,
             "ticks": ""
            },
            "type": "mesh3d"
           }
          ],
          "parcoords": [
           {
            "line": {
             "colorbar": {
              "outlinewidth": 0,
              "ticks": ""
             }
            },
            "type": "parcoords"
           }
          ],
          "pie": [
           {
            "automargin": true,
            "type": "pie"
           }
          ],
          "scatter": [
           {
            "marker": {
             "colorbar": {
              "outlinewidth": 0,
              "ticks": ""
             }
            },
            "type": "scatter"
           }
          ],
          "scatter3d": [
           {
            "line": {
             "colorbar": {
              "outlinewidth": 0,
              "ticks": ""
             }
            },
            "marker": {
             "colorbar": {
              "outlinewidth": 0,
              "ticks": ""
             }
            },
            "type": "scatter3d"
           }
          ],
          "scattercarpet": [
           {
            "marker": {
             "colorbar": {
              "outlinewidth": 0,
              "ticks": ""
             }
            },
            "type": "scattercarpet"
           }
          ],
          "scattergeo": [
           {
            "marker": {
             "colorbar": {
              "outlinewidth": 0,
              "ticks": ""
             }
            },
            "type": "scattergeo"
           }
          ],
          "scattergl": [
           {
            "marker": {
             "colorbar": {
              "outlinewidth": 0,
              "ticks": ""
             }
            },
            "type": "scattergl"
           }
          ],
          "scattermapbox": [
           {
            "marker": {
             "colorbar": {
              "outlinewidth": 0,
              "ticks": ""
             }
            },
            "type": "scattermapbox"
           }
          ],
          "scatterpolar": [
           {
            "marker": {
             "colorbar": {
              "outlinewidth": 0,
              "ticks": ""
             }
            },
            "type": "scatterpolar"
           }
          ],
          "scatterpolargl": [
           {
            "marker": {
             "colorbar": {
              "outlinewidth": 0,
              "ticks": ""
             }
            },
            "type": "scatterpolargl"
           }
          ],
          "scatterternary": [
           {
            "marker": {
             "colorbar": {
              "outlinewidth": 0,
              "ticks": ""
             }
            },
            "type": "scatterternary"
           }
          ],
          "surface": [
           {
            "colorbar": {
             "outlinewidth": 0,
             "ticks": ""
            },
            "colorscale": [
             [
              0,
              "#0d0887"
             ],
             [
              0.1111111111111111,
              "#46039f"
             ],
             [
              0.2222222222222222,
              "#7201a8"
             ],
             [
              0.3333333333333333,
              "#9c179e"
             ],
             [
              0.4444444444444444,
              "#bd3786"
             ],
             [
              0.5555555555555556,
              "#d8576b"
             ],
             [
              0.6666666666666666,
              "#ed7953"
             ],
             [
              0.7777777777777778,
              "#fb9f3a"
             ],
             [
              0.8888888888888888,
              "#fdca26"
             ],
             [
              1,
              "#f0f921"
             ]
            ],
            "type": "surface"
           }
          ],
          "table": [
           {
            "cells": {
             "fill": {
              "color": "#EBF0F8"
             },
             "line": {
              "color": "white"
             }
            },
            "header": {
             "fill": {
              "color": "#C8D4E3"
             },
             "line": {
              "color": "white"
             }
            },
            "type": "table"
           }
          ]
         },
         "layout": {
          "annotationdefaults": {
           "arrowcolor": "#2a3f5f",
           "arrowhead": 0,
           "arrowwidth": 1
          },
          "coloraxis": {
           "colorbar": {
            "outlinewidth": 0,
            "ticks": ""
           }
          },
          "colorscale": {
           "diverging": [
            [
             0,
             "#8e0152"
            ],
            [
             0.1,
             "#c51b7d"
            ],
            [
             0.2,
             "#de77ae"
            ],
            [
             0.3,
             "#f1b6da"
            ],
            [
             0.4,
             "#fde0ef"
            ],
            [
             0.5,
             "#f7f7f7"
            ],
            [
             0.6,
             "#e6f5d0"
            ],
            [
             0.7,
             "#b8e186"
            ],
            [
             0.8,
             "#7fbc41"
            ],
            [
             0.9,
             "#4d9221"
            ],
            [
             1,
             "#276419"
            ]
           ],
           "sequential": [
            [
             0,
             "#0d0887"
            ],
            [
             0.1111111111111111,
             "#46039f"
            ],
            [
             0.2222222222222222,
             "#7201a8"
            ],
            [
             0.3333333333333333,
             "#9c179e"
            ],
            [
             0.4444444444444444,
             "#bd3786"
            ],
            [
             0.5555555555555556,
             "#d8576b"
            ],
            [
             0.6666666666666666,
             "#ed7953"
            ],
            [
             0.7777777777777778,
             "#fb9f3a"
            ],
            [
             0.8888888888888888,
             "#fdca26"
            ],
            [
             1,
             "#f0f921"
            ]
           ],
           "sequentialminus": [
            [
             0,
             "#0d0887"
            ],
            [
             0.1111111111111111,
             "#46039f"
            ],
            [
             0.2222222222222222,
             "#7201a8"
            ],
            [
             0.3333333333333333,
             "#9c179e"
            ],
            [
             0.4444444444444444,
             "#bd3786"
            ],
            [
             0.5555555555555556,
             "#d8576b"
            ],
            [
             0.6666666666666666,
             "#ed7953"
            ],
            [
             0.7777777777777778,
             "#fb9f3a"
            ],
            [
             0.8888888888888888,
             "#fdca26"
            ],
            [
             1,
             "#f0f921"
            ]
           ]
          },
          "colorway": [
           "#636efa",
           "#EF553B",
           "#00cc96",
           "#ab63fa",
           "#FFA15A",
           "#19d3f3",
           "#FF6692",
           "#B6E880",
           "#FF97FF",
           "#FECB52"
          ],
          "font": {
           "color": "#2a3f5f"
          },
          "geo": {
           "bgcolor": "white",
           "lakecolor": "white",
           "landcolor": "#E5ECF6",
           "showlakes": true,
           "showland": true,
           "subunitcolor": "white"
          },
          "hoverlabel": {
           "align": "left"
          },
          "hovermode": "closest",
          "mapbox": {
           "style": "light"
          },
          "paper_bgcolor": "white",
          "plot_bgcolor": "#E5ECF6",
          "polar": {
           "angularaxis": {
            "gridcolor": "white",
            "linecolor": "white",
            "ticks": ""
           },
           "bgcolor": "#E5ECF6",
           "radialaxis": {
            "gridcolor": "white",
            "linecolor": "white",
            "ticks": ""
           }
          },
          "scene": {
           "xaxis": {
            "backgroundcolor": "#E5ECF6",
            "gridcolor": "white",
            "gridwidth": 2,
            "linecolor": "white",
            "showbackground": true,
            "ticks": "",
            "zerolinecolor": "white"
           },
           "yaxis": {
            "backgroundcolor": "#E5ECF6",
            "gridcolor": "white",
            "gridwidth": 2,
            "linecolor": "white",
            "showbackground": true,
            "ticks": "",
            "zerolinecolor": "white"
           },
           "zaxis": {
            "backgroundcolor": "#E5ECF6",
            "gridcolor": "white",
            "gridwidth": 2,
            "linecolor": "white",
            "showbackground": true,
            "ticks": "",
            "zerolinecolor": "white"
           }
          },
          "shapedefaults": {
           "line": {
            "color": "#2a3f5f"
           }
          },
          "ternary": {
           "aaxis": {
            "gridcolor": "white",
            "linecolor": "white",
            "ticks": ""
           },
           "baxis": {
            "gridcolor": "white",
            "linecolor": "white",
            "ticks": ""
           },
           "bgcolor": "#E5ECF6",
           "caxis": {
            "gridcolor": "white",
            "linecolor": "white",
            "ticks": ""
           }
          },
          "title": {
           "x": 0.05
          },
          "xaxis": {
           "automargin": true,
           "gridcolor": "white",
           "linecolor": "white",
           "ticks": "",
           "title": {
            "standoff": 15
           },
           "zerolinecolor": "white",
           "zerolinewidth": 2
          },
          "yaxis": {
           "automargin": true,
           "gridcolor": "white",
           "linecolor": "white",
           "ticks": "",
           "title": {
            "standoff": 15
           },
           "zerolinecolor": "white",
           "zerolinewidth": 2
          }
         }
        },
        "title": {
         "text": "Happiness vs Generosity vs Economy"
        },
        "xaxis": {
         "autorange": false,
         "range": [
          0.43957043075008145,
          0.91527288742663
         ],
         "title": {
          "text": "Happiness Score"
         },
         "type": "log"
        },
        "yaxis": {
         "autorange": false,
         "range": [
          0,
          1.114232
         ],
         "title": {
          "text": "Generosity"
         }
        }
       }
      },
      "text/html": [
       "<div>                            <div id=\"88b8b876-5553-4fd2-b41c-0334174554d0\" class=\"plotly-graph-div\" style=\"height:650px; width:100%;\"></div>            <script type=\"text/javascript\">                require([\"plotly\"], function(Plotly) {                    window.PLOTLYENV=window.PLOTLYENV || {};                                    if (document.getElementById(\"88b8b876-5553-4fd2-b41c-0334174554d0\")) {                    Plotly.newPlot(                        \"88b8b876-5553-4fd2-b41c-0334174554d0\",                        [{\"marker\": {\"size\": [1.3965100000000001, 1.3023200000000001, 1.32548, 1.459, 1.29025, 1.32944, 1.33171, 1.33723, 1.5639100000000001, 1.33596, 1.30782, 1.26637, 1.32792, 1.27778, 1.23011, 1.2074, 1.25114, 1.2080600000000001, 1.20813, 1.15991, 1.15406], \"sizemode\": \"area\", \"sizeref\": 0.00052825625}, \"mode\": \"markers\", \"name\": \"Western Europe\", \"text\": [\"Switzerland\", \"Iceland\", \"Denmark\", \"Norway\", \"Finland\", \"Netherlands\", \"Sweden\", \"Austria\", \"Luxembourg\", \"Ireland\", \"Belgium\", \"United Kingdom\", \"Germany\", \"France\", \"Spain\", \"Malta\", \"Italy\", \"North Cyprus\", \"Cyprus\", \"Portugal\", \"Greece\"], \"type\": \"scatter\", \"x\": [7.587000000000001, 7.561, 7.527, 7.522, 7.406000000000001, 7.377999999999999, 7.364, 7.2, 6.946000000000001, 6.94, 6.937, 6.867000000000001, 6.75, 6.575, 6.329, 6.3020000000000005, 5.9479999999999995, 5.695, 5.689, 5.102, 4.857], \"y\": [0.29678000000000004, 0.4363, 0.34139, 0.34699, 0.23351, 0.4761, 0.36262, 0.33088, 0.28034000000000003, 0.45901000000000003, 0.2225, 0.51912, 0.28214, 0.12332, 0.18227000000000002, 0.51752, 0.22823000000000002, 0.26169000000000003, 0.30638000000000004, 0.13719, 0.0]}, {\"marker\": {\"size\": [1.32629, 1.3945100000000001], \"sizemode\": \"area\", \"sizeref\": 0.00052825625}, \"mode\": \"markers\", \"name\": \"North America\", \"text\": [\"Canada\", \"United States\"], \"type\": \"scatter\", \"x\": [7.4270000000000005, 7.119], \"y\": [0.45811, 0.40105]}, {\"marker\": {\"size\": [1.2501799999999998, 1.33358], \"sizemode\": \"area\", \"sizeref\": 0.00052825625}, \"mode\": \"markers\", \"name\": \"Australia and New Zealand\", \"text\": [\"New Zealand\", \"Australia\"], \"type\": \"scatter\", \"x\": [7.2860000000000005, 7.284], \"y\": [0.47501000000000004, 0.43562]}, {\"marker\": {\"size\": [1.2285700000000002, 1.42727, 1.36011, 1.69042, 1.39541, 1.5542200000000002, 1.32376, 1.13145, 0.93929, 1.06098, 0.9019799999999999, 0.7347899999999999, 1.0256399999999999, 0.88113, 0.59867, 1.0088, 0.98549, 0.8818, 0.5464899999999999, 0.6632], \"sizemode\": \"area\", \"sizeref\": 0.00052825625}, \"mode\": \"markers\", \"name\": \"Middle East and Northern Africa\", \"text\": [\"Israel\", \"United Arab Emirates\", \"Oman\", \"Qatar\", \"Saudi Arabia\", \"Kuwait\", \"Bahrain\", \"Libya\", \"Algeria\", \"Turkey\", \"Jordan\", \"Morocco\", \"Lebanon\", \"Tunisia\", \"Palestinian Territories\", \"Iran\", \"Iraq\", \"Egypt\", \"Yemen\", \"Syria\"], \"type\": \"scatter\", \"x\": [7.278, 6.901, 6.853, 6.611000000000001, 6.4110000000000005, 6.295, 5.96, 5.754, 5.605, 5.332000000000001, 5.192, 5.013, 4.8389999999999995, 4.739, 4.715, 4.686, 4.677, 4.194, 4.077, 3.0060000000000002], \"y\": [0.33171999999999996, 0.26428, 0.21541999999999997, 0.32573, 0.13706, 0.16228, 0.17362, 0.18295, 0.07822, 0.12253, 0.11052999999999999, 0.07172, 0.21854, 0.06431, 0.11250999999999999, 0.38086, 0.17922000000000002, 0.11291, 0.09131, 0.47179]}, {\"marker\": {\"size\": [0.95578, 1.02054, 0.98124, 1.04424, 1.0635299999999999, 1.10715, 1.05351, 1.06166, 0.91861, 0.99534, 1.21183, 0.76454, 0.74553, 0.8640200000000001, 0.68133, 0.75985, 0.59325, 0.9001899999999999, 0.81038, 0.8953700000000001, 0.59532, 0.26673], \"sizemode\": \"area\", \"sizeref\": 0.00052825625}, \"mode\": \"markers\", \"name\": \"Latin America and Caribbean\", \"text\": [\"Costa Rica\", \"Mexico\", \"Brazil\", \"Venezuela\", \"Panama\", \"Chile\", \"Argentina\", \"Uruguay\", \"Colombia\", \"Suriname\", \"Trinidad and Tobago\", \"El Salvador\", \"Guatemala\", \"Ecuador\", \"Bolivia\", \"Paraguay\", \"Nicaragua\", \"Peru\", \"Jamaica\", \"Dominican Republic\", \"Honduras\", \"Haiti\"], \"type\": \"scatter\", \"x\": [7.226, 7.187, 6.983, 6.81, 6.7860000000000005, 6.67, 6.574, 6.485, 6.477, 6.269, 6.167999999999999, 6.13, 6.122999999999999, 5.975, 5.89, 5.877999999999999, 5.827999999999999, 5.824, 5.709, 4.885, 4.788, 4.518], \"y\": [0.25497, 0.14074, 0.14574, 0.058410000000000004, 0.24434, 0.33363000000000004, 0.11450999999999999, 0.2324, 0.18400999999999998, 0.16990999999999998, 0.31844, 0.10692, 0.27489, 0.11540999999999998, 0.20536, 0.3424, 0.27815, 0.14982, 0.2123, 0.21684, 0.23026999999999997, 0.46187]}, {\"marker\": {\"size\": [1.52186, 0.9669, 1.12486, 0.8282700000000001, 0.63216, 0.70532, 0.5906600000000001, 0.27108000000000004, 0.46038], \"sizemode\": \"area\", \"sizeref\": 0.00052825625}, \"mode\": \"markers\", \"name\": \"Southeastern Asia\", \"text\": [\"Singapore\", \"Thailand\", \"Malaysia\", \"Indonesia\", \"Vietnam\", \"Philippines\", \"Laos\", \"Myanmar\", \"Cambodia\"], \"type\": \"scatter\", \"x\": [6.797999999999999, 6.455, 5.77, 5.399, 5.36, 5.073, 4.876, 4.3069999999999995, 3.819], \"y\": [0.31105, 0.5763, 0.33075, 0.51535, 0.1686, 0.24991, 0.42191999999999996, 0.79588, 0.40359]}, {\"marker\": {\"size\": [1.17898, 0.63244, 1.1689100000000001, 0.59448, 1.1225399999999999, 1.18498, 1.14723, 1.0319200000000002, 1.12555, 1.08254, 1.13764, 0.80148, 0.95847, 1.15174, 0.47428000000000003, 1.02389, 0.9743799999999999, 1.04345, 0.92053, 1.11312, 0.91851, 0.8786700000000001, 0.8322299999999999, 1.12094, 0.39047, 0.79907, 0.7682100000000001, 0.7419, 1.01216], \"sizemode\": \"area\", \"sizeref\": 0.00052825625}, \"mode\": \"markers\", \"name\": \"Central and Eastern Europe\", \"text\": [\"Czech Republic\", \"Uzbekistan\", \"Slovakia\", \"Moldova\", \"Kazakhstan\", \"Slovenia\", \"Lithuania\", \"Belarus\", \"Poland\", \"Croatia\", \"Russia\", \"Kosovo\", \"Turkmenistan\", \"Estonia\", \"Kyrgyzstan\", \"Azerbaijan\", \"Montenegro\", \"Romania\", \"Serbia\", \"Latvia\", \"Macedonia\", \"Albania\", \"Bosnia and Herzegovina\", \"Hungary\", \"Tajikistan\", \"Ukraine\", \"Armenia\", \"Georgia\", \"Bulgaria\"], \"type\": \"scatter\", \"x\": [6.505, 6.002999999999999, 5.995, 5.888999999999999, 5.855, 5.848, 5.832999999999999, 5.813, 5.791, 5.7589999999999995, 5.716, 5.5889999999999995, 5.547999999999999, 5.428999999999999, 5.2860000000000005, 5.212000000000001, 5.192, 5.124, 5.122999999999999, 5.098, 5.007, 4.959, 4.949, 4.8, 4.7860000000000005, 4.681, 4.35, 4.297, 4.218], \"y\": [0.10686, 0.22837, 0.16893, 0.20951, 0.11827, 0.25328, 0.026410000000000003, 0.11045999999999999, 0.16759000000000002, 0.054439999999999995, 0.00199, 0.2831, 0.16979, 0.0868, 0.3003, 0.07799, 0.1614, 0.13748, 0.19230999999999998, 0.18225999999999998, 0.22359, 0.14272, 0.24808000000000002, 0.128, 0.22974, 0.15275, 0.07855, 0.055470000000000005, 0.11921]}, {\"marker\": {\"size\": [1.29098, 1.27074, 1.24461, 1.38604, 0.89012, 0.82819], \"sizemode\": \"area\", \"sizeref\": 0.00052825625}, \"mode\": \"markers\", \"name\": \"Eastern Asia\", \"text\": [\"Taiwan\", \"Japan\", \"South Korea\", \"Hong Kong\", \"China\", \"Mongolia\"], \"type\": \"scatter\", \"x\": [6.297999999999999, 5.987, 5.984, 5.474, 5.14, 4.874], \"y\": [0.25376, 0.10705, 0.18557, 0.39478, 0.08185, 0.3323]}, {\"marker\": {\"size\": [1.0076100000000001, 0.65435, 0.47038, 0.18847, 0.08308, 0.37545, 0.71206, 0.9204899999999999, 0.5455800000000001, 0.271, 0.0712, 0.52107, 0.0, 0.19072999999999998, 0.33024000000000003, 0.45407, 0.36471, 0.44025, 0.99355, 0.016040000000000002, 0.4225, 0.75778, 0.26074, 0.67866, 0.23906, 0.21101999999999999, 0.36498, 1.06024, 0.0694, 0.2852, 0.20824, 0.0785, 0.34193, 0.17417, 0.46534, 0.25811999999999996, 0.22208000000000003, 0.28665, 0.0153, 0.20868], \"sizemode\": \"area\", \"sizeref\": 0.00052825625}, \"mode\": \"markers\", \"name\": \"Sub-Saharan Africa\", \"text\": [\"Mauritius\", \"Nigeria\", \"Zambia\", \"Somaliland region\", \"Mozambique\", \"Lesotho\", \"Swaziland\", \"South Africa\", \"Ghana\", \"Zimbabwe\", \"Liberia\", \"Sudan\", \"Congo (Kinshasa)\", \"Ethiopia\", \"Sierra Leone\", \"Mauritania\", \"Kenya\", \"Djibouti\", \"Botswana\", \"Malawi\", \"Cameroon\", \"Angola\", \"Mali\", \"Congo (Brazzaville)\", \"Comoros\", \"Uganda\", \"Senegal\", \"Gabon\", \"Niger\", \"Tanzania\", \"Madagascar\", \"Central African Republic\", \"Chad\", \"Guinea\", \"Ivory Coast\", \"Burkina Faso\", \"Rwanda\", \"Benin\", \"Burundi\", \"Togo\"], \"type\": \"scatter\", \"x\": [5.477, 5.268, 5.129, 5.0569999999999995, 4.971, 4.898, 4.867, 4.6419999999999995, 4.633, 4.61, 4.571000000000001, 4.55, 4.5169999999999995, 4.512, 4.507, 4.436, 4.419, 4.369, 4.332, 4.292, 4.252, 4.033, 3.995, 3.989, 3.9560000000000004, 3.931, 3.904, 3.8960000000000004, 3.845, 3.781, 3.681, 3.678, 3.667, 3.656, 3.655, 3.5869999999999997, 3.465, 3.34, 2.905, 2.839], \"y\": [0.37744, 0.27233, 0.19591, 0.5031800000000001, 0.22269, 0.16388, 0.18259, 0.11972999999999999, 0.23087, 0.18987, 0.24361999999999998, 0.19062, 0.24834, 0.24325, 0.21488000000000002, 0.21899999999999997, 0.37542, 0.18093, 0.10461, 0.33128, 0.20618000000000003, 0.12344000000000001, 0.18798, 0.12387999999999999, 0.17440999999999998, 0.29066, 0.20843000000000003, 0.06822, 0.19387000000000001, 0.34376999999999996, 0.21333000000000002, 0.23835, 0.18386, 0.28657, 0.20165, 0.21746999999999997, 0.22628, 0.1826, 0.19727, 0.16680999999999999]}, {\"marker\": {\"size\": [0.77042, 0.59543, 0.39753, 0.64499, 0.35996999999999996, 0.83524, 0.31982], \"sizemode\": \"area\", \"sizeref\": 0.00052825625}, \"mode\": \"markers\", \"name\": \"Southern Asia\", \"text\": [\"Bhutan\", \"Pakistan\", \"Bangladesh\", \"India\", \"Nepal\", \"Sri Lanka\", \"Afghanistan\"], \"type\": \"scatter\", \"x\": [5.252999999999999, 5.194, 4.694, 4.565, 4.513999999999999, 4.271, 3.575], \"y\": [0.47998, 0.33671, 0.21222, 0.26475, 0.32295999999999997, 0.40828000000000003, 0.3651]}],                        {\"height\": 650, \"hovermode\": \"closest\", \"margin\": {\"b\": 50, \"pad\": 5, \"t\": 50}, \"showlegend\": true, \"template\": {\"data\": {\"bar\": [{\"error_x\": {\"color\": \"#2a3f5f\"}, \"error_y\": {\"color\": \"#2a3f5f\"}, \"marker\": {\"line\": {\"color\": \"#E5ECF6\", \"width\": 0.5}}, \"type\": \"bar\"}], \"barpolar\": [{\"marker\": {\"line\": {\"color\": \"#E5ECF6\", \"width\": 0.5}}, \"type\": \"barpolar\"}], \"carpet\": [{\"aaxis\": {\"endlinecolor\": \"#2a3f5f\", \"gridcolor\": \"white\", \"linecolor\": \"white\", \"minorgridcolor\": \"white\", \"startlinecolor\": \"#2a3f5f\"}, \"baxis\": {\"endlinecolor\": \"#2a3f5f\", \"gridcolor\": \"white\", \"linecolor\": \"white\", \"minorgridcolor\": \"white\", \"startlinecolor\": \"#2a3f5f\"}, \"type\": \"carpet\"}], \"choropleth\": [{\"colorbar\": {\"outlinewidth\": 0, \"ticks\": \"\"}, \"type\": \"choropleth\"}], \"contour\": [{\"colorbar\": {\"outlinewidth\": 0, \"ticks\": \"\"}, \"colorscale\": [[0.0, \"#0d0887\"], [0.1111111111111111, \"#46039f\"], [0.2222222222222222, \"#7201a8\"], [0.3333333333333333, \"#9c179e\"], [0.4444444444444444, \"#bd3786\"], [0.5555555555555556, \"#d8576b\"], [0.6666666666666666, \"#ed7953\"], [0.7777777777777778, \"#fb9f3a\"], [0.8888888888888888, \"#fdca26\"], [1.0, \"#f0f921\"]], \"type\": \"contour\"}], \"contourcarpet\": [{\"colorbar\": {\"outlinewidth\": 0, \"ticks\": \"\"}, \"type\": \"contourcarpet\"}], \"heatmap\": [{\"colorbar\": {\"outlinewidth\": 0, \"ticks\": \"\"}, \"colorscale\": [[0.0, \"#0d0887\"], [0.1111111111111111, \"#46039f\"], [0.2222222222222222, \"#7201a8\"], [0.3333333333333333, \"#9c179e\"], [0.4444444444444444, \"#bd3786\"], [0.5555555555555556, \"#d8576b\"], [0.6666666666666666, \"#ed7953\"], [0.7777777777777778, \"#fb9f3a\"], [0.8888888888888888, \"#fdca26\"], [1.0, \"#f0f921\"]], \"type\": \"heatmap\"}], \"heatmapgl\": [{\"colorbar\": {\"outlinewidth\": 0, \"ticks\": \"\"}, \"colorscale\": [[0.0, \"#0d0887\"], [0.1111111111111111, \"#46039f\"], [0.2222222222222222, \"#7201a8\"], [0.3333333333333333, \"#9c179e\"], [0.4444444444444444, \"#bd3786\"], [0.5555555555555556, \"#d8576b\"], [0.6666666666666666, \"#ed7953\"], [0.7777777777777778, \"#fb9f3a\"], [0.8888888888888888, \"#fdca26\"], [1.0, \"#f0f921\"]], \"type\": \"heatmapgl\"}], \"histogram\": [{\"marker\": {\"colorbar\": {\"outlinewidth\": 0, \"ticks\": \"\"}}, \"type\": \"histogram\"}], \"histogram2d\": [{\"colorbar\": {\"outlinewidth\": 0, \"ticks\": \"\"}, \"colorscale\": [[0.0, \"#0d0887\"], [0.1111111111111111, \"#46039f\"], [0.2222222222222222, \"#7201a8\"], [0.3333333333333333, \"#9c179e\"], [0.4444444444444444, \"#bd3786\"], [0.5555555555555556, \"#d8576b\"], [0.6666666666666666, \"#ed7953\"], [0.7777777777777778, \"#fb9f3a\"], [0.8888888888888888, \"#fdca26\"], [1.0, \"#f0f921\"]], \"type\": \"histogram2d\"}], \"histogram2dcontour\": [{\"colorbar\": {\"outlinewidth\": 0, \"ticks\": \"\"}, \"colorscale\": [[0.0, \"#0d0887\"], [0.1111111111111111, \"#46039f\"], [0.2222222222222222, \"#7201a8\"], [0.3333333333333333, \"#9c179e\"], [0.4444444444444444, \"#bd3786\"], [0.5555555555555556, \"#d8576b\"], [0.6666666666666666, \"#ed7953\"], [0.7777777777777778, \"#fb9f3a\"], [0.8888888888888888, \"#fdca26\"], [1.0, \"#f0f921\"]], \"type\": \"histogram2dcontour\"}], \"mesh3d\": [{\"colorbar\": {\"outlinewidth\": 0, \"ticks\": \"\"}, \"type\": \"mesh3d\"}], \"parcoords\": [{\"line\": {\"colorbar\": {\"outlinewidth\": 0, \"ticks\": \"\"}}, \"type\": \"parcoords\"}], \"pie\": [{\"automargin\": true, \"type\": \"pie\"}], \"scatter\": [{\"marker\": {\"colorbar\": {\"outlinewidth\": 0, \"ticks\": \"\"}}, \"type\": \"scatter\"}], \"scatter3d\": [{\"line\": {\"colorbar\": {\"outlinewidth\": 0, \"ticks\": \"\"}}, \"marker\": {\"colorbar\": {\"outlinewidth\": 0, \"ticks\": \"\"}}, \"type\": \"scatter3d\"}], \"scattercarpet\": [{\"marker\": {\"colorbar\": {\"outlinewidth\": 0, \"ticks\": \"\"}}, \"type\": \"scattercarpet\"}], \"scattergeo\": [{\"marker\": {\"colorbar\": {\"outlinewidth\": 0, \"ticks\": \"\"}}, \"type\": \"scattergeo\"}], \"scattergl\": [{\"marker\": {\"colorbar\": {\"outlinewidth\": 0, \"ticks\": \"\"}}, \"type\": \"scattergl\"}], \"scattermapbox\": [{\"marker\": {\"colorbar\": {\"outlinewidth\": 0, \"ticks\": \"\"}}, \"type\": \"scattermapbox\"}], \"scatterpolar\": [{\"marker\": {\"colorbar\": {\"outlinewidth\": 0, \"ticks\": \"\"}}, \"type\": \"scatterpolar\"}], \"scatterpolargl\": [{\"marker\": {\"colorbar\": {\"outlinewidth\": 0, \"ticks\": \"\"}}, \"type\": \"scatterpolargl\"}], \"scatterternary\": [{\"marker\": {\"colorbar\": {\"outlinewidth\": 0, \"ticks\": \"\"}}, \"type\": \"scatterternary\"}], \"surface\": [{\"colorbar\": {\"outlinewidth\": 0, \"ticks\": \"\"}, \"colorscale\": [[0.0, \"#0d0887\"], [0.1111111111111111, \"#46039f\"], [0.2222222222222222, \"#7201a8\"], [0.3333333333333333, \"#9c179e\"], [0.4444444444444444, \"#bd3786\"], [0.5555555555555556, \"#d8576b\"], [0.6666666666666666, \"#ed7953\"], [0.7777777777777778, \"#fb9f3a\"], [0.8888888888888888, \"#fdca26\"], [1.0, \"#f0f921\"]], \"type\": \"surface\"}], \"table\": [{\"cells\": {\"fill\": {\"color\": \"#EBF0F8\"}, \"line\": {\"color\": \"white\"}}, \"header\": {\"fill\": {\"color\": \"#C8D4E3\"}, \"line\": {\"color\": \"white\"}}, \"type\": \"table\"}]}, \"layout\": {\"annotationdefaults\": {\"arrowcolor\": \"#2a3f5f\", \"arrowhead\": 0, \"arrowwidth\": 1}, \"coloraxis\": {\"colorbar\": {\"outlinewidth\": 0, \"ticks\": \"\"}}, \"colorscale\": {\"diverging\": [[0, \"#8e0152\"], [0.1, \"#c51b7d\"], [0.2, \"#de77ae\"], [0.3, \"#f1b6da\"], [0.4, \"#fde0ef\"], [0.5, \"#f7f7f7\"], [0.6, \"#e6f5d0\"], [0.7, \"#b8e186\"], [0.8, \"#7fbc41\"], [0.9, \"#4d9221\"], [1, \"#276419\"]], \"sequential\": [[0.0, \"#0d0887\"], [0.1111111111111111, \"#46039f\"], [0.2222222222222222, \"#7201a8\"], [0.3333333333333333, \"#9c179e\"], [0.4444444444444444, \"#bd3786\"], [0.5555555555555556, \"#d8576b\"], [0.6666666666666666, \"#ed7953\"], [0.7777777777777778, \"#fb9f3a\"], [0.8888888888888888, \"#fdca26\"], [1.0, \"#f0f921\"]], \"sequentialminus\": [[0.0, \"#0d0887\"], [0.1111111111111111, \"#46039f\"], [0.2222222222222222, \"#7201a8\"], [0.3333333333333333, \"#9c179e\"], [0.4444444444444444, \"#bd3786\"], [0.5555555555555556, \"#d8576b\"], [0.6666666666666666, \"#ed7953\"], [0.7777777777777778, \"#fb9f3a\"], [0.8888888888888888, \"#fdca26\"], [1.0, \"#f0f921\"]]}, \"colorway\": [\"#636efa\", \"#EF553B\", \"#00cc96\", \"#ab63fa\", \"#FFA15A\", \"#19d3f3\", \"#FF6692\", \"#B6E880\", \"#FF97FF\", \"#FECB52\"], \"font\": {\"color\": \"#2a3f5f\"}, \"geo\": {\"bgcolor\": \"white\", \"lakecolor\": \"white\", \"landcolor\": \"#E5ECF6\", \"showlakes\": true, \"showland\": true, \"subunitcolor\": \"white\"}, \"hoverlabel\": {\"align\": \"left\"}, \"hovermode\": \"closest\", \"mapbox\": {\"style\": \"light\"}, \"paper_bgcolor\": \"white\", \"plot_bgcolor\": \"#E5ECF6\", \"polar\": {\"angularaxis\": {\"gridcolor\": \"white\", \"linecolor\": \"white\", \"ticks\": \"\"}, \"bgcolor\": \"#E5ECF6\", \"radialaxis\": {\"gridcolor\": \"white\", \"linecolor\": \"white\", \"ticks\": \"\"}}, \"scene\": {\"xaxis\": {\"backgroundcolor\": \"#E5ECF6\", \"gridcolor\": \"white\", \"gridwidth\": 2, \"linecolor\": \"white\", \"showbackground\": true, \"ticks\": \"\", \"zerolinecolor\": \"white\"}, \"yaxis\": {\"backgroundcolor\": \"#E5ECF6\", \"gridcolor\": \"white\", \"gridwidth\": 2, \"linecolor\": \"white\", \"showbackground\": true, \"ticks\": \"\", \"zerolinecolor\": \"white\"}, \"zaxis\": {\"backgroundcolor\": \"#E5ECF6\", \"gridcolor\": \"white\", \"gridwidth\": 2, \"linecolor\": \"white\", \"showbackground\": true, \"ticks\": \"\", \"zerolinecolor\": \"white\"}}, \"shapedefaults\": {\"line\": {\"color\": \"#2a3f5f\"}}, \"ternary\": {\"aaxis\": {\"gridcolor\": \"white\", \"linecolor\": \"white\", \"ticks\": \"\"}, \"baxis\": {\"gridcolor\": \"white\", \"linecolor\": \"white\", \"ticks\": \"\"}, \"bgcolor\": \"#E5ECF6\", \"caxis\": {\"gridcolor\": \"white\", \"linecolor\": \"white\", \"ticks\": \"\"}}, \"title\": {\"x\": 0.05}, \"xaxis\": {\"automargin\": true, \"gridcolor\": \"white\", \"linecolor\": \"white\", \"ticks\": \"\", \"title\": {\"standoff\": 15}, \"zerolinecolor\": \"white\", \"zerolinewidth\": 2}, \"yaxis\": {\"automargin\": true, \"gridcolor\": \"white\", \"linecolor\": \"white\", \"ticks\": \"\", \"title\": {\"standoff\": 15}, \"zerolinecolor\": \"white\", \"zerolinewidth\": 2}}}, \"title\": {\"text\": \"Happiness vs Generosity vs Economy\"}, \"xaxis\": {\"autorange\": false, \"range\": [0.43957043075008145, 0.91527288742663], \"title\": {\"text\": \"Happiness Score\"}, \"type\": \"log\"}, \"yaxis\": {\"autorange\": false, \"range\": [0.0, 1.114232], \"title\": {\"text\": \"Generosity\"}}},                        {\"scrollzoom\": true, \"responsive\": true}                    ).then(function(){\n",
       "                            \n",
       "var gd = document.getElementById('88b8b876-5553-4fd2-b41c-0334174554d0');\n",
       "var x = new MutationObserver(function (mutations, observer) {{\n",
       "        var display = window.getComputedStyle(gd).display;\n",
       "        if (!display || display === 'none') {{\n",
       "            console.log([gd, 'removed!']);\n",
       "            Plotly.purge(gd);\n",
       "            observer.disconnect();\n",
       "        }}\n",
       "}});\n",
       "\n",
       "// Listen for the removal of the full notebook cells\n",
       "var notebookContainer = gd.closest('#notebook-container');\n",
       "if (notebookContainer) {{\n",
       "    x.observe(notebookContainer, {childList: true});\n",
       "}}\n",
       "\n",
       "// Listen for the clearing of the current output cell\n",
       "var outputEl = gd.closest('.output');\n",
       "if (outputEl) {{\n",
       "    x.observe(outputEl, {childList: true});\n",
       "}}\n",
       "\n",
       "                        })                };                });            </script>        </div>"
      ]
     },
     "metadata": {},
     "output_type": "display_data"
    }
   ],
   "source": [
    "\n",
    "figure = bubbleplot(dataset = data_2015, x_column = 'Happiness Score', y_column = 'Generosity', \n",
    "    bubble_column = 'Country', size_column = 'Economy (GDP per Capita)', color_column = 'Region', \n",
    "    x_title = \"Happiness Score\", y_title = \"Generosity\", title = 'Happiness vs Generosity vs Economy',\n",
    "    x_logscale = True, scale_bubble = 1, height = 650)\n",
    "\n",
    "py.iplot(figure, config={'scrollzoom': True})"
   ]
  },
  {
   "cell_type": "code",
   "execution_count": 53,
   "metadata": {},
   "outputs": [
    {
     "data": {
      "application/vnd.plotly.v1+json": {
       "config": {
        "linkText": "Export to plot.ly",
        "plotlyServerURL": "https://plot.ly",
        "scrollzoom": true,
        "showLink": false
       },
       "data": [
        {
         "marker": {
          "size": [
           1.3965100000000001,
           1.3023200000000001,
           1.32548,
           1.459,
           1.29025,
           1.32944,
           1.33171,
           1.33723,
           1.5639100000000001,
           1.33596,
           1.30782,
           1.26637,
           1.32792,
           1.27778,
           1.23011,
           1.2074,
           1.25114,
           1.2080600000000001,
           1.20813,
           1.15991,
           1.15406
          ],
          "sizemode": "area",
          "sizeref": 0.00052825625
         },
         "mode": "markers",
         "name": "Western Europe",
         "text": [
          "Switzerland",
          "Iceland",
          "Denmark",
          "Norway",
          "Finland",
          "Netherlands",
          "Sweden",
          "Austria",
          "Luxembourg",
          "Ireland",
          "Belgium",
          "United Kingdom",
          "Germany",
          "France",
          "Spain",
          "Malta",
          "Italy",
          "North Cyprus",
          "Cyprus",
          "Portugal",
          "Greece"
         ],
         "type": "scatter",
         "x": [
          7.587000000000001,
          7.561,
          7.527,
          7.522,
          7.406000000000001,
          7.377999999999999,
          7.364,
          7.2,
          6.946000000000001,
          6.94,
          6.937,
          6.867000000000001,
          6.75,
          6.575,
          6.329,
          6.3020000000000005,
          5.9479999999999995,
          5.695,
          5.689,
          5.102,
          4.857
         ],
         "y": [
          0.41978000000000004,
          0.14145,
          0.48357,
          0.36503,
          0.41372,
          0.31814000000000003,
          0.43843999999999994,
          0.18675999999999998,
          0.37798000000000004,
          0.28703,
          0.2254,
          0.32066999999999996,
          0.21843,
          0.20646,
          0.06398,
          0.13585999999999998,
          0.02901,
          0.1428,
          0.06146,
          0.01078,
          0.013969999999999998
         ]
        },
        {
         "marker": {
          "size": [
           1.32629,
           1.3945100000000001
          ],
          "sizemode": "area",
          "sizeref": 0.00052825625
         },
         "mode": "markers",
         "name": "North America",
         "text": [
          "Canada",
          "United States"
         ],
         "type": "scatter",
         "x": [
          7.4270000000000005,
          7.119
         ],
         "y": [
          0.32957,
          0.1589
         ]
        },
        {
         "marker": {
          "size": [
           1.2501799999999998,
           1.33358
          ],
          "sizemode": "area",
          "sizeref": 0.00052825625
         },
         "mode": "markers",
         "name": "Australia and New Zealand",
         "text": [
          "New Zealand",
          "Australia"
         ],
         "type": "scatter",
         "x": [
          7.2860000000000005,
          7.284
         ],
         "y": [
          0.42922,
          0.35636999999999996
         ]
        },
        {
         "marker": {
          "size": [
           1.2285700000000002,
           1.42727,
           1.36011,
           1.69042,
           1.39541,
           1.5542200000000002,
           1.32376,
           1.13145,
           0.93929,
           1.06098,
           0.9019799999999999,
           0.7347899999999999,
           1.0256399999999999,
           0.88113,
           0.59867,
           1.0088,
           0.98549,
           0.8818,
           0.5464899999999999,
           0.6632
          ],
          "sizemode": "area",
          "sizeref": 0.00052825625
         },
         "mode": "markers",
         "name": "Middle East and Northern Africa",
         "text": [
          "Israel",
          "United Arab Emirates",
          "Oman",
          "Qatar",
          "Saudi Arabia",
          "Kuwait",
          "Bahrain",
          "Libya",
          "Algeria",
          "Turkey",
          "Jordan",
          "Morocco",
          "Lebanon",
          "Tunisia",
          "Palestinian Territories",
          "Iran",
          "Iraq",
          "Egypt",
          "Yemen",
          "Syria"
         ],
         "type": "scatter",
         "x": [
          7.278,
          6.901,
          6.853,
          6.611000000000001,
          6.4110000000000005,
          6.295,
          5.96,
          5.754,
          5.605,
          5.332000000000001,
          5.192,
          5.013,
          4.8389999999999995,
          4.739,
          4.715,
          4.686,
          4.677,
          4.194,
          4.077,
          3.0060000000000002
         ],
         "y": [
          0.07785,
          0.38583,
          0.32524000000000003,
          0.52208,
          0.32524000000000003,
          0.25609,
          0.306,
          0.11023,
          0.17382999999999998,
          0.15746,
          0.14293,
          0.08546000000000001,
          0.04582,
          0.06358,
          0.12905,
          0.058629999999999995,
          0.13788,
          0.06324,
          0.07854,
          0.18905999999999998
         ]
        },
        {
         "marker": {
          "size": [
           0.95578,
           1.02054,
           0.98124,
           1.04424,
           1.0635299999999999,
           1.10715,
           1.05351,
           1.06166,
           0.91861,
           0.99534,
           1.21183,
           0.76454,
           0.74553,
           0.8640200000000001,
           0.68133,
           0.75985,
           0.59325,
           0.9001899999999999,
           0.81038,
           0.8953700000000001,
           0.59532,
           0.26673
          ],
          "sizemode": "area",
          "sizeref": 0.00052825625
         },
         "mode": "markers",
         "name": "Latin America and Caribbean",
         "text": [
          "Costa Rica",
          "Mexico",
          "Brazil",
          "Venezuela",
          "Panama",
          "Chile",
          "Argentina",
          "Uruguay",
          "Colombia",
          "Suriname",
          "Trinidad and Tobago",
          "El Salvador",
          "Guatemala",
          "Ecuador",
          "Bolivia",
          "Paraguay",
          "Nicaragua",
          "Peru",
          "Jamaica",
          "Dominican Republic",
          "Honduras",
          "Haiti"
         ],
         "type": "scatter",
         "x": [
          7.226,
          7.187,
          6.983,
          6.81,
          6.7860000000000005,
          6.67,
          6.574,
          6.485,
          6.477,
          6.269,
          6.167999999999999,
          6.13,
          6.122999999999999,
          5.975,
          5.89,
          5.877999999999999,
          5.827999999999999,
          5.824,
          5.709,
          4.885,
          4.788,
          4.518
         ],
         "y": [
          0.10583,
          0.21311999999999998,
          0.17521,
          0.11069000000000001,
          0.0927,
          0.12869,
          0.08484,
          0.24558000000000002,
          0.0512,
          0.13633,
          0.0114,
          0.11775999999999999,
          0.09472,
          0.1809,
          0.08800000000000001,
          0.08242000000000001,
          0.19317,
          0.05989,
          0.02299,
          0.14234000000000002,
          0.06825,
          0.17175
         ]
        },
        {
         "marker": {
          "size": [
           1.52186,
           0.9669,
           1.12486,
           0.8282700000000001,
           0.63216,
           0.70532,
           0.5906600000000001,
           0.27108000000000004,
           0.46038
          ],
          "sizemode": "area",
          "sizeref": 0.00052825625
         },
         "mode": "markers",
         "name": "Southeastern Asia",
         "text": [
          "Singapore",
          "Thailand",
          "Malaysia",
          "Indonesia",
          "Vietnam",
          "Philippines",
          "Laos",
          "Myanmar",
          "Cambodia"
         ],
         "type": "scatter",
         "x": [
          6.797999999999999,
          6.455,
          5.77,
          5.399,
          5.36,
          5.073,
          4.876,
          4.3069999999999995,
          3.819
         ],
         "y": [
          0.4921,
          0.031869999999999996,
          0.10500999999999999,
          0,
          0.10440999999999999,
          0.12279000000000001,
          0.24249,
          0.19034,
          0.07247
         ]
        },
        {
         "marker": {
          "size": [
           1.17898,
           0.63244,
           1.1689100000000001,
           0.59448,
           1.1225399999999999,
           1.18498,
           1.14723,
           1.0319200000000002,
           1.12555,
           1.08254,
           1.13764,
           0.80148,
           0.95847,
           1.15174,
           0.47428000000000003,
           1.02389,
           0.9743799999999999,
           1.04345,
           0.92053,
           1.11312,
           0.91851,
           0.8786700000000001,
           0.8322299999999999,
           1.12094,
           0.39047,
           0.79907,
           0.7682100000000001,
           0.7419,
           1.01216
          ],
          "sizemode": "area",
          "sizeref": 0.00052825625
         },
         "mode": "markers",
         "name": "Central and Eastern Europe",
         "text": [
          "Czech Republic",
          "Uzbekistan",
          "Slovakia",
          "Moldova",
          "Kazakhstan",
          "Slovenia",
          "Lithuania",
          "Belarus",
          "Poland",
          "Croatia",
          "Russia",
          "Kosovo",
          "Turkmenistan",
          "Estonia",
          "Kyrgyzstan",
          "Azerbaijan",
          "Montenegro",
          "Romania",
          "Serbia",
          "Latvia",
          "Macedonia",
          "Albania",
          "Bosnia and Herzegovina",
          "Hungary",
          "Tajikistan",
          "Ukraine",
          "Armenia",
          "Georgia",
          "Bulgaria"
         ],
         "type": "scatter",
         "x": [
          6.505,
          6.002999999999999,
          5.995,
          5.888999999999999,
          5.855,
          5.848,
          5.832999999999999,
          5.813,
          5.791,
          5.7589999999999995,
          5.716,
          5.5889999999999995,
          5.547999999999999,
          5.428999999999999,
          5.2860000000000005,
          5.212000000000001,
          5.192,
          5.124,
          5.122999999999999,
          5.098,
          5.007,
          4.959,
          4.949,
          4.8,
          4.7860000000000005,
          4.681,
          4.35,
          4.297,
          4.218
         ],
         "y": [
          0.02652,
          0.30826,
          0.03431,
          0.01615,
          0.08454,
          0.03787,
          0.01031,
          0.1909,
          0.04212,
          0.0243,
          0.03005,
          0.04741,
          0.30844,
          0.15184,
          0.042319999999999997,
          0.16065,
          0.14296,
          0.006490000000000001,
          0.02617,
          0.06332,
          0.053270000000000005,
          0.06412999999999999,
          0.00227,
          0.02758,
          0.15072,
          0.02961,
          0.039,
          0.38331,
          0.00872
         ]
        },
        {
         "marker": {
          "size": [
           1.29098,
           1.27074,
           1.24461,
           1.38604,
           0.89012,
           0.82819
          ],
          "sizemode": "area",
          "sizeref": 0.00052825625
         },
         "mode": "markers",
         "name": "Eastern Asia",
         "text": [
          "Taiwan",
          "Japan",
          "South Korea",
          "Hong Kong",
          "China",
          "Mongolia"
         ],
         "type": "scatter",
         "x": [
          6.297999999999999,
          5.987,
          5.984,
          5.474,
          5.14,
          4.874
         ],
         "y": [
          0.08129,
          0.1806,
          0.07857,
          0.37124,
          0.02781,
          0.026660000000000003
         ]
        },
        {
         "marker": {
          "size": [
           1.0076100000000001,
           0.65435,
           0.47038,
           0.18847,
           0.08308,
           0.37545,
           0.71206,
           0.9204899999999999,
           0.5455800000000001,
           0.271,
           0.0712,
           0.52107,
           0,
           0.19072999999999998,
           0.33024000000000003,
           0.45407,
           0.36471,
           0.44025,
           0.99355,
           0.016040000000000002,
           0.4225,
           0.75778,
           0.26074,
           0.67866,
           0.23906,
           0.21101999999999999,
           0.36498,
           1.06024,
           0.0694,
           0.2852,
           0.20824,
           0.0785,
           0.34193,
           0.17417,
           0.46534,
           0.25811999999999996,
           0.22208000000000003,
           0.28665,
           0.0153,
           0.20868
          ],
          "sizemode": "area",
          "sizeref": 0.00052825625
         },
         "mode": "markers",
         "name": "Sub-Saharan Africa",
         "text": [
          "Mauritius",
          "Nigeria",
          "Zambia",
          "Somaliland region",
          "Mozambique",
          "Lesotho",
          "Swaziland",
          "South Africa",
          "Ghana",
          "Zimbabwe",
          "Liberia",
          "Sudan",
          "Congo (Kinshasa)",
          "Ethiopia",
          "Sierra Leone",
          "Mauritania",
          "Kenya",
          "Djibouti",
          "Botswana",
          "Malawi",
          "Cameroon",
          "Angola",
          "Mali",
          "Congo (Brazzaville)",
          "Comoros",
          "Uganda",
          "Senegal",
          "Gabon",
          "Niger",
          "Tanzania",
          "Madagascar",
          "Central African Republic",
          "Chad",
          "Guinea",
          "Ivory Coast",
          "Burkina Faso",
          "Rwanda",
          "Benin",
          "Burundi",
          "Togo"
         ],
         "type": "scatter",
         "x": [
          5.477,
          5.268,
          5.129,
          5.0569999999999995,
          4.971,
          4.898,
          4.867,
          4.6419999999999995,
          4.633,
          4.61,
          4.571000000000001,
          4.55,
          4.5169999999999995,
          4.512,
          4.507,
          4.436,
          4.419,
          4.369,
          4.332,
          4.292,
          4.252,
          4.033,
          3.995,
          3.989,
          3.9560000000000004,
          3.931,
          3.904,
          3.8960000000000004,
          3.845,
          3.781,
          3.681,
          3.678,
          3.667,
          3.656,
          3.655,
          3.5869999999999997,
          3.465,
          3.34,
          2.905,
          2.839
         ],
         "y": [
          0.07521,
          0.0403,
          0.12468,
          0.39928,
          0.15603,
          0.12504,
          0.0306,
          0.08884,
          0.04355,
          0.08079,
          0.06232000000000001,
          0.1466,
          0.07625,
          0.15048,
          0.08786000000000001,
          0.17461,
          0.05839,
          0.28105,
          0.12474,
          0.06977,
          0.05786,
          0.07122,
          0.12352,
          0.11685999999999999,
          0.19899999999999998,
          0.07267,
          0.10712999999999999,
          0.11091,
          0.15639,
          0.05747000000000001,
          0.08123999999999999,
          0.08288999999999999,
          0.05269,
          0.12139000000000001,
          0.17922000000000002,
          0.12832000000000002,
          0.55191,
          0.0801,
          0.10062,
          0.10730999999999999
         ]
        },
        {
         "marker": {
          "size": [
           0.77042,
           0.59543,
           0.39753,
           0.64499,
           0.35996999999999996,
           0.83524,
           0.31982
          ],
          "sizemode": "area",
          "sizeref": 0.00052825625
         },
         "mode": "markers",
         "name": "Southern Asia",
         "text": [
          "Bhutan",
          "Pakistan",
          "Bangladesh",
          "India",
          "Nepal",
          "Sri Lanka",
          "Afghanistan"
         ],
         "type": "scatter",
         "x": [
          5.252999999999999,
          5.194,
          4.694,
          4.565,
          4.513999999999999,
          4.271,
          3.575
         ],
         "y": [
          0.15445,
          0.10464000000000001,
          0.12569,
          0.08492000000000001,
          0.059070000000000004,
          0.09179,
          0.09719
         ]
        }
       ],
       "layout": {
        "height": 650,
        "hovermode": "closest",
        "margin": {
         "b": 50,
         "pad": 5,
         "t": 50
        },
        "showlegend": true,
        "template": {
         "data": {
          "bar": [
           {
            "error_x": {
             "color": "#2a3f5f"
            },
            "error_y": {
             "color": "#2a3f5f"
            },
            "marker": {
             "line": {
              "color": "#E5ECF6",
              "width": 0.5
             }
            },
            "type": "bar"
           }
          ],
          "barpolar": [
           {
            "marker": {
             "line": {
              "color": "#E5ECF6",
              "width": 0.5
             }
            },
            "type": "barpolar"
           }
          ],
          "carpet": [
           {
            "aaxis": {
             "endlinecolor": "#2a3f5f",
             "gridcolor": "white",
             "linecolor": "white",
             "minorgridcolor": "white",
             "startlinecolor": "#2a3f5f"
            },
            "baxis": {
             "endlinecolor": "#2a3f5f",
             "gridcolor": "white",
             "linecolor": "white",
             "minorgridcolor": "white",
             "startlinecolor": "#2a3f5f"
            },
            "type": "carpet"
           }
          ],
          "choropleth": [
           {
            "colorbar": {
             "outlinewidth": 0,
             "ticks": ""
            },
            "type": "choropleth"
           }
          ],
          "contour": [
           {
            "colorbar": {
             "outlinewidth": 0,
             "ticks": ""
            },
            "colorscale": [
             [
              0,
              "#0d0887"
             ],
             [
              0.1111111111111111,
              "#46039f"
             ],
             [
              0.2222222222222222,
              "#7201a8"
             ],
             [
              0.3333333333333333,
              "#9c179e"
             ],
             [
              0.4444444444444444,
              "#bd3786"
             ],
             [
              0.5555555555555556,
              "#d8576b"
             ],
             [
              0.6666666666666666,
              "#ed7953"
             ],
             [
              0.7777777777777778,
              "#fb9f3a"
             ],
             [
              0.8888888888888888,
              "#fdca26"
             ],
             [
              1,
              "#f0f921"
             ]
            ],
            "type": "contour"
           }
          ],
          "contourcarpet": [
           {
            "colorbar": {
             "outlinewidth": 0,
             "ticks": ""
            },
            "type": "contourcarpet"
           }
          ],
          "heatmap": [
           {
            "colorbar": {
             "outlinewidth": 0,
             "ticks": ""
            },
            "colorscale": [
             [
              0,
              "#0d0887"
             ],
             [
              0.1111111111111111,
              "#46039f"
             ],
             [
              0.2222222222222222,
              "#7201a8"
             ],
             [
              0.3333333333333333,
              "#9c179e"
             ],
             [
              0.4444444444444444,
              "#bd3786"
             ],
             [
              0.5555555555555556,
              "#d8576b"
             ],
             [
              0.6666666666666666,
              "#ed7953"
             ],
             [
              0.7777777777777778,
              "#fb9f3a"
             ],
             [
              0.8888888888888888,
              "#fdca26"
             ],
             [
              1,
              "#f0f921"
             ]
            ],
            "type": "heatmap"
           }
          ],
          "heatmapgl": [
           {
            "colorbar": {
             "outlinewidth": 0,
             "ticks": ""
            },
            "colorscale": [
             [
              0,
              "#0d0887"
             ],
             [
              0.1111111111111111,
              "#46039f"
             ],
             [
              0.2222222222222222,
              "#7201a8"
             ],
             [
              0.3333333333333333,
              "#9c179e"
             ],
             [
              0.4444444444444444,
              "#bd3786"
             ],
             [
              0.5555555555555556,
              "#d8576b"
             ],
             [
              0.6666666666666666,
              "#ed7953"
             ],
             [
              0.7777777777777778,
              "#fb9f3a"
             ],
             [
              0.8888888888888888,
              "#fdca26"
             ],
             [
              1,
              "#f0f921"
             ]
            ],
            "type": "heatmapgl"
           }
          ],
          "histogram": [
           {
            "marker": {
             "colorbar": {
              "outlinewidth": 0,
              "ticks": ""
             }
            },
            "type": "histogram"
           }
          ],
          "histogram2d": [
           {
            "colorbar": {
             "outlinewidth": 0,
             "ticks": ""
            },
            "colorscale": [
             [
              0,
              "#0d0887"
             ],
             [
              0.1111111111111111,
              "#46039f"
             ],
             [
              0.2222222222222222,
              "#7201a8"
             ],
             [
              0.3333333333333333,
              "#9c179e"
             ],
             [
              0.4444444444444444,
              "#bd3786"
             ],
             [
              0.5555555555555556,
              "#d8576b"
             ],
             [
              0.6666666666666666,
              "#ed7953"
             ],
             [
              0.7777777777777778,
              "#fb9f3a"
             ],
             [
              0.8888888888888888,
              "#fdca26"
             ],
             [
              1,
              "#f0f921"
             ]
            ],
            "type": "histogram2d"
           }
          ],
          "histogram2dcontour": [
           {
            "colorbar": {
             "outlinewidth": 0,
             "ticks": ""
            },
            "colorscale": [
             [
              0,
              "#0d0887"
             ],
             [
              0.1111111111111111,
              "#46039f"
             ],
             [
              0.2222222222222222,
              "#7201a8"
             ],
             [
              0.3333333333333333,
              "#9c179e"
             ],
             [
              0.4444444444444444,
              "#bd3786"
             ],
             [
              0.5555555555555556,
              "#d8576b"
             ],
             [
              0.6666666666666666,
              "#ed7953"
             ],
             [
              0.7777777777777778,
              "#fb9f3a"
             ],
             [
              0.8888888888888888,
              "#fdca26"
             ],
             [
              1,
              "#f0f921"
             ]
            ],
            "type": "histogram2dcontour"
           }
          ],
          "mesh3d": [
           {
            "colorbar": {
             "outlinewidth": 0,
             "ticks": ""
            },
            "type": "mesh3d"
           }
          ],
          "parcoords": [
           {
            "line": {
             "colorbar": {
              "outlinewidth": 0,
              "ticks": ""
             }
            },
            "type": "parcoords"
           }
          ],
          "pie": [
           {
            "automargin": true,
            "type": "pie"
           }
          ],
          "scatter": [
           {
            "marker": {
             "colorbar": {
              "outlinewidth": 0,
              "ticks": ""
             }
            },
            "type": "scatter"
           }
          ],
          "scatter3d": [
           {
            "line": {
             "colorbar": {
              "outlinewidth": 0,
              "ticks": ""
             }
            },
            "marker": {
             "colorbar": {
              "outlinewidth": 0,
              "ticks": ""
             }
            },
            "type": "scatter3d"
           }
          ],
          "scattercarpet": [
           {
            "marker": {
             "colorbar": {
              "outlinewidth": 0,
              "ticks": ""
             }
            },
            "type": "scattercarpet"
           }
          ],
          "scattergeo": [
           {
            "marker": {
             "colorbar": {
              "outlinewidth": 0,
              "ticks": ""
             }
            },
            "type": "scattergeo"
           }
          ],
          "scattergl": [
           {
            "marker": {
             "colorbar": {
              "outlinewidth": 0,
              "ticks": ""
             }
            },
            "type": "scattergl"
           }
          ],
          "scattermapbox": [
           {
            "marker": {
             "colorbar": {
              "outlinewidth": 0,
              "ticks": ""
             }
            },
            "type": "scattermapbox"
           }
          ],
          "scatterpolar": [
           {
            "marker": {
             "colorbar": {
              "outlinewidth": 0,
              "ticks": ""
             }
            },
            "type": "scatterpolar"
           }
          ],
          "scatterpolargl": [
           {
            "marker": {
             "colorbar": {
              "outlinewidth": 0,
              "ticks": ""
             }
            },
            "type": "scatterpolargl"
           }
          ],
          "scatterternary": [
           {
            "marker": {
             "colorbar": {
              "outlinewidth": 0,
              "ticks": ""
             }
            },
            "type": "scatterternary"
           }
          ],
          "surface": [
           {
            "colorbar": {
             "outlinewidth": 0,
             "ticks": ""
            },
            "colorscale": [
             [
              0,
              "#0d0887"
             ],
             [
              0.1111111111111111,
              "#46039f"
             ],
             [
              0.2222222222222222,
              "#7201a8"
             ],
             [
              0.3333333333333333,
              "#9c179e"
             ],
             [
              0.4444444444444444,
              "#bd3786"
             ],
             [
              0.5555555555555556,
              "#d8576b"
             ],
             [
              0.6666666666666666,
              "#ed7953"
             ],
             [
              0.7777777777777778,
              "#fb9f3a"
             ],
             [
              0.8888888888888888,
              "#fdca26"
             ],
             [
              1,
              "#f0f921"
             ]
            ],
            "type": "surface"
           }
          ],
          "table": [
           {
            "cells": {
             "fill": {
              "color": "#EBF0F8"
             },
             "line": {
              "color": "white"
             }
            },
            "header": {
             "fill": {
              "color": "#C8D4E3"
             },
             "line": {
              "color": "white"
             }
            },
            "type": "table"
           }
          ]
         },
         "layout": {
          "annotationdefaults": {
           "arrowcolor": "#2a3f5f",
           "arrowhead": 0,
           "arrowwidth": 1
          },
          "coloraxis": {
           "colorbar": {
            "outlinewidth": 0,
            "ticks": ""
           }
          },
          "colorscale": {
           "diverging": [
            [
             0,
             "#8e0152"
            ],
            [
             0.1,
             "#c51b7d"
            ],
            [
             0.2,
             "#de77ae"
            ],
            [
             0.3,
             "#f1b6da"
            ],
            [
             0.4,
             "#fde0ef"
            ],
            [
             0.5,
             "#f7f7f7"
            ],
            [
             0.6,
             "#e6f5d0"
            ],
            [
             0.7,
             "#b8e186"
            ],
            [
             0.8,
             "#7fbc41"
            ],
            [
             0.9,
             "#4d9221"
            ],
            [
             1,
             "#276419"
            ]
           ],
           "sequential": [
            [
             0,
             "#0d0887"
            ],
            [
             0.1111111111111111,
             "#46039f"
            ],
            [
             0.2222222222222222,
             "#7201a8"
            ],
            [
             0.3333333333333333,
             "#9c179e"
            ],
            [
             0.4444444444444444,
             "#bd3786"
            ],
            [
             0.5555555555555556,
             "#d8576b"
            ],
            [
             0.6666666666666666,
             "#ed7953"
            ],
            [
             0.7777777777777778,
             "#fb9f3a"
            ],
            [
             0.8888888888888888,
             "#fdca26"
            ],
            [
             1,
             "#f0f921"
            ]
           ],
           "sequentialminus": [
            [
             0,
             "#0d0887"
            ],
            [
             0.1111111111111111,
             "#46039f"
            ],
            [
             0.2222222222222222,
             "#7201a8"
            ],
            [
             0.3333333333333333,
             "#9c179e"
            ],
            [
             0.4444444444444444,
             "#bd3786"
            ],
            [
             0.5555555555555556,
             "#d8576b"
            ],
            [
             0.6666666666666666,
             "#ed7953"
            ],
            [
             0.7777777777777778,
             "#fb9f3a"
            ],
            [
             0.8888888888888888,
             "#fdca26"
            ],
            [
             1,
             "#f0f921"
            ]
           ]
          },
          "colorway": [
           "#636efa",
           "#EF553B",
           "#00cc96",
           "#ab63fa",
           "#FFA15A",
           "#19d3f3",
           "#FF6692",
           "#B6E880",
           "#FF97FF",
           "#FECB52"
          ],
          "font": {
           "color": "#2a3f5f"
          },
          "geo": {
           "bgcolor": "white",
           "lakecolor": "white",
           "landcolor": "#E5ECF6",
           "showlakes": true,
           "showland": true,
           "subunitcolor": "white"
          },
          "hoverlabel": {
           "align": "left"
          },
          "hovermode": "closest",
          "mapbox": {
           "style": "light"
          },
          "paper_bgcolor": "white",
          "plot_bgcolor": "#E5ECF6",
          "polar": {
           "angularaxis": {
            "gridcolor": "white",
            "linecolor": "white",
            "ticks": ""
           },
           "bgcolor": "#E5ECF6",
           "radialaxis": {
            "gridcolor": "white",
            "linecolor": "white",
            "ticks": ""
           }
          },
          "scene": {
           "xaxis": {
            "backgroundcolor": "#E5ECF6",
            "gridcolor": "white",
            "gridwidth": 2,
            "linecolor": "white",
            "showbackground": true,
            "ticks": "",
            "zerolinecolor": "white"
           },
           "yaxis": {
            "backgroundcolor": "#E5ECF6",
            "gridcolor": "white",
            "gridwidth": 2,
            "linecolor": "white",
            "showbackground": true,
            "ticks": "",
            "zerolinecolor": "white"
           },
           "zaxis": {
            "backgroundcolor": "#E5ECF6",
            "gridcolor": "white",
            "gridwidth": 2,
            "linecolor": "white",
            "showbackground": true,
            "ticks": "",
            "zerolinecolor": "white"
           }
          },
          "shapedefaults": {
           "line": {
            "color": "#2a3f5f"
           }
          },
          "ternary": {
           "aaxis": {
            "gridcolor": "white",
            "linecolor": "white",
            "ticks": ""
           },
           "baxis": {
            "gridcolor": "white",
            "linecolor": "white",
            "ticks": ""
           },
           "bgcolor": "#E5ECF6",
           "caxis": {
            "gridcolor": "white",
            "linecolor": "white",
            "ticks": ""
           }
          },
          "title": {
           "x": 0.05
          },
          "xaxis": {
           "automargin": true,
           "gridcolor": "white",
           "linecolor": "white",
           "ticks": "",
           "title": {
            "standoff": 15
           },
           "zerolinecolor": "white",
           "zerolinewidth": 2
          },
          "yaxis": {
           "automargin": true,
           "gridcolor": "white",
           "linecolor": "white",
           "ticks": "",
           "title": {
            "standoff": 15
           },
           "zerolinecolor": "white",
           "zerolinewidth": 2
          }
         }
        },
        "title": {
         "text": "Happiness vs Trust vs Economy"
        },
        "xaxis": {
         "autorange": false,
         "range": [
          1.9872999999999998,
          10.6218
         ],
         "title": {
          "text": "Happiness Score"
         }
        },
        "yaxis": {
         "autorange": false,
         "range": [
          0,
          0.772674
         ],
         "title": {
          "text": "Trust"
         }
        }
       }
      },
      "text/html": [
       "<div>                            <div id=\"737b9a2b-b909-4471-89cc-2d6498775ebb\" class=\"plotly-graph-div\" style=\"height:650px; width:100%;\"></div>            <script type=\"text/javascript\">                require([\"plotly\"], function(Plotly) {                    window.PLOTLYENV=window.PLOTLYENV || {};                                    if (document.getElementById(\"737b9a2b-b909-4471-89cc-2d6498775ebb\")) {                    Plotly.newPlot(                        \"737b9a2b-b909-4471-89cc-2d6498775ebb\",                        [{\"marker\": {\"size\": [1.3965100000000001, 1.3023200000000001, 1.32548, 1.459, 1.29025, 1.32944, 1.33171, 1.33723, 1.5639100000000001, 1.33596, 1.30782, 1.26637, 1.32792, 1.27778, 1.23011, 1.2074, 1.25114, 1.2080600000000001, 1.20813, 1.15991, 1.15406], \"sizemode\": \"area\", \"sizeref\": 0.00052825625}, \"mode\": \"markers\", \"name\": \"Western Europe\", \"text\": [\"Switzerland\", \"Iceland\", \"Denmark\", \"Norway\", \"Finland\", \"Netherlands\", \"Sweden\", \"Austria\", \"Luxembourg\", \"Ireland\", \"Belgium\", \"United Kingdom\", \"Germany\", \"France\", \"Spain\", \"Malta\", \"Italy\", \"North Cyprus\", \"Cyprus\", \"Portugal\", \"Greece\"], \"type\": \"scatter\", \"x\": [7.587000000000001, 7.561, 7.527, 7.522, 7.406000000000001, 7.377999999999999, 7.364, 7.2, 6.946000000000001, 6.94, 6.937, 6.867000000000001, 6.75, 6.575, 6.329, 6.3020000000000005, 5.9479999999999995, 5.695, 5.689, 5.102, 4.857], \"y\": [0.41978000000000004, 0.14145, 0.48357, 0.36503, 0.41372, 0.31814000000000003, 0.43843999999999994, 0.18675999999999998, 0.37798000000000004, 0.28703, 0.2254, 0.32066999999999996, 0.21843, 0.20646, 0.06398, 0.13585999999999998, 0.02901, 0.1428, 0.06146, 0.01078, 0.013969999999999998]}, {\"marker\": {\"size\": [1.32629, 1.3945100000000001], \"sizemode\": \"area\", \"sizeref\": 0.00052825625}, \"mode\": \"markers\", \"name\": \"North America\", \"text\": [\"Canada\", \"United States\"], \"type\": \"scatter\", \"x\": [7.4270000000000005, 7.119], \"y\": [0.32957, 0.1589]}, {\"marker\": {\"size\": [1.2501799999999998, 1.33358], \"sizemode\": \"area\", \"sizeref\": 0.00052825625}, \"mode\": \"markers\", \"name\": \"Australia and New Zealand\", \"text\": [\"New Zealand\", \"Australia\"], \"type\": \"scatter\", \"x\": [7.2860000000000005, 7.284], \"y\": [0.42922, 0.35636999999999996]}, {\"marker\": {\"size\": [1.2285700000000002, 1.42727, 1.36011, 1.69042, 1.39541, 1.5542200000000002, 1.32376, 1.13145, 0.93929, 1.06098, 0.9019799999999999, 0.7347899999999999, 1.0256399999999999, 0.88113, 0.59867, 1.0088, 0.98549, 0.8818, 0.5464899999999999, 0.6632], \"sizemode\": \"area\", \"sizeref\": 0.00052825625}, \"mode\": \"markers\", \"name\": \"Middle East and Northern Africa\", \"text\": [\"Israel\", \"United Arab Emirates\", \"Oman\", \"Qatar\", \"Saudi Arabia\", \"Kuwait\", \"Bahrain\", \"Libya\", \"Algeria\", \"Turkey\", \"Jordan\", \"Morocco\", \"Lebanon\", \"Tunisia\", \"Palestinian Territories\", \"Iran\", \"Iraq\", \"Egypt\", \"Yemen\", \"Syria\"], \"type\": \"scatter\", \"x\": [7.278, 6.901, 6.853, 6.611000000000001, 6.4110000000000005, 6.295, 5.96, 5.754, 5.605, 5.332000000000001, 5.192, 5.013, 4.8389999999999995, 4.739, 4.715, 4.686, 4.677, 4.194, 4.077, 3.0060000000000002], \"y\": [0.07785, 0.38583, 0.32524000000000003, 0.52208, 0.32524000000000003, 0.25609, 0.306, 0.11023, 0.17382999999999998, 0.15746, 0.14293, 0.08546000000000001, 0.04582, 0.06358, 0.12905, 0.058629999999999995, 0.13788, 0.06324, 0.07854, 0.18905999999999998]}, {\"marker\": {\"size\": [0.95578, 1.02054, 0.98124, 1.04424, 1.0635299999999999, 1.10715, 1.05351, 1.06166, 0.91861, 0.99534, 1.21183, 0.76454, 0.74553, 0.8640200000000001, 0.68133, 0.75985, 0.59325, 0.9001899999999999, 0.81038, 0.8953700000000001, 0.59532, 0.26673], \"sizemode\": \"area\", \"sizeref\": 0.00052825625}, \"mode\": \"markers\", \"name\": \"Latin America and Caribbean\", \"text\": [\"Costa Rica\", \"Mexico\", \"Brazil\", \"Venezuela\", \"Panama\", \"Chile\", \"Argentina\", \"Uruguay\", \"Colombia\", \"Suriname\", \"Trinidad and Tobago\", \"El Salvador\", \"Guatemala\", \"Ecuador\", \"Bolivia\", \"Paraguay\", \"Nicaragua\", \"Peru\", \"Jamaica\", \"Dominican Republic\", \"Honduras\", \"Haiti\"], \"type\": \"scatter\", \"x\": [7.226, 7.187, 6.983, 6.81, 6.7860000000000005, 6.67, 6.574, 6.485, 6.477, 6.269, 6.167999999999999, 6.13, 6.122999999999999, 5.975, 5.89, 5.877999999999999, 5.827999999999999, 5.824, 5.709, 4.885, 4.788, 4.518], \"y\": [0.10583, 0.21311999999999998, 0.17521, 0.11069000000000001, 0.0927, 0.12869, 0.08484, 0.24558000000000002, 0.0512, 0.13633, 0.0114, 0.11775999999999999, 0.09472, 0.1809, 0.08800000000000001, 0.08242000000000001, 0.19317, 0.05989, 0.02299, 0.14234000000000002, 0.06825, 0.17175]}, {\"marker\": {\"size\": [1.52186, 0.9669, 1.12486, 0.8282700000000001, 0.63216, 0.70532, 0.5906600000000001, 0.27108000000000004, 0.46038], \"sizemode\": \"area\", \"sizeref\": 0.00052825625}, \"mode\": \"markers\", \"name\": \"Southeastern Asia\", \"text\": [\"Singapore\", \"Thailand\", \"Malaysia\", \"Indonesia\", \"Vietnam\", \"Philippines\", \"Laos\", \"Myanmar\", \"Cambodia\"], \"type\": \"scatter\", \"x\": [6.797999999999999, 6.455, 5.77, 5.399, 5.36, 5.073, 4.876, 4.3069999999999995, 3.819], \"y\": [0.4921, 0.031869999999999996, 0.10500999999999999, 0.0, 0.10440999999999999, 0.12279000000000001, 0.24249, 0.19034, 0.07247]}, {\"marker\": {\"size\": [1.17898, 0.63244, 1.1689100000000001, 0.59448, 1.1225399999999999, 1.18498, 1.14723, 1.0319200000000002, 1.12555, 1.08254, 1.13764, 0.80148, 0.95847, 1.15174, 0.47428000000000003, 1.02389, 0.9743799999999999, 1.04345, 0.92053, 1.11312, 0.91851, 0.8786700000000001, 0.8322299999999999, 1.12094, 0.39047, 0.79907, 0.7682100000000001, 0.7419, 1.01216], \"sizemode\": \"area\", \"sizeref\": 0.00052825625}, \"mode\": \"markers\", \"name\": \"Central and Eastern Europe\", \"text\": [\"Czech Republic\", \"Uzbekistan\", \"Slovakia\", \"Moldova\", \"Kazakhstan\", \"Slovenia\", \"Lithuania\", \"Belarus\", \"Poland\", \"Croatia\", \"Russia\", \"Kosovo\", \"Turkmenistan\", \"Estonia\", \"Kyrgyzstan\", \"Azerbaijan\", \"Montenegro\", \"Romania\", \"Serbia\", \"Latvia\", \"Macedonia\", \"Albania\", \"Bosnia and Herzegovina\", \"Hungary\", \"Tajikistan\", \"Ukraine\", \"Armenia\", \"Georgia\", \"Bulgaria\"], \"type\": \"scatter\", \"x\": [6.505, 6.002999999999999, 5.995, 5.888999999999999, 5.855, 5.848, 5.832999999999999, 5.813, 5.791, 5.7589999999999995, 5.716, 5.5889999999999995, 5.547999999999999, 5.428999999999999, 5.2860000000000005, 5.212000000000001, 5.192, 5.124, 5.122999999999999, 5.098, 5.007, 4.959, 4.949, 4.8, 4.7860000000000005, 4.681, 4.35, 4.297, 4.218], \"y\": [0.02652, 0.30826, 0.03431, 0.01615, 0.08454, 0.03787, 0.01031, 0.1909, 0.04212, 0.0243, 0.03005, 0.04741, 0.30844, 0.15184, 0.042319999999999997, 0.16065, 0.14296, 0.006490000000000001, 0.02617, 0.06332, 0.053270000000000005, 0.06412999999999999, 0.00227, 0.02758, 0.15072, 0.02961, 0.039, 0.38331, 0.00872]}, {\"marker\": {\"size\": [1.29098, 1.27074, 1.24461, 1.38604, 0.89012, 0.82819], \"sizemode\": \"area\", \"sizeref\": 0.00052825625}, \"mode\": \"markers\", \"name\": \"Eastern Asia\", \"text\": [\"Taiwan\", \"Japan\", \"South Korea\", \"Hong Kong\", \"China\", \"Mongolia\"], \"type\": \"scatter\", \"x\": [6.297999999999999, 5.987, 5.984, 5.474, 5.14, 4.874], \"y\": [0.08129, 0.1806, 0.07857, 0.37124, 0.02781, 0.026660000000000003]}, {\"marker\": {\"size\": [1.0076100000000001, 0.65435, 0.47038, 0.18847, 0.08308, 0.37545, 0.71206, 0.9204899999999999, 0.5455800000000001, 0.271, 0.0712, 0.52107, 0.0, 0.19072999999999998, 0.33024000000000003, 0.45407, 0.36471, 0.44025, 0.99355, 0.016040000000000002, 0.4225, 0.75778, 0.26074, 0.67866, 0.23906, 0.21101999999999999, 0.36498, 1.06024, 0.0694, 0.2852, 0.20824, 0.0785, 0.34193, 0.17417, 0.46534, 0.25811999999999996, 0.22208000000000003, 0.28665, 0.0153, 0.20868], \"sizemode\": \"area\", \"sizeref\": 0.00052825625}, \"mode\": \"markers\", \"name\": \"Sub-Saharan Africa\", \"text\": [\"Mauritius\", \"Nigeria\", \"Zambia\", \"Somaliland region\", \"Mozambique\", \"Lesotho\", \"Swaziland\", \"South Africa\", \"Ghana\", \"Zimbabwe\", \"Liberia\", \"Sudan\", \"Congo (Kinshasa)\", \"Ethiopia\", \"Sierra Leone\", \"Mauritania\", \"Kenya\", \"Djibouti\", \"Botswana\", \"Malawi\", \"Cameroon\", \"Angola\", \"Mali\", \"Congo (Brazzaville)\", \"Comoros\", \"Uganda\", \"Senegal\", \"Gabon\", \"Niger\", \"Tanzania\", \"Madagascar\", \"Central African Republic\", \"Chad\", \"Guinea\", \"Ivory Coast\", \"Burkina Faso\", \"Rwanda\", \"Benin\", \"Burundi\", \"Togo\"], \"type\": \"scatter\", \"x\": [5.477, 5.268, 5.129, 5.0569999999999995, 4.971, 4.898, 4.867, 4.6419999999999995, 4.633, 4.61, 4.571000000000001, 4.55, 4.5169999999999995, 4.512, 4.507, 4.436, 4.419, 4.369, 4.332, 4.292, 4.252, 4.033, 3.995, 3.989, 3.9560000000000004, 3.931, 3.904, 3.8960000000000004, 3.845, 3.781, 3.681, 3.678, 3.667, 3.656, 3.655, 3.5869999999999997, 3.465, 3.34, 2.905, 2.839], \"y\": [0.07521, 0.0403, 0.12468, 0.39928, 0.15603, 0.12504, 0.0306, 0.08884, 0.04355, 0.08079, 0.06232000000000001, 0.1466, 0.07625, 0.15048, 0.08786000000000001, 0.17461, 0.05839, 0.28105, 0.12474, 0.06977, 0.05786, 0.07122, 0.12352, 0.11685999999999999, 0.19899999999999998, 0.07267, 0.10712999999999999, 0.11091, 0.15639, 0.05747000000000001, 0.08123999999999999, 0.08288999999999999, 0.05269, 0.12139000000000001, 0.17922000000000002, 0.12832000000000002, 0.55191, 0.0801, 0.10062, 0.10730999999999999]}, {\"marker\": {\"size\": [0.77042, 0.59543, 0.39753, 0.64499, 0.35996999999999996, 0.83524, 0.31982], \"sizemode\": \"area\", \"sizeref\": 0.00052825625}, \"mode\": \"markers\", \"name\": \"Southern Asia\", \"text\": [\"Bhutan\", \"Pakistan\", \"Bangladesh\", \"India\", \"Nepal\", \"Sri Lanka\", \"Afghanistan\"], \"type\": \"scatter\", \"x\": [5.252999999999999, 5.194, 4.694, 4.565, 4.513999999999999, 4.271, 3.575], \"y\": [0.15445, 0.10464000000000001, 0.12569, 0.08492000000000001, 0.059070000000000004, 0.09179, 0.09719]}],                        {\"height\": 650, \"hovermode\": \"closest\", \"margin\": {\"b\": 50, \"pad\": 5, \"t\": 50}, \"showlegend\": true, \"template\": {\"data\": {\"bar\": [{\"error_x\": {\"color\": \"#2a3f5f\"}, \"error_y\": {\"color\": \"#2a3f5f\"}, \"marker\": {\"line\": {\"color\": \"#E5ECF6\", \"width\": 0.5}}, \"type\": \"bar\"}], \"barpolar\": [{\"marker\": {\"line\": {\"color\": \"#E5ECF6\", \"width\": 0.5}}, \"type\": \"barpolar\"}], \"carpet\": [{\"aaxis\": {\"endlinecolor\": \"#2a3f5f\", \"gridcolor\": \"white\", \"linecolor\": \"white\", \"minorgridcolor\": \"white\", \"startlinecolor\": \"#2a3f5f\"}, \"baxis\": {\"endlinecolor\": \"#2a3f5f\", \"gridcolor\": \"white\", \"linecolor\": \"white\", \"minorgridcolor\": \"white\", \"startlinecolor\": \"#2a3f5f\"}, \"type\": \"carpet\"}], \"choropleth\": [{\"colorbar\": {\"outlinewidth\": 0, \"ticks\": \"\"}, \"type\": \"choropleth\"}], \"contour\": [{\"colorbar\": {\"outlinewidth\": 0, \"ticks\": \"\"}, \"colorscale\": [[0.0, \"#0d0887\"], [0.1111111111111111, \"#46039f\"], [0.2222222222222222, \"#7201a8\"], [0.3333333333333333, \"#9c179e\"], [0.4444444444444444, \"#bd3786\"], [0.5555555555555556, \"#d8576b\"], [0.6666666666666666, \"#ed7953\"], [0.7777777777777778, \"#fb9f3a\"], [0.8888888888888888, \"#fdca26\"], [1.0, \"#f0f921\"]], \"type\": \"contour\"}], \"contourcarpet\": [{\"colorbar\": {\"outlinewidth\": 0, \"ticks\": \"\"}, \"type\": \"contourcarpet\"}], \"heatmap\": [{\"colorbar\": {\"outlinewidth\": 0, \"ticks\": \"\"}, \"colorscale\": [[0.0, \"#0d0887\"], [0.1111111111111111, \"#46039f\"], [0.2222222222222222, \"#7201a8\"], [0.3333333333333333, \"#9c179e\"], [0.4444444444444444, \"#bd3786\"], [0.5555555555555556, \"#d8576b\"], [0.6666666666666666, \"#ed7953\"], [0.7777777777777778, \"#fb9f3a\"], [0.8888888888888888, \"#fdca26\"], [1.0, \"#f0f921\"]], \"type\": \"heatmap\"}], \"heatmapgl\": [{\"colorbar\": {\"outlinewidth\": 0, \"ticks\": \"\"}, \"colorscale\": [[0.0, \"#0d0887\"], [0.1111111111111111, \"#46039f\"], [0.2222222222222222, \"#7201a8\"], [0.3333333333333333, \"#9c179e\"], [0.4444444444444444, \"#bd3786\"], [0.5555555555555556, \"#d8576b\"], [0.6666666666666666, \"#ed7953\"], [0.7777777777777778, \"#fb9f3a\"], [0.8888888888888888, \"#fdca26\"], [1.0, \"#f0f921\"]], \"type\": \"heatmapgl\"}], \"histogram\": [{\"marker\": {\"colorbar\": {\"outlinewidth\": 0, \"ticks\": \"\"}}, \"type\": \"histogram\"}], \"histogram2d\": [{\"colorbar\": {\"outlinewidth\": 0, \"ticks\": \"\"}, \"colorscale\": [[0.0, \"#0d0887\"], [0.1111111111111111, \"#46039f\"], [0.2222222222222222, \"#7201a8\"], [0.3333333333333333, \"#9c179e\"], [0.4444444444444444, \"#bd3786\"], [0.5555555555555556, \"#d8576b\"], [0.6666666666666666, \"#ed7953\"], [0.7777777777777778, \"#fb9f3a\"], [0.8888888888888888, \"#fdca26\"], [1.0, \"#f0f921\"]], \"type\": \"histogram2d\"}], \"histogram2dcontour\": [{\"colorbar\": {\"outlinewidth\": 0, \"ticks\": \"\"}, \"colorscale\": [[0.0, \"#0d0887\"], [0.1111111111111111, \"#46039f\"], [0.2222222222222222, \"#7201a8\"], [0.3333333333333333, \"#9c179e\"], [0.4444444444444444, \"#bd3786\"], [0.5555555555555556, \"#d8576b\"], [0.6666666666666666, \"#ed7953\"], [0.7777777777777778, \"#fb9f3a\"], [0.8888888888888888, \"#fdca26\"], [1.0, \"#f0f921\"]], \"type\": \"histogram2dcontour\"}], \"mesh3d\": [{\"colorbar\": {\"outlinewidth\": 0, \"ticks\": \"\"}, \"type\": \"mesh3d\"}], \"parcoords\": [{\"line\": {\"colorbar\": {\"outlinewidth\": 0, \"ticks\": \"\"}}, \"type\": \"parcoords\"}], \"pie\": [{\"automargin\": true, \"type\": \"pie\"}], \"scatter\": [{\"marker\": {\"colorbar\": {\"outlinewidth\": 0, \"ticks\": \"\"}}, \"type\": \"scatter\"}], \"scatter3d\": [{\"line\": {\"colorbar\": {\"outlinewidth\": 0, \"ticks\": \"\"}}, \"marker\": {\"colorbar\": {\"outlinewidth\": 0, \"ticks\": \"\"}}, \"type\": \"scatter3d\"}], \"scattercarpet\": [{\"marker\": {\"colorbar\": {\"outlinewidth\": 0, \"ticks\": \"\"}}, \"type\": \"scattercarpet\"}], \"scattergeo\": [{\"marker\": {\"colorbar\": {\"outlinewidth\": 0, \"ticks\": \"\"}}, \"type\": \"scattergeo\"}], \"scattergl\": [{\"marker\": {\"colorbar\": {\"outlinewidth\": 0, \"ticks\": \"\"}}, \"type\": \"scattergl\"}], \"scattermapbox\": [{\"marker\": {\"colorbar\": {\"outlinewidth\": 0, \"ticks\": \"\"}}, \"type\": \"scattermapbox\"}], \"scatterpolar\": [{\"marker\": {\"colorbar\": {\"outlinewidth\": 0, \"ticks\": \"\"}}, \"type\": \"scatterpolar\"}], \"scatterpolargl\": [{\"marker\": {\"colorbar\": {\"outlinewidth\": 0, \"ticks\": \"\"}}, \"type\": \"scatterpolargl\"}], \"scatterternary\": [{\"marker\": {\"colorbar\": {\"outlinewidth\": 0, \"ticks\": \"\"}}, \"type\": \"scatterternary\"}], \"surface\": [{\"colorbar\": {\"outlinewidth\": 0, \"ticks\": \"\"}, \"colorscale\": [[0.0, \"#0d0887\"], [0.1111111111111111, \"#46039f\"], [0.2222222222222222, \"#7201a8\"], [0.3333333333333333, \"#9c179e\"], [0.4444444444444444, \"#bd3786\"], [0.5555555555555556, \"#d8576b\"], [0.6666666666666666, \"#ed7953\"], [0.7777777777777778, \"#fb9f3a\"], [0.8888888888888888, \"#fdca26\"], [1.0, \"#f0f921\"]], \"type\": \"surface\"}], \"table\": [{\"cells\": {\"fill\": {\"color\": \"#EBF0F8\"}, \"line\": {\"color\": \"white\"}}, \"header\": {\"fill\": {\"color\": \"#C8D4E3\"}, \"line\": {\"color\": \"white\"}}, \"type\": \"table\"}]}, \"layout\": {\"annotationdefaults\": {\"arrowcolor\": \"#2a3f5f\", \"arrowhead\": 0, \"arrowwidth\": 1}, \"coloraxis\": {\"colorbar\": {\"outlinewidth\": 0, \"ticks\": \"\"}}, \"colorscale\": {\"diverging\": [[0, \"#8e0152\"], [0.1, \"#c51b7d\"], [0.2, \"#de77ae\"], [0.3, \"#f1b6da\"], [0.4, \"#fde0ef\"], [0.5, \"#f7f7f7\"], [0.6, \"#e6f5d0\"], [0.7, \"#b8e186\"], [0.8, \"#7fbc41\"], [0.9, \"#4d9221\"], [1, \"#276419\"]], \"sequential\": [[0.0, \"#0d0887\"], [0.1111111111111111, \"#46039f\"], [0.2222222222222222, \"#7201a8\"], [0.3333333333333333, \"#9c179e\"], [0.4444444444444444, \"#bd3786\"], [0.5555555555555556, \"#d8576b\"], [0.6666666666666666, \"#ed7953\"], [0.7777777777777778, \"#fb9f3a\"], [0.8888888888888888, \"#fdca26\"], [1.0, \"#f0f921\"]], \"sequentialminus\": [[0.0, \"#0d0887\"], [0.1111111111111111, \"#46039f\"], [0.2222222222222222, \"#7201a8\"], [0.3333333333333333, \"#9c179e\"], [0.4444444444444444, \"#bd3786\"], [0.5555555555555556, \"#d8576b\"], [0.6666666666666666, \"#ed7953\"], [0.7777777777777778, \"#fb9f3a\"], [0.8888888888888888, \"#fdca26\"], [1.0, \"#f0f921\"]]}, \"colorway\": [\"#636efa\", \"#EF553B\", \"#00cc96\", \"#ab63fa\", \"#FFA15A\", \"#19d3f3\", \"#FF6692\", \"#B6E880\", \"#FF97FF\", \"#FECB52\"], \"font\": {\"color\": \"#2a3f5f\"}, \"geo\": {\"bgcolor\": \"white\", \"lakecolor\": \"white\", \"landcolor\": \"#E5ECF6\", \"showlakes\": true, \"showland\": true, \"subunitcolor\": \"white\"}, \"hoverlabel\": {\"align\": \"left\"}, \"hovermode\": \"closest\", \"mapbox\": {\"style\": \"light\"}, \"paper_bgcolor\": \"white\", \"plot_bgcolor\": \"#E5ECF6\", \"polar\": {\"angularaxis\": {\"gridcolor\": \"white\", \"linecolor\": \"white\", \"ticks\": \"\"}, \"bgcolor\": \"#E5ECF6\", \"radialaxis\": {\"gridcolor\": \"white\", \"linecolor\": \"white\", \"ticks\": \"\"}}, \"scene\": {\"xaxis\": {\"backgroundcolor\": \"#E5ECF6\", \"gridcolor\": \"white\", \"gridwidth\": 2, \"linecolor\": \"white\", \"showbackground\": true, \"ticks\": \"\", \"zerolinecolor\": \"white\"}, \"yaxis\": {\"backgroundcolor\": \"#E5ECF6\", \"gridcolor\": \"white\", \"gridwidth\": 2, \"linecolor\": \"white\", \"showbackground\": true, \"ticks\": \"\", \"zerolinecolor\": \"white\"}, \"zaxis\": {\"backgroundcolor\": \"#E5ECF6\", \"gridcolor\": \"white\", \"gridwidth\": 2, \"linecolor\": \"white\", \"showbackground\": true, \"ticks\": \"\", \"zerolinecolor\": \"white\"}}, \"shapedefaults\": {\"line\": {\"color\": \"#2a3f5f\"}}, \"ternary\": {\"aaxis\": {\"gridcolor\": \"white\", \"linecolor\": \"white\", \"ticks\": \"\"}, \"baxis\": {\"gridcolor\": \"white\", \"linecolor\": \"white\", \"ticks\": \"\"}, \"bgcolor\": \"#E5ECF6\", \"caxis\": {\"gridcolor\": \"white\", \"linecolor\": \"white\", \"ticks\": \"\"}}, \"title\": {\"x\": 0.05}, \"xaxis\": {\"automargin\": true, \"gridcolor\": \"white\", \"linecolor\": \"white\", \"ticks\": \"\", \"title\": {\"standoff\": 15}, \"zerolinecolor\": \"white\", \"zerolinewidth\": 2}, \"yaxis\": {\"automargin\": true, \"gridcolor\": \"white\", \"linecolor\": \"white\", \"ticks\": \"\", \"title\": {\"standoff\": 15}, \"zerolinecolor\": \"white\", \"zerolinewidth\": 2}}}, \"title\": {\"text\": \"Happiness vs Trust vs Economy\"}, \"xaxis\": {\"autorange\": false, \"range\": [1.9872999999999998, 10.6218], \"title\": {\"text\": \"Happiness Score\"}}, \"yaxis\": {\"autorange\": false, \"range\": [0.0, 0.772674], \"title\": {\"text\": \"Trust\"}}},                        {\"scrollzoom\": true, \"responsive\": true}                    ).then(function(){\n",
       "                            \n",
       "var gd = document.getElementById('737b9a2b-b909-4471-89cc-2d6498775ebb');\n",
       "var x = new MutationObserver(function (mutations, observer) {{\n",
       "        var display = window.getComputedStyle(gd).display;\n",
       "        if (!display || display === 'none') {{\n",
       "            console.log([gd, 'removed!']);\n",
       "            Plotly.purge(gd);\n",
       "            observer.disconnect();\n",
       "        }}\n",
       "}});\n",
       "\n",
       "// Listen for the removal of the full notebook cells\n",
       "var notebookContainer = gd.closest('#notebook-container');\n",
       "if (notebookContainer) {{\n",
       "    x.observe(notebookContainer, {childList: true});\n",
       "}}\n",
       "\n",
       "// Listen for the clearing of the current output cell\n",
       "var outputEl = gd.closest('.output');\n",
       "if (outputEl) {{\n",
       "    x.observe(outputEl, {childList: true});\n",
       "}}\n",
       "\n",
       "                        })                };                });            </script>        </div>"
      ]
     },
     "metadata": {},
     "output_type": "display_data"
    }
   ],
   "source": [
    "figure=bubbleplot(dataset=data_2015,x_column='Happiness Score',y_column='Trust (Government Corruption)',\n",
    "                 bubble_column = 'Country',size_column = 'Economy (GDP per Capita)',color_column = 'Region',\n",
    "                 x_title = \"Happiness Score\",y_title = \"Trust\", title = 'Happiness vs Trust vs Economy',x_logscale = False,\n",
    "                 scale_bubble = 1, height = 650)\n",
    "py.iplot(figure, config={'scrollzoom': True})\n"
   ]
  },
  {
   "cell_type": "code",
   "execution_count": 55,
   "metadata": {},
   "outputs": [
    {
     "data": {
      "application/vnd.plotly.v1+json": {
       "config": {
        "linkText": "Export to plot.ly",
        "plotlyServerURL": "https://plot.ly",
        "showLink": false
       },
       "data": [
        {
         "marker": {
          "size": [
           1.4417799999999998,
           1.5273299999999999,
           1.42666,
           1.57744,
           1.40598,
           1.46468,
           1.45181,
           1.45038,
           1.44787,
           1.42539,
           1.4834100000000001,
           1.6975200000000001,
           1.40283,
           1.30782,
           1.39488,
           1.34253,
           1.35495,
           1.31141,
           1.31857,
           1.27607,
           1.24886
          ],
          "sizemode": "area",
          "sizeref": 0.000570084375
         },
         "mode": "markers",
         "name": "Western Europe",
         "text": [
          "Denmark",
          "Switzerland",
          "Iceland",
          "Norway",
          "Finland",
          "Netherlands",
          "Sweden",
          "Austria",
          "Germany",
          "Belgium",
          "Ireland",
          "Luxembourg",
          "United Kingdom",
          "Malta",
          "France",
          "Spain",
          "Italy",
          "North Cyprus",
          "Cyprus",
          "Portugal",
          "Greece"
         ],
         "type": "scatter",
         "x": [
          7.526,
          7.5089999999999995,
          7.501,
          7.497999999999999,
          7.412999999999999,
          7.3389999999999995,
          7.291,
          7.119,
          6.994,
          6.928999999999999,
          6.907,
          6.871,
          6.725,
          6.4879999999999995,
          6.478,
          6.361000000000001,
          5.977,
          5.771,
          5.546,
          5.122999999999999,
          5.033
         ],
         "y": [
          0.79504,
          0.86303,
          0.8673299999999999,
          0.79579,
          0.81091,
          0.8123100000000001,
          0.83121,
          0.80565,
          0.81487,
          0.8195899999999999,
          0.81455,
          0.8454200000000001,
          0.80991,
          0.80315,
          0.83795,
          0.8789600000000001,
          0.8510200000000001,
          0.8414200000000001,
          0.8488,
          0.7936300000000001,
          0.80029
         ]
        },
        {
         "marker": {
          "size": [
           1.44015,
           1.50796
          ],
          "sizemode": "area",
          "sizeref": 0.000570084375
         },
         "mode": "markers",
         "name": "North America",
         "text": [
          "Canada",
          "United States"
         ],
         "type": "scatter",
         "x": [
          7.404,
          7.104
         ],
         "y": [
          0.8276,
          0.779
         ]
        },
        {
         "marker": {
          "size": [
           1.36066,
           1.4444299999999999
          ],
          "sizemode": "area",
          "sizeref": 0.000570084375
         },
         "mode": "markers",
         "name": "Australia and New Zealand",
         "text": [
          "New Zealand",
          "Australia"
         ],
         "type": "scatter",
         "x": [
          7.334,
          7.313
         ],
         "y": [
          0.83096,
          0.8512
         ]
        },
        {
         "marker": {
          "size": [
           1.33766,
           1.57352,
           1.48953,
           1.82427,
           1.05266,
           1.61714,
           1.44024,
           1.0668799999999998,
           1.1649200000000002,
           0.9967299999999999,
           0.8405799999999999,
           1.12268,
           0.97724,
           1.11758,
           0.67024,
           1.07474,
           0.95395,
           0.57939,
           0.7471899999999999
          ],
          "sizemode": "area",
          "sizeref": 0.000570084375
         },
         "mode": "markers",
         "name": "Middle East and Northern Africa",
         "text": [
          "Israel",
          "United Arab Emirates",
          "Saudi Arabia",
          "Qatar",
          "Algeria",
          "Kuwait",
          "Bahrain",
          "Libya",
          "Turkey",
          "Jordan",
          "Morocco",
          "Lebanon",
          "Tunisia",
          "Iran",
          "Palestinian Territories",
          "Iraq",
          "Egypt",
          "Yemen",
          "Syria"
         ],
         "type": "scatter",
         "x": [
          7.267,
          6.5729999999999995,
          6.379,
          6.375,
          6.355,
          6.239,
          6.218,
          5.615,
          5.388999999999999,
          5.303,
          5.151,
          5.129,
          5.045,
          4.813,
          4.754,
          4.575,
          4.362,
          3.7239999999999998,
          3.069
         ],
         "y": [
          0.8491700000000001,
          0.72993,
          0.59267,
          0.71723,
          0.6180399999999999,
          0.63569,
          0.65696,
          0.52304,
          0.64718,
          0.60712,
          0.5947100000000001,
          0.76171,
          0.59577,
          0.64232,
          0.56844,
          0.51076,
          0.5211600000000001,
          0.31048000000000003,
          0.6299399999999999
         ]
        },
        {
         "marker": {
          "size": [
           1.06879,
           1.35943,
           1.08754,
           1.1150799999999998,
           1.2167,
           1.18306,
           1.15137,
           1.18157,
           1.0303200000000001,
           0.83454,
           1.09686,
           1.32572,
           1.1336700000000002,
           0.8737,
           0.69384,
           0.97306,
           0.87616,
           0.79422,
           0.9960200000000001,
           0.8937299999999999,
           0.89333,
           1.02787,
           0.69429,
           0.34097
          ],
          "sizemode": "area",
          "sizeref": 0.000570084375
         },
         "mode": "markers",
         "name": "Latin America and Caribbean",
         "text": [
          "Costa Rica",
          "Puerto Rico",
          "Brazil",
          "Mexico",
          "Chile",
          "Panama",
          "Argentina",
          "Uruguay",
          "Colombia",
          "Guatemala",
          "Suriname",
          "Trinidad and Tobago",
          "Venezuela",
          "El Salvador",
          "Nicaragua",
          "Ecuador",
          "Belize",
          "Bolivia",
          "Peru",
          "Paraguay",
          "Jamaica",
          "Dominican Republic",
          "Honduras",
          "Haiti"
         ],
         "type": "scatter",
         "x": [
          7.087000000000001,
          7.039,
          6.952000000000001,
          6.778,
          6.705,
          6.7010000000000005,
          6.65,
          6.545,
          6.481,
          6.324,
          6.269,
          6.167999999999999,
          6.084,
          6.068,
          5.992000000000001,
          5.976,
          5.956,
          5.822,
          5.742999999999999,
          5.537999999999999,
          5.51,
          5.155,
          4.871,
          4.0280000000000005
         ],
         "y": [
          0.76146,
          0.77758,
          0.61415,
          0.71143,
          0.8188300000000001,
          0.70835,
          0.69711,
          0.72183,
          0.59659,
          0.5403899999999999,
          0.5093300000000001,
          0.52608,
          0.6190399999999999,
          0.596,
          0.65213,
          0.68613,
          0.45569,
          0.4697,
          0.6299399999999999,
          0.58295,
          0.5946899999999999,
          0.5766899999999999,
          0.5838300000000001,
          0.27494
         ]
        },
        {
         "marker": {
          "size": [
           1.64555,
           1.0893,
           1.25142,
           0.95104,
           0.81217,
           0.74037,
           0.68042,
           0.34112,
           0.55604
          ],
          "sizemode": "area",
          "sizeref": 0.000570084375
         },
         "mode": "markers",
         "name": "Southeastern Asia",
         "text": [
          "Singapore",
          "Thailand",
          "Malaysia",
          "Indonesia",
          "Philippines",
          "Vietnam",
          "Laos",
          "Myanmar",
          "Cambodia"
         ],
         "type": "scatter",
         "x": [
          6.739,
          6.474,
          6.005,
          5.314,
          5.279,
          5.061,
          4.876,
          4.395,
          3.907
         ],
         "y": [
          0.94719,
          0.64915,
          0.62366,
          0.49373999999999996,
          0.47036000000000006,
          0.66157,
          0.38291,
          0.3988,
          0.42494
         ]
        },
        {
         "marker": {
          "size": [
           1.30915,
           1.27973,
           0.7359100000000001,
           1.22943,
           0.69177,
           1.2322799999999998,
           1.24585,
           1.2692,
           1.1306200000000002,
           1.2994700000000001,
           1.08017,
           1.2178799999999999,
           1.1697,
           1.2796399999999999,
           1.18649,
           0.90145,
           1.12373,
           0.5604399999999999,
           1.03437,
           0.9338299999999999,
           1.07838,
           1.24142,
           1.0193,
           0.48835,
           0.9553,
           0.8608600000000001,
           0.87287,
           0.8379200000000001,
           1.11306
          ],
          "sizemode": "area",
          "sizeref": 0.000570084375
         },
         "mode": "markers",
         "name": "Central and Eastern Europe",
         "text": [
          "Czech Republic",
          "Slovakia",
          "Uzbekistan",
          "Kazakhstan",
          "Moldova",
          "Russia",
          "Poland",
          "Lithuania",
          "Belarus",
          "Slovenia",
          "Turkmenistan",
          "Latvia",
          "Romania",
          "Estonia",
          "Croatia",
          "Kosovo",
          "Azerbaijan",
          "Kyrgyzstan",
          "Serbia",
          "Bosnia and Herzegovina",
          "Montenegro",
          "Hungary",
          "Macedonia",
          "Tajikistan",
          "Albania",
          "Armenia",
          "Ukraine",
          "Georgia",
          "Bulgaria"
         ],
         "type": "scatter",
         "x": [
          6.596,
          6.077999999999999,
          5.987,
          5.919,
          5.897,
          5.856,
          5.835,
          5.813,
          5.8020000000000005,
          5.768,
          5.6579999999999995,
          5.56,
          5.528,
          5.517,
          5.4879999999999995,
          5.401,
          5.291,
          5.185,
          5.1770000000000005,
          5.162999999999999,
          5.1610000000000005,
          5.145,
          5.121,
          4.996,
          4.655,
          4.36,
          4.324,
          4.252,
          4.217
         ],
         "y": [
          0.76376,
          0.70367,
          0.50163,
          0.57386,
          0.5230899999999999,
          0.58991,
          0.69058,
          0.64674,
          0.6310399999999999,
          0.79151,
          0.44006000000000006,
          0.63952,
          0.67602,
          0.68098,
          0.70524,
          0.54,
          0.54504,
          0.5544899999999999,
          0.6458,
          0.7076600000000001,
          0.6353300000000001,
          0.67608,
          0.6473800000000001,
          0.5311899999999999,
          0.73007,
          0.64083,
          0.58628,
          0.64035,
          0.67806
         ]
        },
        {
         "marker": {
          "size": [
           1.39729,
           1.3800700000000001,
           1.35948,
           1.5107,
           1.0278,
           0.9885299999999999
          ],
          "sizemode": "area",
          "sizeref": 0.000570084375
         },
         "mode": "markers",
         "name": "Eastern Asia",
         "text": [
          "Taiwan",
          "Japan",
          "South Korea",
          "Hong Kong",
          "China",
          "Mongolia"
         ],
         "type": "scatter",
         "x": [
          6.379,
          5.921,
          5.835,
          5.457999999999999,
          5.245,
          4.907
         ],
         "y": [
          0.79565,
          0.91491,
          0.88645,
          0.9527700000000001,
          0.73561,
          0.55469
         ]
        },
        {
         "marker": {
          "size": [
           1.14372,
           0,
           0.25558000000000003,
           0.75216,
           0.61202,
           0.36485,
           0.9328700000000001,
           0.5249699999999999,
           0.29283000000000003,
           1.02416,
           0.52267,
           0.63107,
           0.05661,
           0.7710899999999999,
           0.44314,
           0.6139100000000001,
           0.35041,
           0.08709,
           0.63069,
           1.15851,
           0.31292,
           1.09426,
           0.27509,
           0.55507,
           0.84731,
           0.1327,
           0.39394,
           0.42213999999999996,
           0.31995,
           0.34719,
           0.27954,
           0.47155,
           0.10705999999999999,
           0.22415,
           0.32846,
           0.39499,
           0.28123000000000004,
           0.06831
          ],
          "sizemode": "area",
          "sizeref": 0.000570084375
         },
         "mode": "markers",
         "name": "Sub-Saharan Africa",
         "text": [
          "Mauritius",
          "Somalia",
          "Somaliland Region",
          "Nigeria",
          "Zambia",
          "Sierra Leone",
          "Namibia",
          "Cameroon",
          "Ethiopia",
          "South Africa",
          "Kenya",
          "Ghana",
          "Congo (Kinshasa)",
          "Congo (Brazzaville)",
          "Senegal",
          "Mauritania",
          "Zimbabwe",
          "Malawi",
          "Sudan",
          "Gabon",
          "Mali",
          "Botswana",
          "Comoros",
          "Ivory Coast",
          "Angola",
          "Niger",
          "South Sudan",
          "Chad",
          "Burkina Faso",
          "Uganda",
          "Madagascar",
          "Tanzania",
          "Liberia",
          "Guinea",
          "Rwanda",
          "Benin",
          "Togo",
          "Burundi"
         ],
         "type": "scatter",
         "x": [
          5.648,
          5.44,
          5.0569999999999995,
          4.875,
          4.795,
          4.635,
          4.574,
          4.513,
          4.508,
          4.459,
          4.356,
          4.276,
          4.272,
          4.236000000000001,
          4.218999999999999,
          4.2010000000000005,
          4.1930000000000005,
          4.156000000000001,
          4.138999999999999,
          4.121,
          4.073,
          3.9739999999999998,
          3.9560000000000004,
          3.9160000000000004,
          3.866,
          3.8560000000000003,
          3.832,
          3.763,
          3.739,
          3.739,
          3.695,
          3.6660000000000004,
          3.622,
          3.6069999999999998,
          3.515,
          3.484,
          3.303,
          2.905
         ],
         "y": [
          0.66189,
          0.11465999999999998,
          0.33108000000000004,
          0.05108,
          0.23573000000000002,
          0,
          0.34745,
          0.12697999999999998,
          0.34578000000000003,
          0.18611,
          0.30146999999999996,
          0.29681,
          0.188,
          0.28212,
          0.40457,
          0.28639000000000003,
          0.1595,
          0.29364,
          0.29759,
          0.3494,
          0.16347,
          0.34752,
          0.29980999999999997,
          0.04476,
          0.04991,
          0.26161999999999996,
          0.15780999999999998,
          0.038239999999999996,
          0.21297,
          0.19625,
          0.37109000000000003,
          0.35700000000000004,
          0.23165,
          0.18829,
          0.31865,
          0.21028000000000002,
          0.24811,
          0.15747
         ]
        },
        {
         "marker": {
          "size": [
           0.8527,
           0.68816,
           0.44626000000000005,
           0.54177,
           0.9731799999999999,
           0.74036,
           0.38227
          ],
          "sizemode": "area",
          "sizeref": 0.000570084375
         },
         "mode": "markers",
         "name": "Southern Asia",
         "text": [
          "Bhutan",
          "Pakistan",
          "Nepal",
          "Bangladesh",
          "Sri Lanka",
          "India",
          "Afghanistan"
         ],
         "type": "scatter",
         "x": [
          5.196000000000001,
          5.132000000000001,
          4.793,
          4.643,
          4.415,
          4.404,
          3.36
         ],
         "y": [
          0.49759,
          0.40306,
          0.50073,
          0.52989,
          0.62007,
          0.45091000000000003,
          0.17344
         ]
        }
       ],
       "layout": {
        "height": 750,
        "hovermode": "closest",
        "margin": {
         "b": 50,
         "pad": 5,
         "t": 50
        },
        "showlegend": true,
        "template": {
         "data": {
          "bar": [
           {
            "error_x": {
             "color": "#2a3f5f"
            },
            "error_y": {
             "color": "#2a3f5f"
            },
            "marker": {
             "line": {
              "color": "#E5ECF6",
              "width": 0.5
             }
            },
            "type": "bar"
           }
          ],
          "barpolar": [
           {
            "marker": {
             "line": {
              "color": "#E5ECF6",
              "width": 0.5
             }
            },
            "type": "barpolar"
           }
          ],
          "carpet": [
           {
            "aaxis": {
             "endlinecolor": "#2a3f5f",
             "gridcolor": "white",
             "linecolor": "white",
             "minorgridcolor": "white",
             "startlinecolor": "#2a3f5f"
            },
            "baxis": {
             "endlinecolor": "#2a3f5f",
             "gridcolor": "white",
             "linecolor": "white",
             "minorgridcolor": "white",
             "startlinecolor": "#2a3f5f"
            },
            "type": "carpet"
           }
          ],
          "choropleth": [
           {
            "colorbar": {
             "outlinewidth": 0,
             "ticks": ""
            },
            "type": "choropleth"
           }
          ],
          "contour": [
           {
            "colorbar": {
             "outlinewidth": 0,
             "ticks": ""
            },
            "colorscale": [
             [
              0,
              "#0d0887"
             ],
             [
              0.1111111111111111,
              "#46039f"
             ],
             [
              0.2222222222222222,
              "#7201a8"
             ],
             [
              0.3333333333333333,
              "#9c179e"
             ],
             [
              0.4444444444444444,
              "#bd3786"
             ],
             [
              0.5555555555555556,
              "#d8576b"
             ],
             [
              0.6666666666666666,
              "#ed7953"
             ],
             [
              0.7777777777777778,
              "#fb9f3a"
             ],
             [
              0.8888888888888888,
              "#fdca26"
             ],
             [
              1,
              "#f0f921"
             ]
            ],
            "type": "contour"
           }
          ],
          "contourcarpet": [
           {
            "colorbar": {
             "outlinewidth": 0,
             "ticks": ""
            },
            "type": "contourcarpet"
           }
          ],
          "heatmap": [
           {
            "colorbar": {
             "outlinewidth": 0,
             "ticks": ""
            },
            "colorscale": [
             [
              0,
              "#0d0887"
             ],
             [
              0.1111111111111111,
              "#46039f"
             ],
             [
              0.2222222222222222,
              "#7201a8"
             ],
             [
              0.3333333333333333,
              "#9c179e"
             ],
             [
              0.4444444444444444,
              "#bd3786"
             ],
             [
              0.5555555555555556,
              "#d8576b"
             ],
             [
              0.6666666666666666,
              "#ed7953"
             ],
             [
              0.7777777777777778,
              "#fb9f3a"
             ],
             [
              0.8888888888888888,
              "#fdca26"
             ],
             [
              1,
              "#f0f921"
             ]
            ],
            "type": "heatmap"
           }
          ],
          "heatmapgl": [
           {
            "colorbar": {
             "outlinewidth": 0,
             "ticks": ""
            },
            "colorscale": [
             [
              0,
              "#0d0887"
             ],
             [
              0.1111111111111111,
              "#46039f"
             ],
             [
              0.2222222222222222,
              "#7201a8"
             ],
             [
              0.3333333333333333,
              "#9c179e"
             ],
             [
              0.4444444444444444,
              "#bd3786"
             ],
             [
              0.5555555555555556,
              "#d8576b"
             ],
             [
              0.6666666666666666,
              "#ed7953"
             ],
             [
              0.7777777777777778,
              "#fb9f3a"
             ],
             [
              0.8888888888888888,
              "#fdca26"
             ],
             [
              1,
              "#f0f921"
             ]
            ],
            "type": "heatmapgl"
           }
          ],
          "histogram": [
           {
            "marker": {
             "colorbar": {
              "outlinewidth": 0,
              "ticks": ""
             }
            },
            "type": "histogram"
           }
          ],
          "histogram2d": [
           {
            "colorbar": {
             "outlinewidth": 0,
             "ticks": ""
            },
            "colorscale": [
             [
              0,
              "#0d0887"
             ],
             [
              0.1111111111111111,
              "#46039f"
             ],
             [
              0.2222222222222222,
              "#7201a8"
             ],
             [
              0.3333333333333333,
              "#9c179e"
             ],
             [
              0.4444444444444444,
              "#bd3786"
             ],
             [
              0.5555555555555556,
              "#d8576b"
             ],
             [
              0.6666666666666666,
              "#ed7953"
             ],
             [
              0.7777777777777778,
              "#fb9f3a"
             ],
             [
              0.8888888888888888,
              "#fdca26"
             ],
             [
              1,
              "#f0f921"
             ]
            ],
            "type": "histogram2d"
           }
          ],
          "histogram2dcontour": [
           {
            "colorbar": {
             "outlinewidth": 0,
             "ticks": ""
            },
            "colorscale": [
             [
              0,
              "#0d0887"
             ],
             [
              0.1111111111111111,
              "#46039f"
             ],
             [
              0.2222222222222222,
              "#7201a8"
             ],
             [
              0.3333333333333333,
              "#9c179e"
             ],
             [
              0.4444444444444444,
              "#bd3786"
             ],
             [
              0.5555555555555556,
              "#d8576b"
             ],
             [
              0.6666666666666666,
              "#ed7953"
             ],
             [
              0.7777777777777778,
              "#fb9f3a"
             ],
             [
              0.8888888888888888,
              "#fdca26"
             ],
             [
              1,
              "#f0f921"
             ]
            ],
            "type": "histogram2dcontour"
           }
          ],
          "mesh3d": [
           {
            "colorbar": {
             "outlinewidth": 0,
             "ticks": ""
            },
            "type": "mesh3d"
           }
          ],
          "parcoords": [
           {
            "line": {
             "colorbar": {
              "outlinewidth": 0,
              "ticks": ""
             }
            },
            "type": "parcoords"
           }
          ],
          "pie": [
           {
            "automargin": true,
            "type": "pie"
           }
          ],
          "scatter": [
           {
            "marker": {
             "colorbar": {
              "outlinewidth": 0,
              "ticks": ""
             }
            },
            "type": "scatter"
           }
          ],
          "scatter3d": [
           {
            "line": {
             "colorbar": {
              "outlinewidth": 0,
              "ticks": ""
             }
            },
            "marker": {
             "colorbar": {
              "outlinewidth": 0,
              "ticks": ""
             }
            },
            "type": "scatter3d"
           }
          ],
          "scattercarpet": [
           {
            "marker": {
             "colorbar": {
              "outlinewidth": 0,
              "ticks": ""
             }
            },
            "type": "scattercarpet"
           }
          ],
          "scattergeo": [
           {
            "marker": {
             "colorbar": {
              "outlinewidth": 0,
              "ticks": ""
             }
            },
            "type": "scattergeo"
           }
          ],
          "scattergl": [
           {
            "marker": {
             "colorbar": {
              "outlinewidth": 0,
              "ticks": ""
             }
            },
            "type": "scattergl"
           }
          ],
          "scattermapbox": [
           {
            "marker": {
             "colorbar": {
              "outlinewidth": 0,
              "ticks": ""
             }
            },
            "type": "scattermapbox"
           }
          ],
          "scatterpolar": [
           {
            "marker": {
             "colorbar": {
              "outlinewidth": 0,
              "ticks": ""
             }
            },
            "type": "scatterpolar"
           }
          ],
          "scatterpolargl": [
           {
            "marker": {
             "colorbar": {
              "outlinewidth": 0,
              "ticks": ""
             }
            },
            "type": "scatterpolargl"
           }
          ],
          "scatterternary": [
           {
            "marker": {
             "colorbar": {
              "outlinewidth": 0,
              "ticks": ""
             }
            },
            "type": "scatterternary"
           }
          ],
          "surface": [
           {
            "colorbar": {
             "outlinewidth": 0,
             "ticks": ""
            },
            "colorscale": [
             [
              0,
              "#0d0887"
             ],
             [
              0.1111111111111111,
              "#46039f"
             ],
             [
              0.2222222222222222,
              "#7201a8"
             ],
             [
              0.3333333333333333,
              "#9c179e"
             ],
             [
              0.4444444444444444,
              "#bd3786"
             ],
             [
              0.5555555555555556,
              "#d8576b"
             ],
             [
              0.6666666666666666,
              "#ed7953"
             ],
             [
              0.7777777777777778,
              "#fb9f3a"
             ],
             [
              0.8888888888888888,
              "#fdca26"
             ],
             [
              1,
              "#f0f921"
             ]
            ],
            "type": "surface"
           }
          ],
          "table": [
           {
            "cells": {
             "fill": {
              "color": "#EBF0F8"
             },
             "line": {
              "color": "white"
             }
            },
            "header": {
             "fill": {
              "color": "#C8D4E3"
             },
             "line": {
              "color": "white"
             }
            },
            "type": "table"
           }
          ]
         },
         "layout": {
          "annotationdefaults": {
           "arrowcolor": "#2a3f5f",
           "arrowhead": 0,
           "arrowwidth": 1
          },
          "coloraxis": {
           "colorbar": {
            "outlinewidth": 0,
            "ticks": ""
           }
          },
          "colorscale": {
           "diverging": [
            [
             0,
             "#8e0152"
            ],
            [
             0.1,
             "#c51b7d"
            ],
            [
             0.2,
             "#de77ae"
            ],
            [
             0.3,
             "#f1b6da"
            ],
            [
             0.4,
             "#fde0ef"
            ],
            [
             0.5,
             "#f7f7f7"
            ],
            [
             0.6,
             "#e6f5d0"
            ],
            [
             0.7,
             "#b8e186"
            ],
            [
             0.8,
             "#7fbc41"
            ],
            [
             0.9,
             "#4d9221"
            ],
            [
             1,
             "#276419"
            ]
           ],
           "sequential": [
            [
             0,
             "#0d0887"
            ],
            [
             0.1111111111111111,
             "#46039f"
            ],
            [
             0.2222222222222222,
             "#7201a8"
            ],
            [
             0.3333333333333333,
             "#9c179e"
            ],
            [
             0.4444444444444444,
             "#bd3786"
            ],
            [
             0.5555555555555556,
             "#d8576b"
            ],
            [
             0.6666666666666666,
             "#ed7953"
            ],
            [
             0.7777777777777778,
             "#fb9f3a"
            ],
            [
             0.8888888888888888,
             "#fdca26"
            ],
            [
             1,
             "#f0f921"
            ]
           ],
           "sequentialminus": [
            [
             0,
             "#0d0887"
            ],
            [
             0.1111111111111111,
             "#46039f"
            ],
            [
             0.2222222222222222,
             "#7201a8"
            ],
            [
             0.3333333333333333,
             "#9c179e"
            ],
            [
             0.4444444444444444,
             "#bd3786"
            ],
            [
             0.5555555555555556,
             "#d8576b"
            ],
            [
             0.6666666666666666,
             "#ed7953"
            ],
            [
             0.7777777777777778,
             "#fb9f3a"
            ],
            [
             0.8888888888888888,
             "#fdca26"
            ],
            [
             1,
             "#f0f921"
            ]
           ]
          },
          "colorway": [
           "#636efa",
           "#EF553B",
           "#00cc96",
           "#ab63fa",
           "#FFA15A",
           "#19d3f3",
           "#FF6692",
           "#B6E880",
           "#FF97FF",
           "#FECB52"
          ],
          "font": {
           "color": "#2a3f5f"
          },
          "geo": {
           "bgcolor": "white",
           "lakecolor": "white",
           "landcolor": "#E5ECF6",
           "showlakes": true,
           "showland": true,
           "subunitcolor": "white"
          },
          "hoverlabel": {
           "align": "left"
          },
          "hovermode": "closest",
          "mapbox": {
           "style": "light"
          },
          "paper_bgcolor": "white",
          "plot_bgcolor": "#E5ECF6",
          "polar": {
           "angularaxis": {
            "gridcolor": "white",
            "linecolor": "white",
            "ticks": ""
           },
           "bgcolor": "#E5ECF6",
           "radialaxis": {
            "gridcolor": "white",
            "linecolor": "white",
            "ticks": ""
           }
          },
          "scene": {
           "xaxis": {
            "backgroundcolor": "#E5ECF6",
            "gridcolor": "white",
            "gridwidth": 2,
            "linecolor": "white",
            "showbackground": true,
            "ticks": "",
            "zerolinecolor": "white"
           },
           "yaxis": {
            "backgroundcolor": "#E5ECF6",
            "gridcolor": "white",
            "gridwidth": 2,
            "linecolor": "white",
            "showbackground": true,
            "ticks": "",
            "zerolinecolor": "white"
           },
           "zaxis": {
            "backgroundcolor": "#E5ECF6",
            "gridcolor": "white",
            "gridwidth": 2,
            "linecolor": "white",
            "showbackground": true,
            "ticks": "",
            "zerolinecolor": "white"
           }
          },
          "shapedefaults": {
           "line": {
            "color": "#2a3f5f"
           }
          },
          "ternary": {
           "aaxis": {
            "gridcolor": "white",
            "linecolor": "white",
            "ticks": ""
           },
           "baxis": {
            "gridcolor": "white",
            "linecolor": "white",
            "ticks": ""
           },
           "bgcolor": "#E5ECF6",
           "caxis": {
            "gridcolor": "white",
            "linecolor": "white",
            "ticks": ""
           }
          },
          "title": {
           "x": 0.05
          },
          "xaxis": {
           "automargin": true,
           "gridcolor": "white",
           "linecolor": "white",
           "ticks": "",
           "title": {
            "standoff": 15
           },
           "zerolinecolor": "white",
           "zerolinewidth": 2
          },
          "yaxis": {
           "automargin": true,
           "gridcolor": "white",
           "linecolor": "white",
           "ticks": "",
           "title": {
            "standoff": 15
           },
           "zerolinecolor": "white",
           "zerolinewidth": 2
          }
         }
        },
        "title": {
         "text": "Happiness vs Health vs Economy"
        },
        "xaxis": {
         "autorange": false,
         "range": [
          2.0334999999999996,
          10.536399999999999
         ],
         "title": {
          "text": "Happiness Score"
         }
        },
        "yaxis": {
         "autorange": false,
         "range": [
          0,
          1.3338780000000001
         ],
         "title": {
          "text": "Health"
         }
        }
       }
      },
      "text/html": [
       "<div>                            <div id=\"e53a755b-97b4-4fbd-a4b1-90348ddec63b\" class=\"plotly-graph-div\" style=\"height:750px; width:100%;\"></div>            <script type=\"text/javascript\">                require([\"plotly\"], function(Plotly) {                    window.PLOTLYENV=window.PLOTLYENV || {};                                    if (document.getElementById(\"e53a755b-97b4-4fbd-a4b1-90348ddec63b\")) {                    Plotly.newPlot(                        \"e53a755b-97b4-4fbd-a4b1-90348ddec63b\",                        [{\"marker\": {\"size\": [1.4417799999999998, 1.5273299999999999, 1.42666, 1.57744, 1.40598, 1.46468, 1.45181, 1.45038, 1.44787, 1.42539, 1.4834100000000001, 1.6975200000000001, 1.40283, 1.30782, 1.39488, 1.34253, 1.35495, 1.31141, 1.31857, 1.27607, 1.24886], \"sizemode\": \"area\", \"sizeref\": 0.000570084375}, \"mode\": \"markers\", \"name\": \"Western Europe\", \"text\": [\"Denmark\", \"Switzerland\", \"Iceland\", \"Norway\", \"Finland\", \"Netherlands\", \"Sweden\", \"Austria\", \"Germany\", \"Belgium\", \"Ireland\", \"Luxembourg\", \"United Kingdom\", \"Malta\", \"France\", \"Spain\", \"Italy\", \"North Cyprus\", \"Cyprus\", \"Portugal\", \"Greece\"], \"type\": \"scatter\", \"x\": [7.526, 7.5089999999999995, 7.501, 7.497999999999999, 7.412999999999999, 7.3389999999999995, 7.291, 7.119, 6.994, 6.928999999999999, 6.907, 6.871, 6.725, 6.4879999999999995, 6.478, 6.361000000000001, 5.977, 5.771, 5.546, 5.122999999999999, 5.033], \"y\": [0.79504, 0.86303, 0.8673299999999999, 0.79579, 0.81091, 0.8123100000000001, 0.83121, 0.80565, 0.81487, 0.8195899999999999, 0.81455, 0.8454200000000001, 0.80991, 0.80315, 0.83795, 0.8789600000000001, 0.8510200000000001, 0.8414200000000001, 0.8488, 0.7936300000000001, 0.80029]}, {\"marker\": {\"size\": [1.44015, 1.50796], \"sizemode\": \"area\", \"sizeref\": 0.000570084375}, \"mode\": \"markers\", \"name\": \"North America\", \"text\": [\"Canada\", \"United States\"], \"type\": \"scatter\", \"x\": [7.404, 7.104], \"y\": [0.8276, 0.779]}, {\"marker\": {\"size\": [1.36066, 1.4444299999999999], \"sizemode\": \"area\", \"sizeref\": 0.000570084375}, \"mode\": \"markers\", \"name\": \"Australia and New Zealand\", \"text\": [\"New Zealand\", \"Australia\"], \"type\": \"scatter\", \"x\": [7.334, 7.313], \"y\": [0.83096, 0.8512]}, {\"marker\": {\"size\": [1.33766, 1.57352, 1.48953, 1.82427, 1.05266, 1.61714, 1.44024, 1.0668799999999998, 1.1649200000000002, 0.9967299999999999, 0.8405799999999999, 1.12268, 0.97724, 1.11758, 0.67024, 1.07474, 0.95395, 0.57939, 0.7471899999999999], \"sizemode\": \"area\", \"sizeref\": 0.000570084375}, \"mode\": \"markers\", \"name\": \"Middle East and Northern Africa\", \"text\": [\"Israel\", \"United Arab Emirates\", \"Saudi Arabia\", \"Qatar\", \"Algeria\", \"Kuwait\", \"Bahrain\", \"Libya\", \"Turkey\", \"Jordan\", \"Morocco\", \"Lebanon\", \"Tunisia\", \"Iran\", \"Palestinian Territories\", \"Iraq\", \"Egypt\", \"Yemen\", \"Syria\"], \"type\": \"scatter\", \"x\": [7.267, 6.5729999999999995, 6.379, 6.375, 6.355, 6.239, 6.218, 5.615, 5.388999999999999, 5.303, 5.151, 5.129, 5.045, 4.813, 4.754, 4.575, 4.362, 3.7239999999999998, 3.069], \"y\": [0.8491700000000001, 0.72993, 0.59267, 0.71723, 0.6180399999999999, 0.63569, 0.65696, 0.52304, 0.64718, 0.60712, 0.5947100000000001, 0.76171, 0.59577, 0.64232, 0.56844, 0.51076, 0.5211600000000001, 0.31048000000000003, 0.6299399999999999]}, {\"marker\": {\"size\": [1.06879, 1.35943, 1.08754, 1.1150799999999998, 1.2167, 1.18306, 1.15137, 1.18157, 1.0303200000000001, 0.83454, 1.09686, 1.32572, 1.1336700000000002, 0.8737, 0.69384, 0.97306, 0.87616, 0.79422, 0.9960200000000001, 0.8937299999999999, 0.89333, 1.02787, 0.69429, 0.34097], \"sizemode\": \"area\", \"sizeref\": 0.000570084375}, \"mode\": \"markers\", \"name\": \"Latin America and Caribbean\", \"text\": [\"Costa Rica\", \"Puerto Rico\", \"Brazil\", \"Mexico\", \"Chile\", \"Panama\", \"Argentina\", \"Uruguay\", \"Colombia\", \"Guatemala\", \"Suriname\", \"Trinidad and Tobago\", \"Venezuela\", \"El Salvador\", \"Nicaragua\", \"Ecuador\", \"Belize\", \"Bolivia\", \"Peru\", \"Paraguay\", \"Jamaica\", \"Dominican Republic\", \"Honduras\", \"Haiti\"], \"type\": \"scatter\", \"x\": [7.087000000000001, 7.039, 6.952000000000001, 6.778, 6.705, 6.7010000000000005, 6.65, 6.545, 6.481, 6.324, 6.269, 6.167999999999999, 6.084, 6.068, 5.992000000000001, 5.976, 5.956, 5.822, 5.742999999999999, 5.537999999999999, 5.51, 5.155, 4.871, 4.0280000000000005], \"y\": [0.76146, 0.77758, 0.61415, 0.71143, 0.8188300000000001, 0.70835, 0.69711, 0.72183, 0.59659, 0.5403899999999999, 0.5093300000000001, 0.52608, 0.6190399999999999, 0.596, 0.65213, 0.68613, 0.45569, 0.4697, 0.6299399999999999, 0.58295, 0.5946899999999999, 0.5766899999999999, 0.5838300000000001, 0.27494]}, {\"marker\": {\"size\": [1.64555, 1.0893, 1.25142, 0.95104, 0.81217, 0.74037, 0.68042, 0.34112, 0.55604], \"sizemode\": \"area\", \"sizeref\": 0.000570084375}, \"mode\": \"markers\", \"name\": \"Southeastern Asia\", \"text\": [\"Singapore\", \"Thailand\", \"Malaysia\", \"Indonesia\", \"Philippines\", \"Vietnam\", \"Laos\", \"Myanmar\", \"Cambodia\"], \"type\": \"scatter\", \"x\": [6.739, 6.474, 6.005, 5.314, 5.279, 5.061, 4.876, 4.395, 3.907], \"y\": [0.94719, 0.64915, 0.62366, 0.49373999999999996, 0.47036000000000006, 0.66157, 0.38291, 0.3988, 0.42494]}, {\"marker\": {\"size\": [1.30915, 1.27973, 0.7359100000000001, 1.22943, 0.69177, 1.2322799999999998, 1.24585, 1.2692, 1.1306200000000002, 1.2994700000000001, 1.08017, 1.2178799999999999, 1.1697, 1.2796399999999999, 1.18649, 0.90145, 1.12373, 0.5604399999999999, 1.03437, 0.9338299999999999, 1.07838, 1.24142, 1.0193, 0.48835, 0.9553, 0.8608600000000001, 0.87287, 0.8379200000000001, 1.11306], \"sizemode\": \"area\", \"sizeref\": 0.000570084375}, \"mode\": \"markers\", \"name\": \"Central and Eastern Europe\", \"text\": [\"Czech Republic\", \"Slovakia\", \"Uzbekistan\", \"Kazakhstan\", \"Moldova\", \"Russia\", \"Poland\", \"Lithuania\", \"Belarus\", \"Slovenia\", \"Turkmenistan\", \"Latvia\", \"Romania\", \"Estonia\", \"Croatia\", \"Kosovo\", \"Azerbaijan\", \"Kyrgyzstan\", \"Serbia\", \"Bosnia and Herzegovina\", \"Montenegro\", \"Hungary\", \"Macedonia\", \"Tajikistan\", \"Albania\", \"Armenia\", \"Ukraine\", \"Georgia\", \"Bulgaria\"], \"type\": \"scatter\", \"x\": [6.596, 6.077999999999999, 5.987, 5.919, 5.897, 5.856, 5.835, 5.813, 5.8020000000000005, 5.768, 5.6579999999999995, 5.56, 5.528, 5.517, 5.4879999999999995, 5.401, 5.291, 5.185, 5.1770000000000005, 5.162999999999999, 5.1610000000000005, 5.145, 5.121, 4.996, 4.655, 4.36, 4.324, 4.252, 4.217], \"y\": [0.76376, 0.70367, 0.50163, 0.57386, 0.5230899999999999, 0.58991, 0.69058, 0.64674, 0.6310399999999999, 0.79151, 0.44006000000000006, 0.63952, 0.67602, 0.68098, 0.70524, 0.54, 0.54504, 0.5544899999999999, 0.6458, 0.7076600000000001, 0.6353300000000001, 0.67608, 0.6473800000000001, 0.5311899999999999, 0.73007, 0.64083, 0.58628, 0.64035, 0.67806]}, {\"marker\": {\"size\": [1.39729, 1.3800700000000001, 1.35948, 1.5107, 1.0278, 0.9885299999999999], \"sizemode\": \"area\", \"sizeref\": 0.000570084375}, \"mode\": \"markers\", \"name\": \"Eastern Asia\", \"text\": [\"Taiwan\", \"Japan\", \"South Korea\", \"Hong Kong\", \"China\", \"Mongolia\"], \"type\": \"scatter\", \"x\": [6.379, 5.921, 5.835, 5.457999999999999, 5.245, 4.907], \"y\": [0.79565, 0.91491, 0.88645, 0.9527700000000001, 0.73561, 0.55469]}, {\"marker\": {\"size\": [1.14372, 0.0, 0.25558000000000003, 0.75216, 0.61202, 0.36485, 0.9328700000000001, 0.5249699999999999, 0.29283000000000003, 1.02416, 0.52267, 0.63107, 0.05661, 0.7710899999999999, 0.44314, 0.6139100000000001, 0.35041, 0.08709, 0.63069, 1.15851, 0.31292, 1.09426, 0.27509, 0.55507, 0.84731, 0.1327, 0.39394, 0.42213999999999996, 0.31995, 0.34719, 0.27954, 0.47155, 0.10705999999999999, 0.22415, 0.32846, 0.39499, 0.28123000000000004, 0.06831], \"sizemode\": \"area\", \"sizeref\": 0.000570084375}, \"mode\": \"markers\", \"name\": \"Sub-Saharan Africa\", \"text\": [\"Mauritius\", \"Somalia\", \"Somaliland Region\", \"Nigeria\", \"Zambia\", \"Sierra Leone\", \"Namibia\", \"Cameroon\", \"Ethiopia\", \"South Africa\", \"Kenya\", \"Ghana\", \"Congo (Kinshasa)\", \"Congo (Brazzaville)\", \"Senegal\", \"Mauritania\", \"Zimbabwe\", \"Malawi\", \"Sudan\", \"Gabon\", \"Mali\", \"Botswana\", \"Comoros\", \"Ivory Coast\", \"Angola\", \"Niger\", \"South Sudan\", \"Chad\", \"Burkina Faso\", \"Uganda\", \"Madagascar\", \"Tanzania\", \"Liberia\", \"Guinea\", \"Rwanda\", \"Benin\", \"Togo\", \"Burundi\"], \"type\": \"scatter\", \"x\": [5.648, 5.44, 5.0569999999999995, 4.875, 4.795, 4.635, 4.574, 4.513, 4.508, 4.459, 4.356, 4.276, 4.272, 4.236000000000001, 4.218999999999999, 4.2010000000000005, 4.1930000000000005, 4.156000000000001, 4.138999999999999, 4.121, 4.073, 3.9739999999999998, 3.9560000000000004, 3.9160000000000004, 3.866, 3.8560000000000003, 3.832, 3.763, 3.739, 3.739, 3.695, 3.6660000000000004, 3.622, 3.6069999999999998, 3.515, 3.484, 3.303, 2.905], \"y\": [0.66189, 0.11465999999999998, 0.33108000000000004, 0.05108, 0.23573000000000002, 0.0, 0.34745, 0.12697999999999998, 0.34578000000000003, 0.18611, 0.30146999999999996, 0.29681, 0.188, 0.28212, 0.40457, 0.28639000000000003, 0.1595, 0.29364, 0.29759, 0.3494, 0.16347, 0.34752, 0.29980999999999997, 0.04476, 0.04991, 0.26161999999999996, 0.15780999999999998, 0.038239999999999996, 0.21297, 0.19625, 0.37109000000000003, 0.35700000000000004, 0.23165, 0.18829, 0.31865, 0.21028000000000002, 0.24811, 0.15747]}, {\"marker\": {\"size\": [0.8527, 0.68816, 0.44626000000000005, 0.54177, 0.9731799999999999, 0.74036, 0.38227], \"sizemode\": \"area\", \"sizeref\": 0.000570084375}, \"mode\": \"markers\", \"name\": \"Southern Asia\", \"text\": [\"Bhutan\", \"Pakistan\", \"Nepal\", \"Bangladesh\", \"Sri Lanka\", \"India\", \"Afghanistan\"], \"type\": \"scatter\", \"x\": [5.196000000000001, 5.132000000000001, 4.793, 4.643, 4.415, 4.404, 3.36], \"y\": [0.49759, 0.40306, 0.50073, 0.52989, 0.62007, 0.45091000000000003, 0.17344]}],                        {\"height\": 750, \"hovermode\": \"closest\", \"margin\": {\"b\": 50, \"pad\": 5, \"t\": 50}, \"showlegend\": true, \"template\": {\"data\": {\"bar\": [{\"error_x\": {\"color\": \"#2a3f5f\"}, \"error_y\": {\"color\": \"#2a3f5f\"}, \"marker\": {\"line\": {\"color\": \"#E5ECF6\", \"width\": 0.5}}, \"type\": \"bar\"}], \"barpolar\": [{\"marker\": {\"line\": {\"color\": \"#E5ECF6\", \"width\": 0.5}}, \"type\": \"barpolar\"}], \"carpet\": [{\"aaxis\": {\"endlinecolor\": \"#2a3f5f\", \"gridcolor\": \"white\", \"linecolor\": \"white\", \"minorgridcolor\": \"white\", \"startlinecolor\": \"#2a3f5f\"}, \"baxis\": {\"endlinecolor\": \"#2a3f5f\", \"gridcolor\": \"white\", \"linecolor\": \"white\", \"minorgridcolor\": \"white\", \"startlinecolor\": \"#2a3f5f\"}, \"type\": \"carpet\"}], \"choropleth\": [{\"colorbar\": {\"outlinewidth\": 0, \"ticks\": \"\"}, \"type\": \"choropleth\"}], \"contour\": [{\"colorbar\": {\"outlinewidth\": 0, \"ticks\": \"\"}, \"colorscale\": [[0.0, \"#0d0887\"], [0.1111111111111111, \"#46039f\"], [0.2222222222222222, \"#7201a8\"], [0.3333333333333333, \"#9c179e\"], [0.4444444444444444, \"#bd3786\"], [0.5555555555555556, \"#d8576b\"], [0.6666666666666666, \"#ed7953\"], [0.7777777777777778, \"#fb9f3a\"], [0.8888888888888888, \"#fdca26\"], [1.0, \"#f0f921\"]], \"type\": \"contour\"}], \"contourcarpet\": [{\"colorbar\": {\"outlinewidth\": 0, \"ticks\": \"\"}, \"type\": \"contourcarpet\"}], \"heatmap\": [{\"colorbar\": {\"outlinewidth\": 0, \"ticks\": \"\"}, \"colorscale\": [[0.0, \"#0d0887\"], [0.1111111111111111, \"#46039f\"], [0.2222222222222222, \"#7201a8\"], [0.3333333333333333, \"#9c179e\"], [0.4444444444444444, \"#bd3786\"], [0.5555555555555556, \"#d8576b\"], [0.6666666666666666, \"#ed7953\"], [0.7777777777777778, \"#fb9f3a\"], [0.8888888888888888, \"#fdca26\"], [1.0, \"#f0f921\"]], \"type\": \"heatmap\"}], \"heatmapgl\": [{\"colorbar\": {\"outlinewidth\": 0, \"ticks\": \"\"}, \"colorscale\": [[0.0, \"#0d0887\"], [0.1111111111111111, \"#46039f\"], [0.2222222222222222, \"#7201a8\"], [0.3333333333333333, \"#9c179e\"], [0.4444444444444444, \"#bd3786\"], [0.5555555555555556, \"#d8576b\"], [0.6666666666666666, \"#ed7953\"], [0.7777777777777778, \"#fb9f3a\"], [0.8888888888888888, \"#fdca26\"], [1.0, \"#f0f921\"]], \"type\": \"heatmapgl\"}], \"histogram\": [{\"marker\": {\"colorbar\": {\"outlinewidth\": 0, \"ticks\": \"\"}}, \"type\": \"histogram\"}], \"histogram2d\": [{\"colorbar\": {\"outlinewidth\": 0, \"ticks\": \"\"}, \"colorscale\": [[0.0, \"#0d0887\"], [0.1111111111111111, \"#46039f\"], [0.2222222222222222, \"#7201a8\"], [0.3333333333333333, \"#9c179e\"], [0.4444444444444444, \"#bd3786\"], [0.5555555555555556, \"#d8576b\"], [0.6666666666666666, \"#ed7953\"], [0.7777777777777778, \"#fb9f3a\"], [0.8888888888888888, \"#fdca26\"], [1.0, \"#f0f921\"]], \"type\": \"histogram2d\"}], \"histogram2dcontour\": [{\"colorbar\": {\"outlinewidth\": 0, \"ticks\": \"\"}, \"colorscale\": [[0.0, \"#0d0887\"], [0.1111111111111111, \"#46039f\"], [0.2222222222222222, \"#7201a8\"], [0.3333333333333333, \"#9c179e\"], [0.4444444444444444, \"#bd3786\"], [0.5555555555555556, \"#d8576b\"], [0.6666666666666666, \"#ed7953\"], [0.7777777777777778, \"#fb9f3a\"], [0.8888888888888888, \"#fdca26\"], [1.0, \"#f0f921\"]], \"type\": \"histogram2dcontour\"}], \"mesh3d\": [{\"colorbar\": {\"outlinewidth\": 0, \"ticks\": \"\"}, \"type\": \"mesh3d\"}], \"parcoords\": [{\"line\": {\"colorbar\": {\"outlinewidth\": 0, \"ticks\": \"\"}}, \"type\": \"parcoords\"}], \"pie\": [{\"automargin\": true, \"type\": \"pie\"}], \"scatter\": [{\"marker\": {\"colorbar\": {\"outlinewidth\": 0, \"ticks\": \"\"}}, \"type\": \"scatter\"}], \"scatter3d\": [{\"line\": {\"colorbar\": {\"outlinewidth\": 0, \"ticks\": \"\"}}, \"marker\": {\"colorbar\": {\"outlinewidth\": 0, \"ticks\": \"\"}}, \"type\": \"scatter3d\"}], \"scattercarpet\": [{\"marker\": {\"colorbar\": {\"outlinewidth\": 0, \"ticks\": \"\"}}, \"type\": \"scattercarpet\"}], \"scattergeo\": [{\"marker\": {\"colorbar\": {\"outlinewidth\": 0, \"ticks\": \"\"}}, \"type\": \"scattergeo\"}], \"scattergl\": [{\"marker\": {\"colorbar\": {\"outlinewidth\": 0, \"ticks\": \"\"}}, \"type\": \"scattergl\"}], \"scattermapbox\": [{\"marker\": {\"colorbar\": {\"outlinewidth\": 0, \"ticks\": \"\"}}, \"type\": \"scattermapbox\"}], \"scatterpolar\": [{\"marker\": {\"colorbar\": {\"outlinewidth\": 0, \"ticks\": \"\"}}, \"type\": \"scatterpolar\"}], \"scatterpolargl\": [{\"marker\": {\"colorbar\": {\"outlinewidth\": 0, \"ticks\": \"\"}}, \"type\": \"scatterpolargl\"}], \"scatterternary\": [{\"marker\": {\"colorbar\": {\"outlinewidth\": 0, \"ticks\": \"\"}}, \"type\": \"scatterternary\"}], \"surface\": [{\"colorbar\": {\"outlinewidth\": 0, \"ticks\": \"\"}, \"colorscale\": [[0.0, \"#0d0887\"], [0.1111111111111111, \"#46039f\"], [0.2222222222222222, \"#7201a8\"], [0.3333333333333333, \"#9c179e\"], [0.4444444444444444, \"#bd3786\"], [0.5555555555555556, \"#d8576b\"], [0.6666666666666666, \"#ed7953\"], [0.7777777777777778, \"#fb9f3a\"], [0.8888888888888888, \"#fdca26\"], [1.0, \"#f0f921\"]], \"type\": \"surface\"}], \"table\": [{\"cells\": {\"fill\": {\"color\": \"#EBF0F8\"}, \"line\": {\"color\": \"white\"}}, \"header\": {\"fill\": {\"color\": \"#C8D4E3\"}, \"line\": {\"color\": \"white\"}}, \"type\": \"table\"}]}, \"layout\": {\"annotationdefaults\": {\"arrowcolor\": \"#2a3f5f\", \"arrowhead\": 0, \"arrowwidth\": 1}, \"coloraxis\": {\"colorbar\": {\"outlinewidth\": 0, \"ticks\": \"\"}}, \"colorscale\": {\"diverging\": [[0, \"#8e0152\"], [0.1, \"#c51b7d\"], [0.2, \"#de77ae\"], [0.3, \"#f1b6da\"], [0.4, \"#fde0ef\"], [0.5, \"#f7f7f7\"], [0.6, \"#e6f5d0\"], [0.7, \"#b8e186\"], [0.8, \"#7fbc41\"], [0.9, \"#4d9221\"], [1, \"#276419\"]], \"sequential\": [[0.0, \"#0d0887\"], [0.1111111111111111, \"#46039f\"], [0.2222222222222222, \"#7201a8\"], [0.3333333333333333, \"#9c179e\"], [0.4444444444444444, \"#bd3786\"], [0.5555555555555556, \"#d8576b\"], [0.6666666666666666, \"#ed7953\"], [0.7777777777777778, \"#fb9f3a\"], [0.8888888888888888, \"#fdca26\"], [1.0, \"#f0f921\"]], \"sequentialminus\": [[0.0, \"#0d0887\"], [0.1111111111111111, \"#46039f\"], [0.2222222222222222, \"#7201a8\"], [0.3333333333333333, \"#9c179e\"], [0.4444444444444444, \"#bd3786\"], [0.5555555555555556, \"#d8576b\"], [0.6666666666666666, \"#ed7953\"], [0.7777777777777778, \"#fb9f3a\"], [0.8888888888888888, \"#fdca26\"], [1.0, \"#f0f921\"]]}, \"colorway\": [\"#636efa\", \"#EF553B\", \"#00cc96\", \"#ab63fa\", \"#FFA15A\", \"#19d3f3\", \"#FF6692\", \"#B6E880\", \"#FF97FF\", \"#FECB52\"], \"font\": {\"color\": \"#2a3f5f\"}, \"geo\": {\"bgcolor\": \"white\", \"lakecolor\": \"white\", \"landcolor\": \"#E5ECF6\", \"showlakes\": true, \"showland\": true, \"subunitcolor\": \"white\"}, \"hoverlabel\": {\"align\": \"left\"}, \"hovermode\": \"closest\", \"mapbox\": {\"style\": \"light\"}, \"paper_bgcolor\": \"white\", \"plot_bgcolor\": \"#E5ECF6\", \"polar\": {\"angularaxis\": {\"gridcolor\": \"white\", \"linecolor\": \"white\", \"ticks\": \"\"}, \"bgcolor\": \"#E5ECF6\", \"radialaxis\": {\"gridcolor\": \"white\", \"linecolor\": \"white\", \"ticks\": \"\"}}, \"scene\": {\"xaxis\": {\"backgroundcolor\": \"#E5ECF6\", \"gridcolor\": \"white\", \"gridwidth\": 2, \"linecolor\": \"white\", \"showbackground\": true, \"ticks\": \"\", \"zerolinecolor\": \"white\"}, \"yaxis\": {\"backgroundcolor\": \"#E5ECF6\", \"gridcolor\": \"white\", \"gridwidth\": 2, \"linecolor\": \"white\", \"showbackground\": true, \"ticks\": \"\", \"zerolinecolor\": \"white\"}, \"zaxis\": {\"backgroundcolor\": \"#E5ECF6\", \"gridcolor\": \"white\", \"gridwidth\": 2, \"linecolor\": \"white\", \"showbackground\": true, \"ticks\": \"\", \"zerolinecolor\": \"white\"}}, \"shapedefaults\": {\"line\": {\"color\": \"#2a3f5f\"}}, \"ternary\": {\"aaxis\": {\"gridcolor\": \"white\", \"linecolor\": \"white\", \"ticks\": \"\"}, \"baxis\": {\"gridcolor\": \"white\", \"linecolor\": \"white\", \"ticks\": \"\"}, \"bgcolor\": \"#E5ECF6\", \"caxis\": {\"gridcolor\": \"white\", \"linecolor\": \"white\", \"ticks\": \"\"}}, \"title\": {\"x\": 0.05}, \"xaxis\": {\"automargin\": true, \"gridcolor\": \"white\", \"linecolor\": \"white\", \"ticks\": \"\", \"title\": {\"standoff\": 15}, \"zerolinecolor\": \"white\", \"zerolinewidth\": 2}, \"yaxis\": {\"automargin\": true, \"gridcolor\": \"white\", \"linecolor\": \"white\", \"ticks\": \"\", \"title\": {\"standoff\": 15}, \"zerolinecolor\": \"white\", \"zerolinewidth\": 2}}}, \"title\": {\"text\": \"Happiness vs Health vs Economy\"}, \"xaxis\": {\"autorange\": false, \"range\": [2.0334999999999996, 10.536399999999999], \"title\": {\"text\": \"Happiness Score\"}}, \"yaxis\": {\"autorange\": false, \"range\": [0.0, 1.3338780000000001], \"title\": {\"text\": \"Health\"}}},                        {\"responsive\": true}                    ).then(function(){\n",
       "                            \n",
       "var gd = document.getElementById('e53a755b-97b4-4fbd-a4b1-90348ddec63b');\n",
       "var x = new MutationObserver(function (mutations, observer) {{\n",
       "        var display = window.getComputedStyle(gd).display;\n",
       "        if (!display || display === 'none') {{\n",
       "            console.log([gd, 'removed!']);\n",
       "            Plotly.purge(gd);\n",
       "            observer.disconnect();\n",
       "        }}\n",
       "}});\n",
       "\n",
       "// Listen for the removal of the full notebook cells\n",
       "var notebookContainer = gd.closest('#notebook-container');\n",
       "if (notebookContainer) {{\n",
       "    x.observe(notebookContainer, {childList: true});\n",
       "}}\n",
       "\n",
       "// Listen for the clearing of the current output cell\n",
       "var outputEl = gd.closest('.output');\n",
       "if (outputEl) {{\n",
       "    x.observe(outputEl, {childList: true});\n",
       "}}\n",
       "\n",
       "                        })                };                });            </script>        </div>"
      ]
     },
     "metadata": {},
     "output_type": "display_data"
    }
   ],
   "source": [
    "figure=bubbleplot(dataset=data_2016, x_column='Happiness Score',y_column='Health (Life Expectancy)',x_title='Happiness Score',y_title='Health',bubble_column='Country',size_column='Economy (GDP per Capita)',color_column='Region',title='Happiness vs Health vs Economy',x_logscale=False,scale_bubble=1,height=750)\n",
    "py.iplot(figure)"
   ]
  },
  {
   "cell_type": "code",
   "execution_count": 62,
   "metadata": {},
   "outputs": [
    {
     "data": {
      "application/vnd.plotly.v1+json": {
       "config": {
        "linkText": "Export to plot.ly",
        "plotlyServerURL": "https://plot.ly",
        "scrollzoom": true,
        "showLink": false
       },
       "data": [
        {
         "marker": {
          "size": [
           1.3965100000000001,
           1.3023200000000001,
           1.32548,
           1.459,
           1.29025,
           1.32944,
           1.33171,
           1.33723,
           1.5639100000000001,
           1.33596,
           1.30782,
           1.26637,
           1.32792,
           1.27778,
           1.23011,
           1.2074,
           1.25114,
           1.2080600000000001,
           1.20813,
           1.15991,
           1.15406
          ],
          "sizemode": "area",
          "sizeref": 0.00052825625
         },
         "mode": "markers",
         "name": "Western Europe",
         "text": [
          "Switzerland",
          "Iceland",
          "Denmark",
          "Norway",
          "Finland",
          "Netherlands",
          "Sweden",
          "Austria",
          "Luxembourg",
          "Ireland",
          "Belgium",
          "United Kingdom",
          "Germany",
          "France",
          "Spain",
          "Malta",
          "Italy",
          "North Cyprus",
          "Cyprus",
          "Portugal",
          "Greece"
         ],
         "type": "scatter",
         "x": [
          7.587000000000001,
          7.561,
          7.527,
          7.522,
          7.406000000000001,
          7.377999999999999,
          7.364,
          7.2,
          6.946000000000001,
          6.94,
          6.937,
          6.867000000000001,
          6.75,
          6.575,
          6.329,
          6.3020000000000005,
          5.9479999999999995,
          5.695,
          5.689,
          5.102,
          4.857
         ],
         "y": [
          1.34951,
          1.4022299999999999,
          1.36058,
          1.33095,
          1.31826,
          1.28017,
          1.2890700000000002,
          1.29704,
          1.21963,
          1.36948,
          1.28566,
          1.28548,
          1.2993700000000001,
          1.2603799999999998,
          1.31379,
          1.30203,
          1.19777,
          1.07008,
          0.89318,
          1.13935,
          0.9293299999999999
         ]
        },
        {
         "marker": {
          "size": [
           1.32629,
           1.3945100000000001
          ],
          "sizemode": "area",
          "sizeref": 0.00052825625
         },
         "mode": "markers",
         "name": "North America",
         "text": [
          "Canada",
          "United States"
         ],
         "type": "scatter",
         "x": [
          7.4270000000000005,
          7.119
         ],
         "y": [
          1.32261,
          1.24711
         ]
        },
        {
         "marker": {
          "size": [
           1.2501799999999998,
           1.33358
          ],
          "sizemode": "area",
          "sizeref": 0.00052825625
         },
         "mode": "markers",
         "name": "Australia and New Zealand",
         "text": [
          "New Zealand",
          "Australia"
         ],
         "type": "scatter",
         "x": [
          7.2860000000000005,
          7.284
         ],
         "y": [
          1.3196700000000001,
          1.30923
         ]
        },
        {
         "marker": {
          "size": [
           1.2285700000000002,
           1.42727,
           1.36011,
           1.69042,
           1.39541,
           1.5542200000000002,
           1.32376,
           1.13145,
           0.93929,
           1.06098,
           0.9019799999999999,
           0.7347899999999999,
           1.0256399999999999,
           0.88113,
           0.59867,
           1.0088,
           0.98549,
           0.8818,
           0.5464899999999999,
           0.6632
          ],
          "sizemode": "area",
          "sizeref": 0.00052825625
         },
         "mode": "markers",
         "name": "Middle East and Northern Africa",
         "text": [
          "Israel",
          "United Arab Emirates",
          "Oman",
          "Qatar",
          "Saudi Arabia",
          "Kuwait",
          "Bahrain",
          "Libya",
          "Algeria",
          "Turkey",
          "Jordan",
          "Morocco",
          "Lebanon",
          "Tunisia",
          "Palestinian Territories",
          "Iran",
          "Iraq",
          "Egypt",
          "Yemen",
          "Syria"
         ],
         "type": "scatter",
         "x": [
          7.278,
          6.901,
          6.853,
          6.611000000000001,
          6.4110000000000005,
          6.295,
          5.96,
          5.754,
          5.605,
          5.332000000000001,
          5.192,
          5.013,
          4.8389999999999995,
          4.739,
          4.715,
          4.686,
          4.677,
          4.194,
          4.077,
          3.0060000000000002
         ],
         "y": [
          1.22393,
          1.12575,
          1.08182,
          1.0786,
          1.0839299999999998,
          1.16594,
          1.21624,
          1.1186200000000002,
          1.07772,
          0.94632,
          1.05392,
          0.64095,
          0.80001,
          0.60429,
          0.92558,
          0.54447,
          0.81889,
          0.747,
          0.68093,
          0.47489
         ]
        },
        {
         "marker": {
          "size": [
           0.95578,
           1.02054,
           0.98124,
           1.04424,
           1.0635299999999999,
           1.10715,
           1.05351,
           1.06166,
           0.91861,
           0.99534,
           1.21183,
           0.76454,
           0.74553,
           0.8640200000000001,
           0.68133,
           0.75985,
           0.59325,
           0.9001899999999999,
           0.81038,
           0.8953700000000001,
           0.59532,
           0.26673
          ],
          "sizemode": "area",
          "sizeref": 0.00052825625
         },
         "mode": "markers",
         "name": "Latin America and Caribbean",
         "text": [
          "Costa Rica",
          "Mexico",
          "Brazil",
          "Venezuela",
          "Panama",
          "Chile",
          "Argentina",
          "Uruguay",
          "Colombia",
          "Suriname",
          "Trinidad and Tobago",
          "El Salvador",
          "Guatemala",
          "Ecuador",
          "Bolivia",
          "Paraguay",
          "Nicaragua",
          "Peru",
          "Jamaica",
          "Dominican Republic",
          "Honduras",
          "Haiti"
         ],
         "type": "scatter",
         "x": [
          7.226,
          7.187,
          6.983,
          6.81,
          6.7860000000000005,
          6.67,
          6.574,
          6.485,
          6.477,
          6.269,
          6.167999999999999,
          6.13,
          6.122999999999999,
          5.975,
          5.89,
          5.877999999999999,
          5.827999999999999,
          5.824,
          5.709,
          4.885,
          4.788,
          4.518
         ],
         "y": [
          1.2378799999999999,
          0.91451,
          1.2328700000000001,
          1.25596,
          1.1985,
          1.12447,
          1.24823,
          1.2089,
          1.2401799999999998,
          0.972,
          1.18354,
          1.0250700000000001,
          1.04356,
          0.99903,
          0.97841,
          1.30477,
          1.14184,
          0.97459,
          1.1510200000000002,
          1.17202,
          0.9534799999999999,
          0.74302
         ]
        },
        {
         "marker": {
          "size": [
           1.52186,
           0.9669,
           1.12486,
           0.8282700000000001,
           0.63216,
           0.70532,
           0.5906600000000001,
           0.27108000000000004,
           0.46038
          ],
          "sizemode": "area",
          "sizeref": 0.00052825625
         },
         "mode": "markers",
         "name": "Southeastern Asia",
         "text": [
          "Singapore",
          "Thailand",
          "Malaysia",
          "Indonesia",
          "Vietnam",
          "Philippines",
          "Laos",
          "Myanmar",
          "Cambodia"
         ],
         "type": "scatter",
         "x": [
          6.797999999999999,
          6.455,
          5.77,
          5.399,
          5.36,
          5.073,
          4.876,
          4.3069999999999995,
          3.819
         ],
         "y": [
          1.02,
          1.26504,
          1.07023,
          1.0870799999999998,
          0.9122600000000001,
          1.03516,
          0.73803,
          0.70905,
          0.62736
         ]
        },
        {
         "marker": {
          "size": [
           1.17898,
           0.63244,
           1.1689100000000001,
           0.59448,
           1.1225399999999999,
           1.18498,
           1.14723,
           1.0319200000000002,
           1.12555,
           1.08254,
           1.13764,
           0.80148,
           0.95847,
           1.15174,
           0.47428000000000003,
           1.02389,
           0.9743799999999999,
           1.04345,
           0.92053,
           1.11312,
           0.91851,
           0.8786700000000001,
           0.8322299999999999,
           1.12094,
           0.39047,
           0.79907,
           0.7682100000000001,
           0.7419,
           1.01216
          ],
          "sizemode": "area",
          "sizeref": 0.00052825625
         },
         "mode": "markers",
         "name": "Central and Eastern Europe",
         "text": [
          "Czech Republic",
          "Uzbekistan",
          "Slovakia",
          "Moldova",
          "Kazakhstan",
          "Slovenia",
          "Lithuania",
          "Belarus",
          "Poland",
          "Croatia",
          "Russia",
          "Kosovo",
          "Turkmenistan",
          "Estonia",
          "Kyrgyzstan",
          "Azerbaijan",
          "Montenegro",
          "Romania",
          "Serbia",
          "Latvia",
          "Macedonia",
          "Albania",
          "Bosnia and Herzegovina",
          "Hungary",
          "Tajikistan",
          "Ukraine",
          "Armenia",
          "Georgia",
          "Bulgaria"
         ],
         "type": "scatter",
         "x": [
          6.505,
          6.002999999999999,
          5.995,
          5.888999999999999,
          5.855,
          5.848,
          5.832999999999999,
          5.813,
          5.791,
          5.7589999999999995,
          5.716,
          5.5889999999999995,
          5.547999999999999,
          5.428999999999999,
          5.2860000000000005,
          5.212000000000001,
          5.192,
          5.124,
          5.122999999999999,
          5.098,
          5.007,
          4.959,
          4.949,
          4.8,
          4.7860000000000005,
          4.681,
          4.35,
          4.297,
          4.218
         ],
         "y": [
          1.20643,
          1.34043,
          1.26999,
          1.01528,
          1.1224100000000001,
          1.27385,
          1.25745,
          1.23289,
          1.27948,
          0.79624,
          1.23617,
          0.81198,
          1.22668,
          1.22791,
          1.15115,
          0.9379299999999999,
          0.9055700000000001,
          0.8858799999999999,
          1.0096399999999999,
          1.09562,
          1.00232,
          0.8043399999999999,
          0.9191600000000001,
          1.20215,
          0.8556299999999999,
          1.20278,
          0.7771100000000001,
          0.38561999999999996,
          1.10614
         ]
        },
        {
         "marker": {
          "size": [
           1.29098,
           1.27074,
           1.24461,
           1.38604,
           0.89012,
           0.82819
          ],
          "sizemode": "area",
          "sizeref": 0.00052825625
         },
         "mode": "markers",
         "name": "Eastern Asia",
         "text": [
          "Taiwan",
          "Japan",
          "South Korea",
          "Hong Kong",
          "China",
          "Mongolia"
         ],
         "type": "scatter",
         "x": [
          6.297999999999999,
          5.987,
          5.984,
          5.474,
          5.14,
          4.874
         ],
         "y": [
          1.07617,
          1.25712,
          0.9577399999999999,
          1.05818,
          0.94675,
          1.3006
         ]
        },
        {
         "marker": {
          "size": [
           1.0076100000000001,
           0.65435,
           0.47038,
           0.18847,
           0.08308,
           0.37545,
           0.71206,
           0.9204899999999999,
           0.5455800000000001,
           0.271,
           0.0712,
           0.52107,
           0,
           0.19072999999999998,
           0.33024000000000003,
           0.45407,
           0.36471,
           0.44025,
           0.99355,
           0.016040000000000002,
           0.4225,
           0.75778,
           0.26074,
           0.67866,
           0.23906,
           0.21101999999999999,
           0.36498,
           1.06024,
           0.0694,
           0.2852,
           0.20824,
           0.0785,
           0.34193,
           0.17417,
           0.46534,
           0.25811999999999996,
           0.22208000000000003,
           0.28665,
           0.0153,
           0.20868
          ],
          "sizemode": "area",
          "sizeref": 0.00052825625
         },
         "mode": "markers",
         "name": "Sub-Saharan Africa",
         "text": [
          "Mauritius",
          "Nigeria",
          "Zambia",
          "Somaliland region",
          "Mozambique",
          "Lesotho",
          "Swaziland",
          "South Africa",
          "Ghana",
          "Zimbabwe",
          "Liberia",
          "Sudan",
          "Congo (Kinshasa)",
          "Ethiopia",
          "Sierra Leone",
          "Mauritania",
          "Kenya",
          "Djibouti",
          "Botswana",
          "Malawi",
          "Cameroon",
          "Angola",
          "Mali",
          "Congo (Brazzaville)",
          "Comoros",
          "Uganda",
          "Senegal",
          "Gabon",
          "Niger",
          "Tanzania",
          "Madagascar",
          "Central African Republic",
          "Chad",
          "Guinea",
          "Ivory Coast",
          "Burkina Faso",
          "Rwanda",
          "Benin",
          "Burundi",
          "Togo"
         ],
         "type": "scatter",
         "x": [
          5.477,
          5.268,
          5.129,
          5.0569999999999995,
          4.971,
          4.898,
          4.867,
          4.6419999999999995,
          4.633,
          4.61,
          4.571000000000001,
          4.55,
          4.5169999999999995,
          4.512,
          4.507,
          4.436,
          4.419,
          4.369,
          4.332,
          4.292,
          4.252,
          4.033,
          3.995,
          3.989,
          3.9560000000000004,
          3.931,
          3.904,
          3.8960000000000004,
          3.845,
          3.781,
          3.681,
          3.678,
          3.667,
          3.656,
          3.655,
          3.5869999999999997,
          3.465,
          3.34,
          2.905,
          2.839
         ],
         "y": [
          0.98521,
          0.9043200000000001,
          0.91612,
          0.95152,
          1.02626,
          1.04103,
          1.07284,
          1.18468,
          0.6795399999999999,
          1.0327600000000001,
          0.78968,
          1.01404,
          1.0012,
          0.60406,
          0.9557100000000001,
          0.86908,
          0.99876,
          0.59207,
          1.10464,
          0.41134,
          0.8876700000000001,
          0.8604,
          1.03526,
          0.6629,
          0.79273,
          1.13299,
          0.97619,
          0.90528,
          0.77265,
          1.00268,
          0.66801,
          0,
          0.76062,
          0.46475,
          0.77115,
          0.85188,
          0.7737,
          0.35386,
          0.41586999999999996,
          0.13995
         ]
        },
        {
         "marker": {
          "size": [
           0.77042,
           0.59543,
           0.39753,
           0.64499,
           0.35996999999999996,
           0.83524,
           0.31982
          ],
          "sizemode": "area",
          "sizeref": 0.00052825625
         },
         "mode": "markers",
         "name": "Southern Asia",
         "text": [
          "Bhutan",
          "Pakistan",
          "Bangladesh",
          "India",
          "Nepal",
          "Sri Lanka",
          "Afghanistan"
         ],
         "type": "scatter",
         "x": [
          5.252999999999999,
          5.194,
          4.694,
          4.565,
          4.513999999999999,
          4.271,
          3.575
         ],
         "y": [
          1.10395,
          0.41411000000000003,
          0.43106000000000005,
          0.38174,
          0.86449,
          1.01905,
          0.30285
         ]
        }
       ],
       "layout": {
        "height": 650,
        "hovermode": "closest",
        "margin": {
         "b": 50,
         "pad": 5,
         "t": 50
        },
        "showlegend": true,
        "template": {
         "data": {
          "bar": [
           {
            "error_x": {
             "color": "#2a3f5f"
            },
            "error_y": {
             "color": "#2a3f5f"
            },
            "marker": {
             "line": {
              "color": "#E5ECF6",
              "width": 0.5
             }
            },
            "type": "bar"
           }
          ],
          "barpolar": [
           {
            "marker": {
             "line": {
              "color": "#E5ECF6",
              "width": 0.5
             }
            },
            "type": "barpolar"
           }
          ],
          "carpet": [
           {
            "aaxis": {
             "endlinecolor": "#2a3f5f",
             "gridcolor": "white",
             "linecolor": "white",
             "minorgridcolor": "white",
             "startlinecolor": "#2a3f5f"
            },
            "baxis": {
             "endlinecolor": "#2a3f5f",
             "gridcolor": "white",
             "linecolor": "white",
             "minorgridcolor": "white",
             "startlinecolor": "#2a3f5f"
            },
            "type": "carpet"
           }
          ],
          "choropleth": [
           {
            "colorbar": {
             "outlinewidth": 0,
             "ticks": ""
            },
            "type": "choropleth"
           }
          ],
          "contour": [
           {
            "colorbar": {
             "outlinewidth": 0,
             "ticks": ""
            },
            "colorscale": [
             [
              0,
              "#0d0887"
             ],
             [
              0.1111111111111111,
              "#46039f"
             ],
             [
              0.2222222222222222,
              "#7201a8"
             ],
             [
              0.3333333333333333,
              "#9c179e"
             ],
             [
              0.4444444444444444,
              "#bd3786"
             ],
             [
              0.5555555555555556,
              "#d8576b"
             ],
             [
              0.6666666666666666,
              "#ed7953"
             ],
             [
              0.7777777777777778,
              "#fb9f3a"
             ],
             [
              0.8888888888888888,
              "#fdca26"
             ],
             [
              1,
              "#f0f921"
             ]
            ],
            "type": "contour"
           }
          ],
          "contourcarpet": [
           {
            "colorbar": {
             "outlinewidth": 0,
             "ticks": ""
            },
            "type": "contourcarpet"
           }
          ],
          "heatmap": [
           {
            "colorbar": {
             "outlinewidth": 0,
             "ticks": ""
            },
            "colorscale": [
             [
              0,
              "#0d0887"
             ],
             [
              0.1111111111111111,
              "#46039f"
             ],
             [
              0.2222222222222222,
              "#7201a8"
             ],
             [
              0.3333333333333333,
              "#9c179e"
             ],
             [
              0.4444444444444444,
              "#bd3786"
             ],
             [
              0.5555555555555556,
              "#d8576b"
             ],
             [
              0.6666666666666666,
              "#ed7953"
             ],
             [
              0.7777777777777778,
              "#fb9f3a"
             ],
             [
              0.8888888888888888,
              "#fdca26"
             ],
             [
              1,
              "#f0f921"
             ]
            ],
            "type": "heatmap"
           }
          ],
          "heatmapgl": [
           {
            "colorbar": {
             "outlinewidth": 0,
             "ticks": ""
            },
            "colorscale": [
             [
              0,
              "#0d0887"
             ],
             [
              0.1111111111111111,
              "#46039f"
             ],
             [
              0.2222222222222222,
              "#7201a8"
             ],
             [
              0.3333333333333333,
              "#9c179e"
             ],
             [
              0.4444444444444444,
              "#bd3786"
             ],
             [
              0.5555555555555556,
              "#d8576b"
             ],
             [
              0.6666666666666666,
              "#ed7953"
             ],
             [
              0.7777777777777778,
              "#fb9f3a"
             ],
             [
              0.8888888888888888,
              "#fdca26"
             ],
             [
              1,
              "#f0f921"
             ]
            ],
            "type": "heatmapgl"
           }
          ],
          "histogram": [
           {
            "marker": {
             "colorbar": {
              "outlinewidth": 0,
              "ticks": ""
             }
            },
            "type": "histogram"
           }
          ],
          "histogram2d": [
           {
            "colorbar": {
             "outlinewidth": 0,
             "ticks": ""
            },
            "colorscale": [
             [
              0,
              "#0d0887"
             ],
             [
              0.1111111111111111,
              "#46039f"
             ],
             [
              0.2222222222222222,
              "#7201a8"
             ],
             [
              0.3333333333333333,
              "#9c179e"
             ],
             [
              0.4444444444444444,
              "#bd3786"
             ],
             [
              0.5555555555555556,
              "#d8576b"
             ],
             [
              0.6666666666666666,
              "#ed7953"
             ],
             [
              0.7777777777777778,
              "#fb9f3a"
             ],
             [
              0.8888888888888888,
              "#fdca26"
             ],
             [
              1,
              "#f0f921"
             ]
            ],
            "type": "histogram2d"
           }
          ],
          "histogram2dcontour": [
           {
            "colorbar": {
             "outlinewidth": 0,
             "ticks": ""
            },
            "colorscale": [
             [
              0,
              "#0d0887"
             ],
             [
              0.1111111111111111,
              "#46039f"
             ],
             [
              0.2222222222222222,
              "#7201a8"
             ],
             [
              0.3333333333333333,
              "#9c179e"
             ],
             [
              0.4444444444444444,
              "#bd3786"
             ],
             [
              0.5555555555555556,
              "#d8576b"
             ],
             [
              0.6666666666666666,
              "#ed7953"
             ],
             [
              0.7777777777777778,
              "#fb9f3a"
             ],
             [
              0.8888888888888888,
              "#fdca26"
             ],
             [
              1,
              "#f0f921"
             ]
            ],
            "type": "histogram2dcontour"
           }
          ],
          "mesh3d": [
           {
            "colorbar": {
             "outlinewidth": 0,
             "ticks": ""
            },
            "type": "mesh3d"
           }
          ],
          "parcoords": [
           {
            "line": {
             "colorbar": {
              "outlinewidth": 0,
              "ticks": ""
             }
            },
            "type": "parcoords"
           }
          ],
          "pie": [
           {
            "automargin": true,
            "type": "pie"
           }
          ],
          "scatter": [
           {
            "marker": {
             "colorbar": {
              "outlinewidth": 0,
              "ticks": ""
             }
            },
            "type": "scatter"
           }
          ],
          "scatter3d": [
           {
            "line": {
             "colorbar": {
              "outlinewidth": 0,
              "ticks": ""
             }
            },
            "marker": {
             "colorbar": {
              "outlinewidth": 0,
              "ticks": ""
             }
            },
            "type": "scatter3d"
           }
          ],
          "scattercarpet": [
           {
            "marker": {
             "colorbar": {
              "outlinewidth": 0,
              "ticks": ""
             }
            },
            "type": "scattercarpet"
           }
          ],
          "scattergeo": [
           {
            "marker": {
             "colorbar": {
              "outlinewidth": 0,
              "ticks": ""
             }
            },
            "type": "scattergeo"
           }
          ],
          "scattergl": [
           {
            "marker": {
             "colorbar": {
              "outlinewidth": 0,
              "ticks": ""
             }
            },
            "type": "scattergl"
           }
          ],
          "scattermapbox": [
           {
            "marker": {
             "colorbar": {
              "outlinewidth": 0,
              "ticks": ""
             }
            },
            "type": "scattermapbox"
           }
          ],
          "scatterpolar": [
           {
            "marker": {
             "colorbar": {
              "outlinewidth": 0,
              "ticks": ""
             }
            },
            "type": "scatterpolar"
           }
          ],
          "scatterpolargl": [
           {
            "marker": {
             "colorbar": {
              "outlinewidth": 0,
              "ticks": ""
             }
            },
            "type": "scatterpolargl"
           }
          ],
          "scatterternary": [
           {
            "marker": {
             "colorbar": {
              "outlinewidth": 0,
              "ticks": ""
             }
            },
            "type": "scatterternary"
           }
          ],
          "surface": [
           {
            "colorbar": {
             "outlinewidth": 0,
             "ticks": ""
            },
            "colorscale": [
             [
              0,
              "#0d0887"
             ],
             [
              0.1111111111111111,
              "#46039f"
             ],
             [
              0.2222222222222222,
              "#7201a8"
             ],
             [
              0.3333333333333333,
              "#9c179e"
             ],
             [
              0.4444444444444444,
              "#bd3786"
             ],
             [
              0.5555555555555556,
              "#d8576b"
             ],
             [
              0.6666666666666666,
              "#ed7953"
             ],
             [
              0.7777777777777778,
              "#fb9f3a"
             ],
             [
              0.8888888888888888,
              "#fdca26"
             ],
             [
              1,
              "#f0f921"
             ]
            ],
            "type": "surface"
           }
          ],
          "table": [
           {
            "cells": {
             "fill": {
              "color": "#EBF0F8"
             },
             "line": {
              "color": "white"
             }
            },
            "header": {
             "fill": {
              "color": "#C8D4E3"
             },
             "line": {
              "color": "white"
             }
            },
            "type": "table"
           }
          ]
         },
         "layout": {
          "annotationdefaults": {
           "arrowcolor": "#2a3f5f",
           "arrowhead": 0,
           "arrowwidth": 1
          },
          "coloraxis": {
           "colorbar": {
            "outlinewidth": 0,
            "ticks": ""
           }
          },
          "colorscale": {
           "diverging": [
            [
             0,
             "#8e0152"
            ],
            [
             0.1,
             "#c51b7d"
            ],
            [
             0.2,
             "#de77ae"
            ],
            [
             0.3,
             "#f1b6da"
            ],
            [
             0.4,
             "#fde0ef"
            ],
            [
             0.5,
             "#f7f7f7"
            ],
            [
             0.6,
             "#e6f5d0"
            ],
            [
             0.7,
             "#b8e186"
            ],
            [
             0.8,
             "#7fbc41"
            ],
            [
             0.9,
             "#4d9221"
            ],
            [
             1,
             "#276419"
            ]
           ],
           "sequential": [
            [
             0,
             "#0d0887"
            ],
            [
             0.1111111111111111,
             "#46039f"
            ],
            [
             0.2222222222222222,
             "#7201a8"
            ],
            [
             0.3333333333333333,
             "#9c179e"
            ],
            [
             0.4444444444444444,
             "#bd3786"
            ],
            [
             0.5555555555555556,
             "#d8576b"
            ],
            [
             0.6666666666666666,
             "#ed7953"
            ],
            [
             0.7777777777777778,
             "#fb9f3a"
            ],
            [
             0.8888888888888888,
             "#fdca26"
            ],
            [
             1,
             "#f0f921"
            ]
           ],
           "sequentialminus": [
            [
             0,
             "#0d0887"
            ],
            [
             0.1111111111111111,
             "#46039f"
            ],
            [
             0.2222222222222222,
             "#7201a8"
            ],
            [
             0.3333333333333333,
             "#9c179e"
            ],
            [
             0.4444444444444444,
             "#bd3786"
            ],
            [
             0.5555555555555556,
             "#d8576b"
            ],
            [
             0.6666666666666666,
             "#ed7953"
            ],
            [
             0.7777777777777778,
             "#fb9f3a"
            ],
            [
             0.8888888888888888,
             "#fdca26"
            ],
            [
             1,
             "#f0f921"
            ]
           ]
          },
          "colorway": [
           "#636efa",
           "#EF553B",
           "#00cc96",
           "#ab63fa",
           "#FFA15A",
           "#19d3f3",
           "#FF6692",
           "#B6E880",
           "#FF97FF",
           "#FECB52"
          ],
          "font": {
           "color": "#2a3f5f"
          },
          "geo": {
           "bgcolor": "white",
           "lakecolor": "white",
           "landcolor": "#E5ECF6",
           "showlakes": true,
           "showland": true,
           "subunitcolor": "white"
          },
          "hoverlabel": {
           "align": "left"
          },
          "hovermode": "closest",
          "mapbox": {
           "style": "light"
          },
          "paper_bgcolor": "white",
          "plot_bgcolor": "#E5ECF6",
          "polar": {
           "angularaxis": {
            "gridcolor": "white",
            "linecolor": "white",
            "ticks": ""
           },
           "bgcolor": "#E5ECF6",
           "radialaxis": {
            "gridcolor": "white",
            "linecolor": "white",
            "ticks": ""
           }
          },
          "scene": {
           "xaxis": {
            "backgroundcolor": "#E5ECF6",
            "gridcolor": "white",
            "gridwidth": 2,
            "linecolor": "white",
            "showbackground": true,
            "ticks": "",
            "zerolinecolor": "white"
           },
           "yaxis": {
            "backgroundcolor": "#E5ECF6",
            "gridcolor": "white",
            "gridwidth": 2,
            "linecolor": "white",
            "showbackground": true,
            "ticks": "",
            "zerolinecolor": "white"
           },
           "zaxis": {
            "backgroundcolor": "#E5ECF6",
            "gridcolor": "white",
            "gridwidth": 2,
            "linecolor": "white",
            "showbackground": true,
            "ticks": "",
            "zerolinecolor": "white"
           }
          },
          "shapedefaults": {
           "line": {
            "color": "#2a3f5f"
           }
          },
          "ternary": {
           "aaxis": {
            "gridcolor": "white",
            "linecolor": "white",
            "ticks": ""
           },
           "baxis": {
            "gridcolor": "white",
            "linecolor": "white",
            "ticks": ""
           },
           "bgcolor": "#E5ECF6",
           "caxis": {
            "gridcolor": "white",
            "linecolor": "white",
            "ticks": ""
           }
          },
          "title": {
           "x": 0.05
          },
          "xaxis": {
           "automargin": true,
           "gridcolor": "white",
           "linecolor": "white",
           "ticks": "",
           "title": {
            "standoff": 15
           },
           "zerolinecolor": "white",
           "zerolinewidth": 2
          },
          "yaxis": {
           "automargin": true,
           "gridcolor": "white",
           "linecolor": "white",
           "ticks": "",
           "title": {
            "standoff": 15
           },
           "zerolinecolor": "white",
           "zerolinewidth": 2
          }
         }
        },
        "title": {
         "text": "Happiness vs Family vs Economy"
        },
        "xaxis": {
         "autorange": false,
         "range": [
          1.9872999999999998,
          10.6218
         ],
         "title": {
          "text": "Happiness Score"
         }
        },
        "yaxis": {
         "autorange": false,
         "range": [
          0,
          1.9631219999999996
         ],
         "title": {
          "text": "Family"
         }
        }
       }
      },
      "text/html": [
       "<div>                            <div id=\"c0631f4e-3be8-4d55-b7a1-c4e8f1ab9ce5\" class=\"plotly-graph-div\" style=\"height:650px; width:100%;\"></div>            <script type=\"text/javascript\">                require([\"plotly\"], function(Plotly) {                    window.PLOTLYENV=window.PLOTLYENV || {};                                    if (document.getElementById(\"c0631f4e-3be8-4d55-b7a1-c4e8f1ab9ce5\")) {                    Plotly.newPlot(                        \"c0631f4e-3be8-4d55-b7a1-c4e8f1ab9ce5\",                        [{\"marker\": {\"size\": [1.3965100000000001, 1.3023200000000001, 1.32548, 1.459, 1.29025, 1.32944, 1.33171, 1.33723, 1.5639100000000001, 1.33596, 1.30782, 1.26637, 1.32792, 1.27778, 1.23011, 1.2074, 1.25114, 1.2080600000000001, 1.20813, 1.15991, 1.15406], \"sizemode\": \"area\", \"sizeref\": 0.00052825625}, \"mode\": \"markers\", \"name\": \"Western Europe\", \"text\": [\"Switzerland\", \"Iceland\", \"Denmark\", \"Norway\", \"Finland\", \"Netherlands\", \"Sweden\", \"Austria\", \"Luxembourg\", \"Ireland\", \"Belgium\", \"United Kingdom\", \"Germany\", \"France\", \"Spain\", \"Malta\", \"Italy\", \"North Cyprus\", \"Cyprus\", \"Portugal\", \"Greece\"], \"type\": \"scatter\", \"x\": [7.587000000000001, 7.561, 7.527, 7.522, 7.406000000000001, 7.377999999999999, 7.364, 7.2, 6.946000000000001, 6.94, 6.937, 6.867000000000001, 6.75, 6.575, 6.329, 6.3020000000000005, 5.9479999999999995, 5.695, 5.689, 5.102, 4.857], \"y\": [1.34951, 1.4022299999999999, 1.36058, 1.33095, 1.31826, 1.28017, 1.2890700000000002, 1.29704, 1.21963, 1.36948, 1.28566, 1.28548, 1.2993700000000001, 1.2603799999999998, 1.31379, 1.30203, 1.19777, 1.07008, 0.89318, 1.13935, 0.9293299999999999]}, {\"marker\": {\"size\": [1.32629, 1.3945100000000001], \"sizemode\": \"area\", \"sizeref\": 0.00052825625}, \"mode\": \"markers\", \"name\": \"North America\", \"text\": [\"Canada\", \"United States\"], \"type\": \"scatter\", \"x\": [7.4270000000000005, 7.119], \"y\": [1.32261, 1.24711]}, {\"marker\": {\"size\": [1.2501799999999998, 1.33358], \"sizemode\": \"area\", \"sizeref\": 0.00052825625}, \"mode\": \"markers\", \"name\": \"Australia and New Zealand\", \"text\": [\"New Zealand\", \"Australia\"], \"type\": \"scatter\", \"x\": [7.2860000000000005, 7.284], \"y\": [1.3196700000000001, 1.30923]}, {\"marker\": {\"size\": [1.2285700000000002, 1.42727, 1.36011, 1.69042, 1.39541, 1.5542200000000002, 1.32376, 1.13145, 0.93929, 1.06098, 0.9019799999999999, 0.7347899999999999, 1.0256399999999999, 0.88113, 0.59867, 1.0088, 0.98549, 0.8818, 0.5464899999999999, 0.6632], \"sizemode\": \"area\", \"sizeref\": 0.00052825625}, \"mode\": \"markers\", \"name\": \"Middle East and Northern Africa\", \"text\": [\"Israel\", \"United Arab Emirates\", \"Oman\", \"Qatar\", \"Saudi Arabia\", \"Kuwait\", \"Bahrain\", \"Libya\", \"Algeria\", \"Turkey\", \"Jordan\", \"Morocco\", \"Lebanon\", \"Tunisia\", \"Palestinian Territories\", \"Iran\", \"Iraq\", \"Egypt\", \"Yemen\", \"Syria\"], \"type\": \"scatter\", \"x\": [7.278, 6.901, 6.853, 6.611000000000001, 6.4110000000000005, 6.295, 5.96, 5.754, 5.605, 5.332000000000001, 5.192, 5.013, 4.8389999999999995, 4.739, 4.715, 4.686, 4.677, 4.194, 4.077, 3.0060000000000002], \"y\": [1.22393, 1.12575, 1.08182, 1.0786, 1.0839299999999998, 1.16594, 1.21624, 1.1186200000000002, 1.07772, 0.94632, 1.05392, 0.64095, 0.80001, 0.60429, 0.92558, 0.54447, 0.81889, 0.747, 0.68093, 0.47489]}, {\"marker\": {\"size\": [0.95578, 1.02054, 0.98124, 1.04424, 1.0635299999999999, 1.10715, 1.05351, 1.06166, 0.91861, 0.99534, 1.21183, 0.76454, 0.74553, 0.8640200000000001, 0.68133, 0.75985, 0.59325, 0.9001899999999999, 0.81038, 0.8953700000000001, 0.59532, 0.26673], \"sizemode\": \"area\", \"sizeref\": 0.00052825625}, \"mode\": \"markers\", \"name\": \"Latin America and Caribbean\", \"text\": [\"Costa Rica\", \"Mexico\", \"Brazil\", \"Venezuela\", \"Panama\", \"Chile\", \"Argentina\", \"Uruguay\", \"Colombia\", \"Suriname\", \"Trinidad and Tobago\", \"El Salvador\", \"Guatemala\", \"Ecuador\", \"Bolivia\", \"Paraguay\", \"Nicaragua\", \"Peru\", \"Jamaica\", \"Dominican Republic\", \"Honduras\", \"Haiti\"], \"type\": \"scatter\", \"x\": [7.226, 7.187, 6.983, 6.81, 6.7860000000000005, 6.67, 6.574, 6.485, 6.477, 6.269, 6.167999999999999, 6.13, 6.122999999999999, 5.975, 5.89, 5.877999999999999, 5.827999999999999, 5.824, 5.709, 4.885, 4.788, 4.518], \"y\": [1.2378799999999999, 0.91451, 1.2328700000000001, 1.25596, 1.1985, 1.12447, 1.24823, 1.2089, 1.2401799999999998, 0.972, 1.18354, 1.0250700000000001, 1.04356, 0.99903, 0.97841, 1.30477, 1.14184, 0.97459, 1.1510200000000002, 1.17202, 0.9534799999999999, 0.74302]}, {\"marker\": {\"size\": [1.52186, 0.9669, 1.12486, 0.8282700000000001, 0.63216, 0.70532, 0.5906600000000001, 0.27108000000000004, 0.46038], \"sizemode\": \"area\", \"sizeref\": 0.00052825625}, \"mode\": \"markers\", \"name\": \"Southeastern Asia\", \"text\": [\"Singapore\", \"Thailand\", \"Malaysia\", \"Indonesia\", \"Vietnam\", \"Philippines\", \"Laos\", \"Myanmar\", \"Cambodia\"], \"type\": \"scatter\", \"x\": [6.797999999999999, 6.455, 5.77, 5.399, 5.36, 5.073, 4.876, 4.3069999999999995, 3.819], \"y\": [1.02, 1.26504, 1.07023, 1.0870799999999998, 0.9122600000000001, 1.03516, 0.73803, 0.70905, 0.62736]}, {\"marker\": {\"size\": [1.17898, 0.63244, 1.1689100000000001, 0.59448, 1.1225399999999999, 1.18498, 1.14723, 1.0319200000000002, 1.12555, 1.08254, 1.13764, 0.80148, 0.95847, 1.15174, 0.47428000000000003, 1.02389, 0.9743799999999999, 1.04345, 0.92053, 1.11312, 0.91851, 0.8786700000000001, 0.8322299999999999, 1.12094, 0.39047, 0.79907, 0.7682100000000001, 0.7419, 1.01216], \"sizemode\": \"area\", \"sizeref\": 0.00052825625}, \"mode\": \"markers\", \"name\": \"Central and Eastern Europe\", \"text\": [\"Czech Republic\", \"Uzbekistan\", \"Slovakia\", \"Moldova\", \"Kazakhstan\", \"Slovenia\", \"Lithuania\", \"Belarus\", \"Poland\", \"Croatia\", \"Russia\", \"Kosovo\", \"Turkmenistan\", \"Estonia\", \"Kyrgyzstan\", \"Azerbaijan\", \"Montenegro\", \"Romania\", \"Serbia\", \"Latvia\", \"Macedonia\", \"Albania\", \"Bosnia and Herzegovina\", \"Hungary\", \"Tajikistan\", \"Ukraine\", \"Armenia\", \"Georgia\", \"Bulgaria\"], \"type\": \"scatter\", \"x\": [6.505, 6.002999999999999, 5.995, 5.888999999999999, 5.855, 5.848, 5.832999999999999, 5.813, 5.791, 5.7589999999999995, 5.716, 5.5889999999999995, 5.547999999999999, 5.428999999999999, 5.2860000000000005, 5.212000000000001, 5.192, 5.124, 5.122999999999999, 5.098, 5.007, 4.959, 4.949, 4.8, 4.7860000000000005, 4.681, 4.35, 4.297, 4.218], \"y\": [1.20643, 1.34043, 1.26999, 1.01528, 1.1224100000000001, 1.27385, 1.25745, 1.23289, 1.27948, 0.79624, 1.23617, 0.81198, 1.22668, 1.22791, 1.15115, 0.9379299999999999, 0.9055700000000001, 0.8858799999999999, 1.0096399999999999, 1.09562, 1.00232, 0.8043399999999999, 0.9191600000000001, 1.20215, 0.8556299999999999, 1.20278, 0.7771100000000001, 0.38561999999999996, 1.10614]}, {\"marker\": {\"size\": [1.29098, 1.27074, 1.24461, 1.38604, 0.89012, 0.82819], \"sizemode\": \"area\", \"sizeref\": 0.00052825625}, \"mode\": \"markers\", \"name\": \"Eastern Asia\", \"text\": [\"Taiwan\", \"Japan\", \"South Korea\", \"Hong Kong\", \"China\", \"Mongolia\"], \"type\": \"scatter\", \"x\": [6.297999999999999, 5.987, 5.984, 5.474, 5.14, 4.874], \"y\": [1.07617, 1.25712, 0.9577399999999999, 1.05818, 0.94675, 1.3006]}, {\"marker\": {\"size\": [1.0076100000000001, 0.65435, 0.47038, 0.18847, 0.08308, 0.37545, 0.71206, 0.9204899999999999, 0.5455800000000001, 0.271, 0.0712, 0.52107, 0.0, 0.19072999999999998, 0.33024000000000003, 0.45407, 0.36471, 0.44025, 0.99355, 0.016040000000000002, 0.4225, 0.75778, 0.26074, 0.67866, 0.23906, 0.21101999999999999, 0.36498, 1.06024, 0.0694, 0.2852, 0.20824, 0.0785, 0.34193, 0.17417, 0.46534, 0.25811999999999996, 0.22208000000000003, 0.28665, 0.0153, 0.20868], \"sizemode\": \"area\", \"sizeref\": 0.00052825625}, \"mode\": \"markers\", \"name\": \"Sub-Saharan Africa\", \"text\": [\"Mauritius\", \"Nigeria\", \"Zambia\", \"Somaliland region\", \"Mozambique\", \"Lesotho\", \"Swaziland\", \"South Africa\", \"Ghana\", \"Zimbabwe\", \"Liberia\", \"Sudan\", \"Congo (Kinshasa)\", \"Ethiopia\", \"Sierra Leone\", \"Mauritania\", \"Kenya\", \"Djibouti\", \"Botswana\", \"Malawi\", \"Cameroon\", \"Angola\", \"Mali\", \"Congo (Brazzaville)\", \"Comoros\", \"Uganda\", \"Senegal\", \"Gabon\", \"Niger\", \"Tanzania\", \"Madagascar\", \"Central African Republic\", \"Chad\", \"Guinea\", \"Ivory Coast\", \"Burkina Faso\", \"Rwanda\", \"Benin\", \"Burundi\", \"Togo\"], \"type\": \"scatter\", \"x\": [5.477, 5.268, 5.129, 5.0569999999999995, 4.971, 4.898, 4.867, 4.6419999999999995, 4.633, 4.61, 4.571000000000001, 4.55, 4.5169999999999995, 4.512, 4.507, 4.436, 4.419, 4.369, 4.332, 4.292, 4.252, 4.033, 3.995, 3.989, 3.9560000000000004, 3.931, 3.904, 3.8960000000000004, 3.845, 3.781, 3.681, 3.678, 3.667, 3.656, 3.655, 3.5869999999999997, 3.465, 3.34, 2.905, 2.839], \"y\": [0.98521, 0.9043200000000001, 0.91612, 0.95152, 1.02626, 1.04103, 1.07284, 1.18468, 0.6795399999999999, 1.0327600000000001, 0.78968, 1.01404, 1.0012, 0.60406, 0.9557100000000001, 0.86908, 0.99876, 0.59207, 1.10464, 0.41134, 0.8876700000000001, 0.8604, 1.03526, 0.6629, 0.79273, 1.13299, 0.97619, 0.90528, 0.77265, 1.00268, 0.66801, 0.0, 0.76062, 0.46475, 0.77115, 0.85188, 0.7737, 0.35386, 0.41586999999999996, 0.13995]}, {\"marker\": {\"size\": [0.77042, 0.59543, 0.39753, 0.64499, 0.35996999999999996, 0.83524, 0.31982], \"sizemode\": \"area\", \"sizeref\": 0.00052825625}, \"mode\": \"markers\", \"name\": \"Southern Asia\", \"text\": [\"Bhutan\", \"Pakistan\", \"Bangladesh\", \"India\", \"Nepal\", \"Sri Lanka\", \"Afghanistan\"], \"type\": \"scatter\", \"x\": [5.252999999999999, 5.194, 4.694, 4.565, 4.513999999999999, 4.271, 3.575], \"y\": [1.10395, 0.41411000000000003, 0.43106000000000005, 0.38174, 0.86449, 1.01905, 0.30285]}],                        {\"height\": 650, \"hovermode\": \"closest\", \"margin\": {\"b\": 50, \"pad\": 5, \"t\": 50}, \"showlegend\": true, \"template\": {\"data\": {\"bar\": [{\"error_x\": {\"color\": \"#2a3f5f\"}, \"error_y\": {\"color\": \"#2a3f5f\"}, \"marker\": {\"line\": {\"color\": \"#E5ECF6\", \"width\": 0.5}}, \"type\": \"bar\"}], \"barpolar\": [{\"marker\": {\"line\": {\"color\": \"#E5ECF6\", \"width\": 0.5}}, \"type\": \"barpolar\"}], \"carpet\": [{\"aaxis\": {\"endlinecolor\": \"#2a3f5f\", \"gridcolor\": \"white\", \"linecolor\": \"white\", \"minorgridcolor\": \"white\", \"startlinecolor\": \"#2a3f5f\"}, \"baxis\": {\"endlinecolor\": \"#2a3f5f\", \"gridcolor\": \"white\", \"linecolor\": \"white\", \"minorgridcolor\": \"white\", \"startlinecolor\": \"#2a3f5f\"}, \"type\": \"carpet\"}], \"choropleth\": [{\"colorbar\": {\"outlinewidth\": 0, \"ticks\": \"\"}, \"type\": \"choropleth\"}], \"contour\": [{\"colorbar\": {\"outlinewidth\": 0, \"ticks\": \"\"}, \"colorscale\": [[0.0, \"#0d0887\"], [0.1111111111111111, \"#46039f\"], [0.2222222222222222, \"#7201a8\"], [0.3333333333333333, \"#9c179e\"], [0.4444444444444444, \"#bd3786\"], [0.5555555555555556, \"#d8576b\"], [0.6666666666666666, \"#ed7953\"], [0.7777777777777778, \"#fb9f3a\"], [0.8888888888888888, \"#fdca26\"], [1.0, \"#f0f921\"]], \"type\": \"contour\"}], \"contourcarpet\": [{\"colorbar\": {\"outlinewidth\": 0, \"ticks\": \"\"}, \"type\": \"contourcarpet\"}], \"heatmap\": [{\"colorbar\": {\"outlinewidth\": 0, \"ticks\": \"\"}, \"colorscale\": [[0.0, \"#0d0887\"], [0.1111111111111111, \"#46039f\"], [0.2222222222222222, \"#7201a8\"], [0.3333333333333333, \"#9c179e\"], [0.4444444444444444, \"#bd3786\"], [0.5555555555555556, \"#d8576b\"], [0.6666666666666666, \"#ed7953\"], [0.7777777777777778, \"#fb9f3a\"], [0.8888888888888888, \"#fdca26\"], [1.0, \"#f0f921\"]], \"type\": \"heatmap\"}], \"heatmapgl\": [{\"colorbar\": {\"outlinewidth\": 0, \"ticks\": \"\"}, \"colorscale\": [[0.0, \"#0d0887\"], [0.1111111111111111, \"#46039f\"], [0.2222222222222222, \"#7201a8\"], [0.3333333333333333, \"#9c179e\"], [0.4444444444444444, \"#bd3786\"], [0.5555555555555556, \"#d8576b\"], [0.6666666666666666, \"#ed7953\"], [0.7777777777777778, \"#fb9f3a\"], [0.8888888888888888, \"#fdca26\"], [1.0, \"#f0f921\"]], \"type\": \"heatmapgl\"}], \"histogram\": [{\"marker\": {\"colorbar\": {\"outlinewidth\": 0, \"ticks\": \"\"}}, \"type\": \"histogram\"}], \"histogram2d\": [{\"colorbar\": {\"outlinewidth\": 0, \"ticks\": \"\"}, \"colorscale\": [[0.0, \"#0d0887\"], [0.1111111111111111, \"#46039f\"], [0.2222222222222222, \"#7201a8\"], [0.3333333333333333, \"#9c179e\"], [0.4444444444444444, \"#bd3786\"], [0.5555555555555556, \"#d8576b\"], [0.6666666666666666, \"#ed7953\"], [0.7777777777777778, \"#fb9f3a\"], [0.8888888888888888, \"#fdca26\"], [1.0, \"#f0f921\"]], \"type\": \"histogram2d\"}], \"histogram2dcontour\": [{\"colorbar\": {\"outlinewidth\": 0, \"ticks\": \"\"}, \"colorscale\": [[0.0, \"#0d0887\"], [0.1111111111111111, \"#46039f\"], [0.2222222222222222, \"#7201a8\"], [0.3333333333333333, \"#9c179e\"], [0.4444444444444444, \"#bd3786\"], [0.5555555555555556, \"#d8576b\"], [0.6666666666666666, \"#ed7953\"], [0.7777777777777778, \"#fb9f3a\"], [0.8888888888888888, \"#fdca26\"], [1.0, \"#f0f921\"]], \"type\": \"histogram2dcontour\"}], \"mesh3d\": [{\"colorbar\": {\"outlinewidth\": 0, \"ticks\": \"\"}, \"type\": \"mesh3d\"}], \"parcoords\": [{\"line\": {\"colorbar\": {\"outlinewidth\": 0, \"ticks\": \"\"}}, \"type\": \"parcoords\"}], \"pie\": [{\"automargin\": true, \"type\": \"pie\"}], \"scatter\": [{\"marker\": {\"colorbar\": {\"outlinewidth\": 0, \"ticks\": \"\"}}, \"type\": \"scatter\"}], \"scatter3d\": [{\"line\": {\"colorbar\": {\"outlinewidth\": 0, \"ticks\": \"\"}}, \"marker\": {\"colorbar\": {\"outlinewidth\": 0, \"ticks\": \"\"}}, \"type\": \"scatter3d\"}], \"scattercarpet\": [{\"marker\": {\"colorbar\": {\"outlinewidth\": 0, \"ticks\": \"\"}}, \"type\": \"scattercarpet\"}], \"scattergeo\": [{\"marker\": {\"colorbar\": {\"outlinewidth\": 0, \"ticks\": \"\"}}, \"type\": \"scattergeo\"}], \"scattergl\": [{\"marker\": {\"colorbar\": {\"outlinewidth\": 0, \"ticks\": \"\"}}, \"type\": \"scattergl\"}], \"scattermapbox\": [{\"marker\": {\"colorbar\": {\"outlinewidth\": 0, \"ticks\": \"\"}}, \"type\": \"scattermapbox\"}], \"scatterpolar\": [{\"marker\": {\"colorbar\": {\"outlinewidth\": 0, \"ticks\": \"\"}}, \"type\": \"scatterpolar\"}], \"scatterpolargl\": [{\"marker\": {\"colorbar\": {\"outlinewidth\": 0, \"ticks\": \"\"}}, \"type\": \"scatterpolargl\"}], \"scatterternary\": [{\"marker\": {\"colorbar\": {\"outlinewidth\": 0, \"ticks\": \"\"}}, \"type\": \"scatterternary\"}], \"surface\": [{\"colorbar\": {\"outlinewidth\": 0, \"ticks\": \"\"}, \"colorscale\": [[0.0, \"#0d0887\"], [0.1111111111111111, \"#46039f\"], [0.2222222222222222, \"#7201a8\"], [0.3333333333333333, \"#9c179e\"], [0.4444444444444444, \"#bd3786\"], [0.5555555555555556, \"#d8576b\"], [0.6666666666666666, \"#ed7953\"], [0.7777777777777778, \"#fb9f3a\"], [0.8888888888888888, \"#fdca26\"], [1.0, \"#f0f921\"]], \"type\": \"surface\"}], \"table\": [{\"cells\": {\"fill\": {\"color\": \"#EBF0F8\"}, \"line\": {\"color\": \"white\"}}, \"header\": {\"fill\": {\"color\": \"#C8D4E3\"}, \"line\": {\"color\": \"white\"}}, \"type\": \"table\"}]}, \"layout\": {\"annotationdefaults\": {\"arrowcolor\": \"#2a3f5f\", \"arrowhead\": 0, \"arrowwidth\": 1}, \"coloraxis\": {\"colorbar\": {\"outlinewidth\": 0, \"ticks\": \"\"}}, \"colorscale\": {\"diverging\": [[0, \"#8e0152\"], [0.1, \"#c51b7d\"], [0.2, \"#de77ae\"], [0.3, \"#f1b6da\"], [0.4, \"#fde0ef\"], [0.5, \"#f7f7f7\"], [0.6, \"#e6f5d0\"], [0.7, \"#b8e186\"], [0.8, \"#7fbc41\"], [0.9, \"#4d9221\"], [1, \"#276419\"]], \"sequential\": [[0.0, \"#0d0887\"], [0.1111111111111111, \"#46039f\"], [0.2222222222222222, \"#7201a8\"], [0.3333333333333333, \"#9c179e\"], [0.4444444444444444, \"#bd3786\"], [0.5555555555555556, \"#d8576b\"], [0.6666666666666666, \"#ed7953\"], [0.7777777777777778, \"#fb9f3a\"], [0.8888888888888888, \"#fdca26\"], [1.0, \"#f0f921\"]], \"sequentialminus\": [[0.0, \"#0d0887\"], [0.1111111111111111, \"#46039f\"], [0.2222222222222222, \"#7201a8\"], [0.3333333333333333, \"#9c179e\"], [0.4444444444444444, \"#bd3786\"], [0.5555555555555556, \"#d8576b\"], [0.6666666666666666, \"#ed7953\"], [0.7777777777777778, \"#fb9f3a\"], [0.8888888888888888, \"#fdca26\"], [1.0, \"#f0f921\"]]}, \"colorway\": [\"#636efa\", \"#EF553B\", \"#00cc96\", \"#ab63fa\", \"#FFA15A\", \"#19d3f3\", \"#FF6692\", \"#B6E880\", \"#FF97FF\", \"#FECB52\"], \"font\": {\"color\": \"#2a3f5f\"}, \"geo\": {\"bgcolor\": \"white\", \"lakecolor\": \"white\", \"landcolor\": \"#E5ECF6\", \"showlakes\": true, \"showland\": true, \"subunitcolor\": \"white\"}, \"hoverlabel\": {\"align\": \"left\"}, \"hovermode\": \"closest\", \"mapbox\": {\"style\": \"light\"}, \"paper_bgcolor\": \"white\", \"plot_bgcolor\": \"#E5ECF6\", \"polar\": {\"angularaxis\": {\"gridcolor\": \"white\", \"linecolor\": \"white\", \"ticks\": \"\"}, \"bgcolor\": \"#E5ECF6\", \"radialaxis\": {\"gridcolor\": \"white\", \"linecolor\": \"white\", \"ticks\": \"\"}}, \"scene\": {\"xaxis\": {\"backgroundcolor\": \"#E5ECF6\", \"gridcolor\": \"white\", \"gridwidth\": 2, \"linecolor\": \"white\", \"showbackground\": true, \"ticks\": \"\", \"zerolinecolor\": \"white\"}, \"yaxis\": {\"backgroundcolor\": \"#E5ECF6\", \"gridcolor\": \"white\", \"gridwidth\": 2, \"linecolor\": \"white\", \"showbackground\": true, \"ticks\": \"\", \"zerolinecolor\": \"white\"}, \"zaxis\": {\"backgroundcolor\": \"#E5ECF6\", \"gridcolor\": \"white\", \"gridwidth\": 2, \"linecolor\": \"white\", \"showbackground\": true, \"ticks\": \"\", \"zerolinecolor\": \"white\"}}, \"shapedefaults\": {\"line\": {\"color\": \"#2a3f5f\"}}, \"ternary\": {\"aaxis\": {\"gridcolor\": \"white\", \"linecolor\": \"white\", \"ticks\": \"\"}, \"baxis\": {\"gridcolor\": \"white\", \"linecolor\": \"white\", \"ticks\": \"\"}, \"bgcolor\": \"#E5ECF6\", \"caxis\": {\"gridcolor\": \"white\", \"linecolor\": \"white\", \"ticks\": \"\"}}, \"title\": {\"x\": 0.05}, \"xaxis\": {\"automargin\": true, \"gridcolor\": \"white\", \"linecolor\": \"white\", \"ticks\": \"\", \"title\": {\"standoff\": 15}, \"zerolinecolor\": \"white\", \"zerolinewidth\": 2}, \"yaxis\": {\"automargin\": true, \"gridcolor\": \"white\", \"linecolor\": \"white\", \"ticks\": \"\", \"title\": {\"standoff\": 15}, \"zerolinecolor\": \"white\", \"zerolinewidth\": 2}}}, \"title\": {\"text\": \"Happiness vs Family vs Economy\"}, \"xaxis\": {\"autorange\": false, \"range\": [1.9872999999999998, 10.6218], \"title\": {\"text\": \"Happiness Score\"}}, \"yaxis\": {\"autorange\": false, \"range\": [0.0, 1.9631219999999996], \"title\": {\"text\": \"Family\"}}},                        {\"scrollzoom\": true, \"responsive\": true}                    ).then(function(){\n",
       "                            \n",
       "var gd = document.getElementById('c0631f4e-3be8-4d55-b7a1-c4e8f1ab9ce5');\n",
       "var x = new MutationObserver(function (mutations, observer) {{\n",
       "        var display = window.getComputedStyle(gd).display;\n",
       "        if (!display || display === 'none') {{\n",
       "            console.log([gd, 'removed!']);\n",
       "            Plotly.purge(gd);\n",
       "            observer.disconnect();\n",
       "        }}\n",
       "}});\n",
       "\n",
       "// Listen for the removal of the full notebook cells\n",
       "var notebookContainer = gd.closest('#notebook-container');\n",
       "if (notebookContainer) {{\n",
       "    x.observe(notebookContainer, {childList: true});\n",
       "}}\n",
       "\n",
       "// Listen for the clearing of the current output cell\n",
       "var outputEl = gd.closest('.output');\n",
       "if (outputEl) {{\n",
       "    x.observe(outputEl, {childList: true});\n",
       "}}\n",
       "\n",
       "                        })                };                });            </script>        </div>"
      ]
     },
     "metadata": {},
     "output_type": "display_data"
    }
   ],
   "source": [
    "\n",
    "figure = bubbleplot(dataset = data_2015, x_column = 'Happiness Score', y_column = 'Family', \n",
    "    bubble_column = 'Country', size_column = 'Economy (GDP per Capita)', color_column = 'Region', \n",
    "    x_title = \"Happiness Score\", y_title = \"Family\", title = 'Happiness vs Family vs Economy',\n",
    "    x_logscale = False, scale_bubble = 1, height = 650)\n",
    "\n",
    "py.iplot(figure, config={'scrollzoom': True})"
   ]
  },
  {
   "cell_type": "code",
   "execution_count": 64,
   "metadata": {},
   "outputs": [
    {
     "data": {
      "application/vnd.plotly.v1+json": {
       "config": {
        "linkText": "Export to plot.ly",
        "plotlyServerURL": "https://plot.ly",
        "showLink": false
       },
       "data": [
        {
         "colorscale": [
          [
           0,
           "rgb(0,0,0)"
          ],
          [
           0.2,
           "rgb(30,0,100)"
          ],
          [
           0.4,
           "rgb(120,0,100)"
          ],
          [
           0.6,
           "rgb(160,90,0)"
          ],
          [
           0.8,
           "rgb(230,200,0)"
          ],
          [
           1,
           "rgb(255,250,220)"
          ]
         ],
         "locationmode": "country names",
         "locations": [
          "Switzerland",
          "Iceland",
          "Denmark",
          "Norway",
          "Canada",
          "Finland",
          "Netherlands",
          "Sweden",
          "New Zealand",
          "Australia",
          "Israel",
          "Costa Rica",
          "Austria",
          "Mexico",
          "United States",
          "Brazil",
          "Luxembourg",
          "Ireland",
          "Belgium",
          "United Arab Emirates",
          "United Kingdom",
          "Oman",
          "Venezuela",
          "Singapore",
          "Panama",
          "Germany",
          "Chile",
          "Qatar",
          "France",
          "Argentina",
          "Czech Republic",
          "Uruguay",
          "Colombia",
          "Thailand",
          "Saudi Arabia",
          "Spain",
          "Malta",
          "Taiwan",
          "Kuwait",
          "Suriname",
          "Trinidad and Tobago",
          "El Salvador",
          "Guatemala",
          "Uzbekistan",
          "Slovakia",
          "Japan",
          "South Korea",
          "Ecuador",
          "Bahrain",
          "Italy",
          "Bolivia",
          "Moldova",
          "Paraguay",
          "Kazakhstan",
          "Slovenia",
          "Lithuania",
          "Nicaragua",
          "Peru",
          "Belarus",
          "Poland",
          "Malaysia",
          "Croatia",
          "Libya",
          "Russia",
          "Jamaica",
          "North Cyprus",
          "Cyprus",
          "Algeria",
          "Kosovo",
          "Turkmenistan",
          "Mauritius",
          "Hong Kong",
          "Estonia",
          "Indonesia",
          "Vietnam",
          "Turkey",
          "Kyrgyzstan",
          "Nigeria",
          "Bhutan",
          "Azerbaijan",
          "Pakistan",
          "Jordan",
          "Montenegro",
          "China",
          "Zambia",
          "Romania",
          "Serbia",
          "Portugal",
          "Latvia",
          "Philippines",
          "Somaliland region",
          "Morocco",
          "Macedonia",
          "Mozambique",
          "Albania",
          "Bosnia and Herzegovina",
          "Lesotho",
          "Dominican Republic",
          "Laos",
          "Mongolia",
          "Swaziland",
          "Greece",
          "Lebanon",
          "Hungary",
          "Honduras",
          "Tajikistan",
          "Tunisia",
          "Palestinian Territories",
          "Bangladesh",
          "Iran",
          "Ukraine",
          "Iraq",
          "South Africa",
          "Ghana",
          "Zimbabwe",
          "Liberia",
          "India",
          "Sudan",
          "Haiti",
          "Congo (Kinshasa)",
          "Nepal",
          "Ethiopia",
          "Sierra Leone",
          "Mauritania",
          "Kenya",
          "Djibouti",
          "Armenia",
          "Botswana",
          "Myanmar",
          "Georgia",
          "Malawi",
          "Sri Lanka",
          "Cameroon",
          "Bulgaria",
          "Egypt",
          "Yemen",
          "Angola",
          "Mali",
          "Congo (Brazzaville)",
          "Comoros",
          "Uganda",
          "Senegal",
          "Gabon",
          "Niger",
          "Cambodia",
          "Tanzania",
          "Madagascar",
          "Central African Republic",
          "Chad",
          "Guinea",
          "Ivory Coast",
          "Burkina Faso",
          "Afghanistan",
          "Rwanda",
          "Benin",
          "Syria",
          "Burundi",
          "Togo"
         ],
         "text": [
          "Switzerland",
          "Iceland",
          "Denmark",
          "Norway",
          "Canada",
          "Finland",
          "Netherlands",
          "Sweden",
          "New Zealand",
          "Australia",
          "Israel",
          "Costa Rica",
          "Austria",
          "Mexico",
          "United States",
          "Brazil",
          "Luxembourg",
          "Ireland",
          "Belgium",
          "United Arab Emirates",
          "United Kingdom",
          "Oman",
          "Venezuela",
          "Singapore",
          "Panama",
          "Germany",
          "Chile",
          "Qatar",
          "France",
          "Argentina",
          "Czech Republic",
          "Uruguay",
          "Colombia",
          "Thailand",
          "Saudi Arabia",
          "Spain",
          "Malta",
          "Taiwan",
          "Kuwait",
          "Suriname",
          "Trinidad and Tobago",
          "El Salvador",
          "Guatemala",
          "Uzbekistan",
          "Slovakia",
          "Japan",
          "South Korea",
          "Ecuador",
          "Bahrain",
          "Italy",
          "Bolivia",
          "Moldova",
          "Paraguay",
          "Kazakhstan",
          "Slovenia",
          "Lithuania",
          "Nicaragua",
          "Peru",
          "Belarus",
          "Poland",
          "Malaysia",
          "Croatia",
          "Libya",
          "Russia",
          "Jamaica",
          "North Cyprus",
          "Cyprus",
          "Algeria",
          "Kosovo",
          "Turkmenistan",
          "Mauritius",
          "Hong Kong",
          "Estonia",
          "Indonesia",
          "Vietnam",
          "Turkey",
          "Kyrgyzstan",
          "Nigeria",
          "Bhutan",
          "Azerbaijan",
          "Pakistan",
          "Jordan",
          "Montenegro",
          "China",
          "Zambia",
          "Romania",
          "Serbia",
          "Portugal",
          "Latvia",
          "Philippines",
          "Somaliland region",
          "Morocco",
          "Macedonia",
          "Mozambique",
          "Albania",
          "Bosnia and Herzegovina",
          "Lesotho",
          "Dominican Republic",
          "Laos",
          "Mongolia",
          "Swaziland",
          "Greece",
          "Lebanon",
          "Hungary",
          "Honduras",
          "Tajikistan",
          "Tunisia",
          "Palestinian Territories",
          "Bangladesh",
          "Iran",
          "Ukraine",
          "Iraq",
          "South Africa",
          "Ghana",
          "Zimbabwe",
          "Liberia",
          "India",
          "Sudan",
          "Haiti",
          "Congo (Kinshasa)",
          "Nepal",
          "Ethiopia",
          "Sierra Leone",
          "Mauritania",
          "Kenya",
          "Djibouti",
          "Armenia",
          "Botswana",
          "Myanmar",
          "Georgia",
          "Malawi",
          "Sri Lanka",
          "Cameroon",
          "Bulgaria",
          "Egypt",
          "Yemen",
          "Angola",
          "Mali",
          "Congo (Brazzaville)",
          "Comoros",
          "Uganda",
          "Senegal",
          "Gabon",
          "Niger",
          "Cambodia",
          "Tanzania",
          "Madagascar",
          "Central African Republic",
          "Chad",
          "Guinea",
          "Ivory Coast",
          "Burkina Faso",
          "Afghanistan",
          "Rwanda",
          "Benin",
          "Syria",
          "Burundi",
          "Togo"
         ],
         "type": "choropleth",
         "z": [
          1,
          2,
          3,
          4,
          5,
          6,
          7,
          8,
          9,
          10,
          11,
          12,
          13,
          14,
          15,
          16,
          17,
          18,
          19,
          20,
          21,
          22,
          23,
          24,
          25,
          26,
          27,
          28,
          29,
          30,
          31,
          32,
          33,
          34,
          35,
          36,
          37,
          38,
          39,
          40,
          41,
          42,
          43,
          44,
          45,
          46,
          47,
          48,
          49,
          50,
          51,
          52,
          53,
          54,
          55,
          56,
          57,
          58,
          59,
          60,
          61,
          62,
          63,
          64,
          65,
          66,
          67,
          68,
          69,
          70,
          71,
          72,
          73,
          74,
          75,
          76,
          77,
          78,
          79,
          80,
          81,
          82,
          82,
          84,
          85,
          86,
          87,
          88,
          89,
          90,
          91,
          92,
          93,
          94,
          95,
          96,
          97,
          98,
          99,
          100,
          101,
          102,
          103,
          104,
          105,
          106,
          107,
          108,
          109,
          110,
          111,
          112,
          113,
          114,
          115,
          116,
          117,
          118,
          119,
          120,
          121,
          122,
          123,
          124,
          125,
          126,
          127,
          128,
          129,
          130,
          131,
          132,
          133,
          134,
          135,
          136,
          137,
          138,
          139,
          140,
          141,
          142,
          143,
          144,
          145,
          146,
          147,
          148,
          149,
          150,
          151,
          152,
          153,
          154,
          155,
          156,
          157,
          158
         ]
        }
       ],
       "layout": {
        "annotations": [
         {
          "showarrow": false,
          "text": "Projection",
          "x": 0.1,
          "xanchor": "right",
          "xref": "paper",
          "y": 0.8,
          "yanchor": "bottom"
         }
        ],
        "geo": {
         "projection": {
          "type": "hammer"
         },
         "showcoastlines": true,
         "showframe": true,
         "showlakes": true,
         "showocean": true
        },
        "template": {
         "data": {
          "bar": [
           {
            "error_x": {
             "color": "#2a3f5f"
            },
            "error_y": {
             "color": "#2a3f5f"
            },
            "marker": {
             "line": {
              "color": "#E5ECF6",
              "width": 0.5
             }
            },
            "type": "bar"
           }
          ],
          "barpolar": [
           {
            "marker": {
             "line": {
              "color": "#E5ECF6",
              "width": 0.5
             }
            },
            "type": "barpolar"
           }
          ],
          "carpet": [
           {
            "aaxis": {
             "endlinecolor": "#2a3f5f",
             "gridcolor": "white",
             "linecolor": "white",
             "minorgridcolor": "white",
             "startlinecolor": "#2a3f5f"
            },
            "baxis": {
             "endlinecolor": "#2a3f5f",
             "gridcolor": "white",
             "linecolor": "white",
             "minorgridcolor": "white",
             "startlinecolor": "#2a3f5f"
            },
            "type": "carpet"
           }
          ],
          "choropleth": [
           {
            "colorbar": {
             "outlinewidth": 0,
             "ticks": ""
            },
            "type": "choropleth"
           }
          ],
          "contour": [
           {
            "colorbar": {
             "outlinewidth": 0,
             "ticks": ""
            },
            "colorscale": [
             [
              0,
              "#0d0887"
             ],
             [
              0.1111111111111111,
              "#46039f"
             ],
             [
              0.2222222222222222,
              "#7201a8"
             ],
             [
              0.3333333333333333,
              "#9c179e"
             ],
             [
              0.4444444444444444,
              "#bd3786"
             ],
             [
              0.5555555555555556,
              "#d8576b"
             ],
             [
              0.6666666666666666,
              "#ed7953"
             ],
             [
              0.7777777777777778,
              "#fb9f3a"
             ],
             [
              0.8888888888888888,
              "#fdca26"
             ],
             [
              1,
              "#f0f921"
             ]
            ],
            "type": "contour"
           }
          ],
          "contourcarpet": [
           {
            "colorbar": {
             "outlinewidth": 0,
             "ticks": ""
            },
            "type": "contourcarpet"
           }
          ],
          "heatmap": [
           {
            "colorbar": {
             "outlinewidth": 0,
             "ticks": ""
            },
            "colorscale": [
             [
              0,
              "#0d0887"
             ],
             [
              0.1111111111111111,
              "#46039f"
             ],
             [
              0.2222222222222222,
              "#7201a8"
             ],
             [
              0.3333333333333333,
              "#9c179e"
             ],
             [
              0.4444444444444444,
              "#bd3786"
             ],
             [
              0.5555555555555556,
              "#d8576b"
             ],
             [
              0.6666666666666666,
              "#ed7953"
             ],
             [
              0.7777777777777778,
              "#fb9f3a"
             ],
             [
              0.8888888888888888,
              "#fdca26"
             ],
             [
              1,
              "#f0f921"
             ]
            ],
            "type": "heatmap"
           }
          ],
          "heatmapgl": [
           {
            "colorbar": {
             "outlinewidth": 0,
             "ticks": ""
            },
            "colorscale": [
             [
              0,
              "#0d0887"
             ],
             [
              0.1111111111111111,
              "#46039f"
             ],
             [
              0.2222222222222222,
              "#7201a8"
             ],
             [
              0.3333333333333333,
              "#9c179e"
             ],
             [
              0.4444444444444444,
              "#bd3786"
             ],
             [
              0.5555555555555556,
              "#d8576b"
             ],
             [
              0.6666666666666666,
              "#ed7953"
             ],
             [
              0.7777777777777778,
              "#fb9f3a"
             ],
             [
              0.8888888888888888,
              "#fdca26"
             ],
             [
              1,
              "#f0f921"
             ]
            ],
            "type": "heatmapgl"
           }
          ],
          "histogram": [
           {
            "marker": {
             "colorbar": {
              "outlinewidth": 0,
              "ticks": ""
             }
            },
            "type": "histogram"
           }
          ],
          "histogram2d": [
           {
            "colorbar": {
             "outlinewidth": 0,
             "ticks": ""
            },
            "colorscale": [
             [
              0,
              "#0d0887"
             ],
             [
              0.1111111111111111,
              "#46039f"
             ],
             [
              0.2222222222222222,
              "#7201a8"
             ],
             [
              0.3333333333333333,
              "#9c179e"
             ],
             [
              0.4444444444444444,
              "#bd3786"
             ],
             [
              0.5555555555555556,
              "#d8576b"
             ],
             [
              0.6666666666666666,
              "#ed7953"
             ],
             [
              0.7777777777777778,
              "#fb9f3a"
             ],
             [
              0.8888888888888888,
              "#fdca26"
             ],
             [
              1,
              "#f0f921"
             ]
            ],
            "type": "histogram2d"
           }
          ],
          "histogram2dcontour": [
           {
            "colorbar": {
             "outlinewidth": 0,
             "ticks": ""
            },
            "colorscale": [
             [
              0,
              "#0d0887"
             ],
             [
              0.1111111111111111,
              "#46039f"
             ],
             [
              0.2222222222222222,
              "#7201a8"
             ],
             [
              0.3333333333333333,
              "#9c179e"
             ],
             [
              0.4444444444444444,
              "#bd3786"
             ],
             [
              0.5555555555555556,
              "#d8576b"
             ],
             [
              0.6666666666666666,
              "#ed7953"
             ],
             [
              0.7777777777777778,
              "#fb9f3a"
             ],
             [
              0.8888888888888888,
              "#fdca26"
             ],
             [
              1,
              "#f0f921"
             ]
            ],
            "type": "histogram2dcontour"
           }
          ],
          "mesh3d": [
           {
            "colorbar": {
             "outlinewidth": 0,
             "ticks": ""
            },
            "type": "mesh3d"
           }
          ],
          "parcoords": [
           {
            "line": {
             "colorbar": {
              "outlinewidth": 0,
              "ticks": ""
             }
            },
            "type": "parcoords"
           }
          ],
          "pie": [
           {
            "automargin": true,
            "type": "pie"
           }
          ],
          "scatter": [
           {
            "marker": {
             "colorbar": {
              "outlinewidth": 0,
              "ticks": ""
             }
            },
            "type": "scatter"
           }
          ],
          "scatter3d": [
           {
            "line": {
             "colorbar": {
              "outlinewidth": 0,
              "ticks": ""
             }
            },
            "marker": {
             "colorbar": {
              "outlinewidth": 0,
              "ticks": ""
             }
            },
            "type": "scatter3d"
           }
          ],
          "scattercarpet": [
           {
            "marker": {
             "colorbar": {
              "outlinewidth": 0,
              "ticks": ""
             }
            },
            "type": "scattercarpet"
           }
          ],
          "scattergeo": [
           {
            "marker": {
             "colorbar": {
              "outlinewidth": 0,
              "ticks": ""
             }
            },
            "type": "scattergeo"
           }
          ],
          "scattergl": [
           {
            "marker": {
             "colorbar": {
              "outlinewidth": 0,
              "ticks": ""
             }
            },
            "type": "scattergl"
           }
          ],
          "scattermapbox": [
           {
            "marker": {
             "colorbar": {
              "outlinewidth": 0,
              "ticks": ""
             }
            },
            "type": "scattermapbox"
           }
          ],
          "scatterpolar": [
           {
            "marker": {
             "colorbar": {
              "outlinewidth": 0,
              "ticks": ""
             }
            },
            "type": "scatterpolar"
           }
          ],
          "scatterpolargl": [
           {
            "marker": {
             "colorbar": {
              "outlinewidth": 0,
              "ticks": ""
             }
            },
            "type": "scatterpolargl"
           }
          ],
          "scatterternary": [
           {
            "marker": {
             "colorbar": {
              "outlinewidth": 0,
              "ticks": ""
             }
            },
            "type": "scatterternary"
           }
          ],
          "surface": [
           {
            "colorbar": {
             "outlinewidth": 0,
             "ticks": ""
            },
            "colorscale": [
             [
              0,
              "#0d0887"
             ],
             [
              0.1111111111111111,
              "#46039f"
             ],
             [
              0.2222222222222222,
              "#7201a8"
             ],
             [
              0.3333333333333333,
              "#9c179e"
             ],
             [
              0.4444444444444444,
              "#bd3786"
             ],
             [
              0.5555555555555556,
              "#d8576b"
             ],
             [
              0.6666666666666666,
              "#ed7953"
             ],
             [
              0.7777777777777778,
              "#fb9f3a"
             ],
             [
              0.8888888888888888,
              "#fdca26"
             ],
             [
              1,
              "#f0f921"
             ]
            ],
            "type": "surface"
           }
          ],
          "table": [
           {
            "cells": {
             "fill": {
              "color": "#EBF0F8"
             },
             "line": {
              "color": "white"
             }
            },
            "header": {
             "fill": {
              "color": "#C8D4E3"
             },
             "line": {
              "color": "white"
             }
            },
            "type": "table"
           }
          ]
         },
         "layout": {
          "annotationdefaults": {
           "arrowcolor": "#2a3f5f",
           "arrowhead": 0,
           "arrowwidth": 1
          },
          "coloraxis": {
           "colorbar": {
            "outlinewidth": 0,
            "ticks": ""
           }
          },
          "colorscale": {
           "diverging": [
            [
             0,
             "#8e0152"
            ],
            [
             0.1,
             "#c51b7d"
            ],
            [
             0.2,
             "#de77ae"
            ],
            [
             0.3,
             "#f1b6da"
            ],
            [
             0.4,
             "#fde0ef"
            ],
            [
             0.5,
             "#f7f7f7"
            ],
            [
             0.6,
             "#e6f5d0"
            ],
            [
             0.7,
             "#b8e186"
            ],
            [
             0.8,
             "#7fbc41"
            ],
            [
             0.9,
             "#4d9221"
            ],
            [
             1,
             "#276419"
            ]
           ],
           "sequential": [
            [
             0,
             "#0d0887"
            ],
            [
             0.1111111111111111,
             "#46039f"
            ],
            [
             0.2222222222222222,
             "#7201a8"
            ],
            [
             0.3333333333333333,
             "#9c179e"
            ],
            [
             0.4444444444444444,
             "#bd3786"
            ],
            [
             0.5555555555555556,
             "#d8576b"
            ],
            [
             0.6666666666666666,
             "#ed7953"
            ],
            [
             0.7777777777777778,
             "#fb9f3a"
            ],
            [
             0.8888888888888888,
             "#fdca26"
            ],
            [
             1,
             "#f0f921"
            ]
           ],
           "sequentialminus": [
            [
             0,
             "#0d0887"
            ],
            [
             0.1111111111111111,
             "#46039f"
            ],
            [
             0.2222222222222222,
             "#7201a8"
            ],
            [
             0.3333333333333333,
             "#9c179e"
            ],
            [
             0.4444444444444444,
             "#bd3786"
            ],
            [
             0.5555555555555556,
             "#d8576b"
            ],
            [
             0.6666666666666666,
             "#ed7953"
            ],
            [
             0.7777777777777778,
             "#fb9f3a"
            ],
            [
             0.8888888888888888,
             "#fdca26"
            ],
            [
             1,
             "#f0f921"
            ]
           ]
          },
          "colorway": [
           "#636efa",
           "#EF553B",
           "#00cc96",
           "#ab63fa",
           "#FFA15A",
           "#19d3f3",
           "#FF6692",
           "#B6E880",
           "#FF97FF",
           "#FECB52"
          ],
          "font": {
           "color": "#2a3f5f"
          },
          "geo": {
           "bgcolor": "white",
           "lakecolor": "white",
           "landcolor": "#E5ECF6",
           "showlakes": true,
           "showland": true,
           "subunitcolor": "white"
          },
          "hoverlabel": {
           "align": "left"
          },
          "hovermode": "closest",
          "mapbox": {
           "style": "light"
          },
          "paper_bgcolor": "white",
          "plot_bgcolor": "#E5ECF6",
          "polar": {
           "angularaxis": {
            "gridcolor": "white",
            "linecolor": "white",
            "ticks": ""
           },
           "bgcolor": "#E5ECF6",
           "radialaxis": {
            "gridcolor": "white",
            "linecolor": "white",
            "ticks": ""
           }
          },
          "scene": {
           "xaxis": {
            "backgroundcolor": "#E5ECF6",
            "gridcolor": "white",
            "gridwidth": 2,
            "linecolor": "white",
            "showbackground": true,
            "ticks": "",
            "zerolinecolor": "white"
           },
           "yaxis": {
            "backgroundcolor": "#E5ECF6",
            "gridcolor": "white",
            "gridwidth": 2,
            "linecolor": "white",
            "showbackground": true,
            "ticks": "",
            "zerolinecolor": "white"
           },
           "zaxis": {
            "backgroundcolor": "#E5ECF6",
            "gridcolor": "white",
            "gridwidth": 2,
            "linecolor": "white",
            "showbackground": true,
            "ticks": "",
            "zerolinecolor": "white"
           }
          },
          "shapedefaults": {
           "line": {
            "color": "#2a3f5f"
           }
          },
          "ternary": {
           "aaxis": {
            "gridcolor": "white",
            "linecolor": "white",
            "ticks": ""
           },
           "baxis": {
            "gridcolor": "white",
            "linecolor": "white",
            "ticks": ""
           },
           "bgcolor": "#E5ECF6",
           "caxis": {
            "gridcolor": "white",
            "linecolor": "white",
            "ticks": ""
           }
          },
          "title": {
           "x": 0.05
          },
          "xaxis": {
           "automargin": true,
           "gridcolor": "white",
           "linecolor": "white",
           "ticks": "",
           "title": {
            "standoff": 15
           },
           "zerolinecolor": "white",
           "zerolinewidth": 2
          },
          "yaxis": {
           "automargin": true,
           "gridcolor": "white",
           "linecolor": "white",
           "ticks": "",
           "title": {
            "standoff": 15
           },
           "zerolinecolor": "white",
           "zerolinewidth": 2
          }
         }
        },
        "title": {
         "text": "Happiness Rank"
        },
        "updatemenus": [
         {
          "buttons": [
           {
            "args": [
             "geo.projection.type",
             "equirectangular"
            ],
            "label": "equirectangular",
            "method": "relayout"
           },
           {
            "args": [
             "geo.projection.type",
             "mercator"
            ],
            "label": "mercator",
            "method": "relayout"
           },
           {
            "args": [
             "geo.projection.type",
             "orthographic"
            ],
            "label": "orthographic",
            "method": "relayout"
           },
           {
            "args": [
             "geo.projection.type",
             "natural earth"
            ],
            "label": "natural earth",
            "method": "relayout"
           },
           {
            "args": [
             "geo.projection.type",
             "kavrayskiy7"
            ],
            "label": "kavrayskiy7",
            "method": "relayout"
           },
           {
            "args": [
             "geo.projection.type",
             "miller"
            ],
            "label": "miller",
            "method": "relayout"
           },
           {
            "args": [
             "geo.projection.type",
             "robinson"
            ],
            "label": "robinson",
            "method": "relayout"
           },
           {
            "args": [
             "geo.projection.type",
             "eckert4"
            ],
            "label": "eckert4",
            "method": "relayout"
           },
           {
            "args": [
             "geo.projection.type",
             "azimuthal equal area"
            ],
            "label": "azimuthal equal area",
            "method": "relayout"
           },
           {
            "args": [
             "geo.projection.type",
             "azimuthal equidistant"
            ],
            "label": "azimuthal equidistant",
            "method": "relayout"
           },
           {
            "args": [
             "geo.projection.type",
             "conic equal area"
            ],
            "label": "conic equal area",
            "method": "relayout"
           },
           {
            "args": [
             "geo.projection.type",
             "conic conformal"
            ],
            "label": "conic conformal",
            "method": "relayout"
           },
           {
            "args": [
             "geo.projection.type",
             "conic equidistant"
            ],
            "label": "conic equidistant",
            "method": "relayout"
           },
           {
            "args": [
             "geo.projection.type",
             "gnomonic"
            ],
            "label": "gnomonic",
            "method": "relayout"
           },
           {
            "args": [
             "geo.projection.type",
             "stereographic"
            ],
            "label": "stereographic",
            "method": "relayout"
           },
           {
            "args": [
             "geo.projection.type",
             "mollweide"
            ],
            "label": "mollweide",
            "method": "relayout"
           },
           {
            "args": [
             "geo.projection.type",
             "hammer"
            ],
            "label": "hammer",
            "method": "relayout"
           },
           {
            "args": [
             "geo.projection.type",
             "transverse mercator"
            ],
            "label": "transverse mercator",
            "method": "relayout"
           },
           {
            "args": [
             "geo.projection.type",
             "albers usa"
            ],
            "label": "albers usa",
            "method": "relayout"
           },
           {
            "args": [
             "geo.projection.type",
             "winkel tripel"
            ],
            "label": "winkel tripel",
            "method": "relayout"
           }
          ],
          "x": 0.1,
          "y": 0.8,
          "yanchor": "top"
         }
        ]
       }
      },
      "text/html": [
       "<div>                            <div id=\"98342777-7ad3-400e-be19-6b3b40c09987\" class=\"plotly-graph-div\" style=\"height:525px; width:100%;\"></div>            <script type=\"text/javascript\">                require([\"plotly\"], function(Plotly) {                    window.PLOTLYENV=window.PLOTLYENV || {};                                    if (document.getElementById(\"98342777-7ad3-400e-be19-6b3b40c09987\")) {                    Plotly.newPlot(                        \"98342777-7ad3-400e-be19-6b3b40c09987\",                        [{\"colorscale\": [[0.0, \"rgb(0,0,0)\"], [0.2, \"rgb(30,0,100)\"], [0.4, \"rgb(120,0,100)\"], [0.6, \"rgb(160,90,0)\"], [0.8, \"rgb(230,200,0)\"], [1.0, \"rgb(255,250,220)\"]], \"locationmode\": \"country names\", \"locations\": [\"Switzerland\", \"Iceland\", \"Denmark\", \"Norway\", \"Canada\", \"Finland\", \"Netherlands\", \"Sweden\", \"New Zealand\", \"Australia\", \"Israel\", \"Costa Rica\", \"Austria\", \"Mexico\", \"United States\", \"Brazil\", \"Luxembourg\", \"Ireland\", \"Belgium\", \"United Arab Emirates\", \"United Kingdom\", \"Oman\", \"Venezuela\", \"Singapore\", \"Panama\", \"Germany\", \"Chile\", \"Qatar\", \"France\", \"Argentina\", \"Czech Republic\", \"Uruguay\", \"Colombia\", \"Thailand\", \"Saudi Arabia\", \"Spain\", \"Malta\", \"Taiwan\", \"Kuwait\", \"Suriname\", \"Trinidad and Tobago\", \"El Salvador\", \"Guatemala\", \"Uzbekistan\", \"Slovakia\", \"Japan\", \"South Korea\", \"Ecuador\", \"Bahrain\", \"Italy\", \"Bolivia\", \"Moldova\", \"Paraguay\", \"Kazakhstan\", \"Slovenia\", \"Lithuania\", \"Nicaragua\", \"Peru\", \"Belarus\", \"Poland\", \"Malaysia\", \"Croatia\", \"Libya\", \"Russia\", \"Jamaica\", \"North Cyprus\", \"Cyprus\", \"Algeria\", \"Kosovo\", \"Turkmenistan\", \"Mauritius\", \"Hong Kong\", \"Estonia\", \"Indonesia\", \"Vietnam\", \"Turkey\", \"Kyrgyzstan\", \"Nigeria\", \"Bhutan\", \"Azerbaijan\", \"Pakistan\", \"Jordan\", \"Montenegro\", \"China\", \"Zambia\", \"Romania\", \"Serbia\", \"Portugal\", \"Latvia\", \"Philippines\", \"Somaliland region\", \"Morocco\", \"Macedonia\", \"Mozambique\", \"Albania\", \"Bosnia and Herzegovina\", \"Lesotho\", \"Dominican Republic\", \"Laos\", \"Mongolia\", \"Swaziland\", \"Greece\", \"Lebanon\", \"Hungary\", \"Honduras\", \"Tajikistan\", \"Tunisia\", \"Palestinian Territories\", \"Bangladesh\", \"Iran\", \"Ukraine\", \"Iraq\", \"South Africa\", \"Ghana\", \"Zimbabwe\", \"Liberia\", \"India\", \"Sudan\", \"Haiti\", \"Congo (Kinshasa)\", \"Nepal\", \"Ethiopia\", \"Sierra Leone\", \"Mauritania\", \"Kenya\", \"Djibouti\", \"Armenia\", \"Botswana\", \"Myanmar\", \"Georgia\", \"Malawi\", \"Sri Lanka\", \"Cameroon\", \"Bulgaria\", \"Egypt\", \"Yemen\", \"Angola\", \"Mali\", \"Congo (Brazzaville)\", \"Comoros\", \"Uganda\", \"Senegal\", \"Gabon\", \"Niger\", \"Cambodia\", \"Tanzania\", \"Madagascar\", \"Central African Republic\", \"Chad\", \"Guinea\", \"Ivory Coast\", \"Burkina Faso\", \"Afghanistan\", \"Rwanda\", \"Benin\", \"Syria\", \"Burundi\", \"Togo\"], \"text\": [\"Switzerland\", \"Iceland\", \"Denmark\", \"Norway\", \"Canada\", \"Finland\", \"Netherlands\", \"Sweden\", \"New Zealand\", \"Australia\", \"Israel\", \"Costa Rica\", \"Austria\", \"Mexico\", \"United States\", \"Brazil\", \"Luxembourg\", \"Ireland\", \"Belgium\", \"United Arab Emirates\", \"United Kingdom\", \"Oman\", \"Venezuela\", \"Singapore\", \"Panama\", \"Germany\", \"Chile\", \"Qatar\", \"France\", \"Argentina\", \"Czech Republic\", \"Uruguay\", \"Colombia\", \"Thailand\", \"Saudi Arabia\", \"Spain\", \"Malta\", \"Taiwan\", \"Kuwait\", \"Suriname\", \"Trinidad and Tobago\", \"El Salvador\", \"Guatemala\", \"Uzbekistan\", \"Slovakia\", \"Japan\", \"South Korea\", \"Ecuador\", \"Bahrain\", \"Italy\", \"Bolivia\", \"Moldova\", \"Paraguay\", \"Kazakhstan\", \"Slovenia\", \"Lithuania\", \"Nicaragua\", \"Peru\", \"Belarus\", \"Poland\", \"Malaysia\", \"Croatia\", \"Libya\", \"Russia\", \"Jamaica\", \"North Cyprus\", \"Cyprus\", \"Algeria\", \"Kosovo\", \"Turkmenistan\", \"Mauritius\", \"Hong Kong\", \"Estonia\", \"Indonesia\", \"Vietnam\", \"Turkey\", \"Kyrgyzstan\", \"Nigeria\", \"Bhutan\", \"Azerbaijan\", \"Pakistan\", \"Jordan\", \"Montenegro\", \"China\", \"Zambia\", \"Romania\", \"Serbia\", \"Portugal\", \"Latvia\", \"Philippines\", \"Somaliland region\", \"Morocco\", \"Macedonia\", \"Mozambique\", \"Albania\", \"Bosnia and Herzegovina\", \"Lesotho\", \"Dominican Republic\", \"Laos\", \"Mongolia\", \"Swaziland\", \"Greece\", \"Lebanon\", \"Hungary\", \"Honduras\", \"Tajikistan\", \"Tunisia\", \"Palestinian Territories\", \"Bangladesh\", \"Iran\", \"Ukraine\", \"Iraq\", \"South Africa\", \"Ghana\", \"Zimbabwe\", \"Liberia\", \"India\", \"Sudan\", \"Haiti\", \"Congo (Kinshasa)\", \"Nepal\", \"Ethiopia\", \"Sierra Leone\", \"Mauritania\", \"Kenya\", \"Djibouti\", \"Armenia\", \"Botswana\", \"Myanmar\", \"Georgia\", \"Malawi\", \"Sri Lanka\", \"Cameroon\", \"Bulgaria\", \"Egypt\", \"Yemen\", \"Angola\", \"Mali\", \"Congo (Brazzaville)\", \"Comoros\", \"Uganda\", \"Senegal\", \"Gabon\", \"Niger\", \"Cambodia\", \"Tanzania\", \"Madagascar\", \"Central African Republic\", \"Chad\", \"Guinea\", \"Ivory Coast\", \"Burkina Faso\", \"Afghanistan\", \"Rwanda\", \"Benin\", \"Syria\", \"Burundi\", \"Togo\"], \"type\": \"choropleth\", \"z\": [1, 2, 3, 4, 5, 6, 7, 8, 9, 10, 11, 12, 13, 14, 15, 16, 17, 18, 19, 20, 21, 22, 23, 24, 25, 26, 27, 28, 29, 30, 31, 32, 33, 34, 35, 36, 37, 38, 39, 40, 41, 42, 43, 44, 45, 46, 47, 48, 49, 50, 51, 52, 53, 54, 55, 56, 57, 58, 59, 60, 61, 62, 63, 64, 65, 66, 67, 68, 69, 70, 71, 72, 73, 74, 75, 76, 77, 78, 79, 80, 81, 82, 82, 84, 85, 86, 87, 88, 89, 90, 91, 92, 93, 94, 95, 96, 97, 98, 99, 100, 101, 102, 103, 104, 105, 106, 107, 108, 109, 110, 111, 112, 113, 114, 115, 116, 117, 118, 119, 120, 121, 122, 123, 124, 125, 126, 127, 128, 129, 130, 131, 132, 133, 134, 135, 136, 137, 138, 139, 140, 141, 142, 143, 144, 145, 146, 147, 148, 149, 150, 151, 152, 153, 154, 155, 156, 157, 158]}],                        {\"annotations\": [{\"showarrow\": false, \"text\": \"Projection\", \"x\": 0.1, \"xanchor\": \"right\", \"xref\": \"paper\", \"y\": 0.8, \"yanchor\": \"bottom\"}], \"geo\": {\"projection\": {\"type\": \"hammer\"}, \"showcoastlines\": true, \"showframe\": true, \"showlakes\": true, \"showocean\": true}, \"template\": {\"data\": {\"bar\": [{\"error_x\": {\"color\": \"#2a3f5f\"}, \"error_y\": {\"color\": \"#2a3f5f\"}, \"marker\": {\"line\": {\"color\": \"#E5ECF6\", \"width\": 0.5}}, \"type\": \"bar\"}], \"barpolar\": [{\"marker\": {\"line\": {\"color\": \"#E5ECF6\", \"width\": 0.5}}, \"type\": \"barpolar\"}], \"carpet\": [{\"aaxis\": {\"endlinecolor\": \"#2a3f5f\", \"gridcolor\": \"white\", \"linecolor\": \"white\", \"minorgridcolor\": \"white\", \"startlinecolor\": \"#2a3f5f\"}, \"baxis\": {\"endlinecolor\": \"#2a3f5f\", \"gridcolor\": \"white\", \"linecolor\": \"white\", \"minorgridcolor\": \"white\", \"startlinecolor\": \"#2a3f5f\"}, \"type\": \"carpet\"}], \"choropleth\": [{\"colorbar\": {\"outlinewidth\": 0, \"ticks\": \"\"}, \"type\": \"choropleth\"}], \"contour\": [{\"colorbar\": {\"outlinewidth\": 0, \"ticks\": \"\"}, \"colorscale\": [[0.0, \"#0d0887\"], [0.1111111111111111, \"#46039f\"], [0.2222222222222222, \"#7201a8\"], [0.3333333333333333, \"#9c179e\"], [0.4444444444444444, \"#bd3786\"], [0.5555555555555556, \"#d8576b\"], [0.6666666666666666, \"#ed7953\"], [0.7777777777777778, \"#fb9f3a\"], [0.8888888888888888, \"#fdca26\"], [1.0, \"#f0f921\"]], \"type\": \"contour\"}], \"contourcarpet\": [{\"colorbar\": {\"outlinewidth\": 0, \"ticks\": \"\"}, \"type\": \"contourcarpet\"}], \"heatmap\": [{\"colorbar\": {\"outlinewidth\": 0, \"ticks\": \"\"}, \"colorscale\": [[0.0, \"#0d0887\"], [0.1111111111111111, \"#46039f\"], [0.2222222222222222, \"#7201a8\"], [0.3333333333333333, \"#9c179e\"], [0.4444444444444444, \"#bd3786\"], [0.5555555555555556, \"#d8576b\"], [0.6666666666666666, \"#ed7953\"], [0.7777777777777778, \"#fb9f3a\"], [0.8888888888888888, \"#fdca26\"], [1.0, \"#f0f921\"]], \"type\": \"heatmap\"}], \"heatmapgl\": [{\"colorbar\": {\"outlinewidth\": 0, \"ticks\": \"\"}, \"colorscale\": [[0.0, \"#0d0887\"], [0.1111111111111111, \"#46039f\"], [0.2222222222222222, \"#7201a8\"], [0.3333333333333333, \"#9c179e\"], [0.4444444444444444, \"#bd3786\"], [0.5555555555555556, \"#d8576b\"], [0.6666666666666666, \"#ed7953\"], [0.7777777777777778, \"#fb9f3a\"], [0.8888888888888888, \"#fdca26\"], [1.0, \"#f0f921\"]], \"type\": \"heatmapgl\"}], \"histogram\": [{\"marker\": {\"colorbar\": {\"outlinewidth\": 0, \"ticks\": \"\"}}, \"type\": \"histogram\"}], \"histogram2d\": [{\"colorbar\": {\"outlinewidth\": 0, \"ticks\": \"\"}, \"colorscale\": [[0.0, \"#0d0887\"], [0.1111111111111111, \"#46039f\"], [0.2222222222222222, \"#7201a8\"], [0.3333333333333333, \"#9c179e\"], [0.4444444444444444, \"#bd3786\"], [0.5555555555555556, \"#d8576b\"], [0.6666666666666666, \"#ed7953\"], [0.7777777777777778, \"#fb9f3a\"], [0.8888888888888888, \"#fdca26\"], [1.0, \"#f0f921\"]], \"type\": \"histogram2d\"}], \"histogram2dcontour\": [{\"colorbar\": {\"outlinewidth\": 0, \"ticks\": \"\"}, \"colorscale\": [[0.0, \"#0d0887\"], [0.1111111111111111, \"#46039f\"], [0.2222222222222222, \"#7201a8\"], [0.3333333333333333, \"#9c179e\"], [0.4444444444444444, \"#bd3786\"], [0.5555555555555556, \"#d8576b\"], [0.6666666666666666, \"#ed7953\"], [0.7777777777777778, \"#fb9f3a\"], [0.8888888888888888, \"#fdca26\"], [1.0, \"#f0f921\"]], \"type\": \"histogram2dcontour\"}], \"mesh3d\": [{\"colorbar\": {\"outlinewidth\": 0, \"ticks\": \"\"}, \"type\": \"mesh3d\"}], \"parcoords\": [{\"line\": {\"colorbar\": {\"outlinewidth\": 0, \"ticks\": \"\"}}, \"type\": \"parcoords\"}], \"pie\": [{\"automargin\": true, \"type\": \"pie\"}], \"scatter\": [{\"marker\": {\"colorbar\": {\"outlinewidth\": 0, \"ticks\": \"\"}}, \"type\": \"scatter\"}], \"scatter3d\": [{\"line\": {\"colorbar\": {\"outlinewidth\": 0, \"ticks\": \"\"}}, \"marker\": {\"colorbar\": {\"outlinewidth\": 0, \"ticks\": \"\"}}, \"type\": \"scatter3d\"}], \"scattercarpet\": [{\"marker\": {\"colorbar\": {\"outlinewidth\": 0, \"ticks\": \"\"}}, \"type\": \"scattercarpet\"}], \"scattergeo\": [{\"marker\": {\"colorbar\": {\"outlinewidth\": 0, \"ticks\": \"\"}}, \"type\": \"scattergeo\"}], \"scattergl\": [{\"marker\": {\"colorbar\": {\"outlinewidth\": 0, \"ticks\": \"\"}}, \"type\": \"scattergl\"}], \"scattermapbox\": [{\"marker\": {\"colorbar\": {\"outlinewidth\": 0, \"ticks\": \"\"}}, \"type\": \"scattermapbox\"}], \"scatterpolar\": [{\"marker\": {\"colorbar\": {\"outlinewidth\": 0, \"ticks\": \"\"}}, \"type\": \"scatterpolar\"}], \"scatterpolargl\": [{\"marker\": {\"colorbar\": {\"outlinewidth\": 0, \"ticks\": \"\"}}, \"type\": \"scatterpolargl\"}], \"scatterternary\": [{\"marker\": {\"colorbar\": {\"outlinewidth\": 0, \"ticks\": \"\"}}, \"type\": \"scatterternary\"}], \"surface\": [{\"colorbar\": {\"outlinewidth\": 0, \"ticks\": \"\"}, \"colorscale\": [[0.0, \"#0d0887\"], [0.1111111111111111, \"#46039f\"], [0.2222222222222222, \"#7201a8\"], [0.3333333333333333, \"#9c179e\"], [0.4444444444444444, \"#bd3786\"], [0.5555555555555556, \"#d8576b\"], [0.6666666666666666, \"#ed7953\"], [0.7777777777777778, \"#fb9f3a\"], [0.8888888888888888, \"#fdca26\"], [1.0, \"#f0f921\"]], \"type\": \"surface\"}], \"table\": [{\"cells\": {\"fill\": {\"color\": \"#EBF0F8\"}, \"line\": {\"color\": \"white\"}}, \"header\": {\"fill\": {\"color\": \"#C8D4E3\"}, \"line\": {\"color\": \"white\"}}, \"type\": \"table\"}]}, \"layout\": {\"annotationdefaults\": {\"arrowcolor\": \"#2a3f5f\", \"arrowhead\": 0, \"arrowwidth\": 1}, \"coloraxis\": {\"colorbar\": {\"outlinewidth\": 0, \"ticks\": \"\"}}, \"colorscale\": {\"diverging\": [[0, \"#8e0152\"], [0.1, \"#c51b7d\"], [0.2, \"#de77ae\"], [0.3, \"#f1b6da\"], [0.4, \"#fde0ef\"], [0.5, \"#f7f7f7\"], [0.6, \"#e6f5d0\"], [0.7, \"#b8e186\"], [0.8, \"#7fbc41\"], [0.9, \"#4d9221\"], [1, \"#276419\"]], \"sequential\": [[0.0, \"#0d0887\"], [0.1111111111111111, \"#46039f\"], [0.2222222222222222, \"#7201a8\"], [0.3333333333333333, \"#9c179e\"], [0.4444444444444444, \"#bd3786\"], [0.5555555555555556, \"#d8576b\"], [0.6666666666666666, \"#ed7953\"], [0.7777777777777778, \"#fb9f3a\"], [0.8888888888888888, \"#fdca26\"], [1.0, \"#f0f921\"]], \"sequentialminus\": [[0.0, \"#0d0887\"], [0.1111111111111111, \"#46039f\"], [0.2222222222222222, \"#7201a8\"], [0.3333333333333333, \"#9c179e\"], [0.4444444444444444, \"#bd3786\"], [0.5555555555555556, \"#d8576b\"], [0.6666666666666666, \"#ed7953\"], [0.7777777777777778, \"#fb9f3a\"], [0.8888888888888888, \"#fdca26\"], [1.0, \"#f0f921\"]]}, \"colorway\": [\"#636efa\", \"#EF553B\", \"#00cc96\", \"#ab63fa\", \"#FFA15A\", \"#19d3f3\", \"#FF6692\", \"#B6E880\", \"#FF97FF\", \"#FECB52\"], \"font\": {\"color\": \"#2a3f5f\"}, \"geo\": {\"bgcolor\": \"white\", \"lakecolor\": \"white\", \"landcolor\": \"#E5ECF6\", \"showlakes\": true, \"showland\": true, \"subunitcolor\": \"white\"}, \"hoverlabel\": {\"align\": \"left\"}, \"hovermode\": \"closest\", \"mapbox\": {\"style\": \"light\"}, \"paper_bgcolor\": \"white\", \"plot_bgcolor\": \"#E5ECF6\", \"polar\": {\"angularaxis\": {\"gridcolor\": \"white\", \"linecolor\": \"white\", \"ticks\": \"\"}, \"bgcolor\": \"#E5ECF6\", \"radialaxis\": {\"gridcolor\": \"white\", \"linecolor\": \"white\", \"ticks\": \"\"}}, \"scene\": {\"xaxis\": {\"backgroundcolor\": \"#E5ECF6\", \"gridcolor\": \"white\", \"gridwidth\": 2, \"linecolor\": \"white\", \"showbackground\": true, \"ticks\": \"\", \"zerolinecolor\": \"white\"}, \"yaxis\": {\"backgroundcolor\": \"#E5ECF6\", \"gridcolor\": \"white\", \"gridwidth\": 2, \"linecolor\": \"white\", \"showbackground\": true, \"ticks\": \"\", \"zerolinecolor\": \"white\"}, \"zaxis\": {\"backgroundcolor\": \"#E5ECF6\", \"gridcolor\": \"white\", \"gridwidth\": 2, \"linecolor\": \"white\", \"showbackground\": true, \"ticks\": \"\", \"zerolinecolor\": \"white\"}}, \"shapedefaults\": {\"line\": {\"color\": \"#2a3f5f\"}}, \"ternary\": {\"aaxis\": {\"gridcolor\": \"white\", \"linecolor\": \"white\", \"ticks\": \"\"}, \"baxis\": {\"gridcolor\": \"white\", \"linecolor\": \"white\", \"ticks\": \"\"}, \"bgcolor\": \"#E5ECF6\", \"caxis\": {\"gridcolor\": \"white\", \"linecolor\": \"white\", \"ticks\": \"\"}}, \"title\": {\"x\": 0.05}, \"xaxis\": {\"automargin\": true, \"gridcolor\": \"white\", \"linecolor\": \"white\", \"ticks\": \"\", \"title\": {\"standoff\": 15}, \"zerolinecolor\": \"white\", \"zerolinewidth\": 2}, \"yaxis\": {\"automargin\": true, \"gridcolor\": \"white\", \"linecolor\": \"white\", \"ticks\": \"\", \"title\": {\"standoff\": 15}, \"zerolinecolor\": \"white\", \"zerolinewidth\": 2}}}, \"title\": {\"text\": \"Happiness Rank\"}, \"updatemenus\": [{\"buttons\": [{\"args\": [\"geo.projection.type\", \"equirectangular\"], \"label\": \"equirectangular\", \"method\": \"relayout\"}, {\"args\": [\"geo.projection.type\", \"mercator\"], \"label\": \"mercator\", \"method\": \"relayout\"}, {\"args\": [\"geo.projection.type\", \"orthographic\"], \"label\": \"orthographic\", \"method\": \"relayout\"}, {\"args\": [\"geo.projection.type\", \"natural earth\"], \"label\": \"natural earth\", \"method\": \"relayout\"}, {\"args\": [\"geo.projection.type\", \"kavrayskiy7\"], \"label\": \"kavrayskiy7\", \"method\": \"relayout\"}, {\"args\": [\"geo.projection.type\", \"miller\"], \"label\": \"miller\", \"method\": \"relayout\"}, {\"args\": [\"geo.projection.type\", \"robinson\"], \"label\": \"robinson\", \"method\": \"relayout\"}, {\"args\": [\"geo.projection.type\", \"eckert4\"], \"label\": \"eckert4\", \"method\": \"relayout\"}, {\"args\": [\"geo.projection.type\", \"azimuthal equal area\"], \"label\": \"azimuthal equal area\", \"method\": \"relayout\"}, {\"args\": [\"geo.projection.type\", \"azimuthal equidistant\"], \"label\": \"azimuthal equidistant\", \"method\": \"relayout\"}, {\"args\": [\"geo.projection.type\", \"conic equal area\"], \"label\": \"conic equal area\", \"method\": \"relayout\"}, {\"args\": [\"geo.projection.type\", \"conic conformal\"], \"label\": \"conic conformal\", \"method\": \"relayout\"}, {\"args\": [\"geo.projection.type\", \"conic equidistant\"], \"label\": \"conic equidistant\", \"method\": \"relayout\"}, {\"args\": [\"geo.projection.type\", \"gnomonic\"], \"label\": \"gnomonic\", \"method\": \"relayout\"}, {\"args\": [\"geo.projection.type\", \"stereographic\"], \"label\": \"stereographic\", \"method\": \"relayout\"}, {\"args\": [\"geo.projection.type\", \"mollweide\"], \"label\": \"mollweide\", \"method\": \"relayout\"}, {\"args\": [\"geo.projection.type\", \"hammer\"], \"label\": \"hammer\", \"method\": \"relayout\"}, {\"args\": [\"geo.projection.type\", \"transverse mercator\"], \"label\": \"transverse mercator\", \"method\": \"relayout\"}, {\"args\": [\"geo.projection.type\", \"albers usa\"], \"label\": \"albers usa\", \"method\": \"relayout\"}, {\"args\": [\"geo.projection.type\", \"winkel tripel\"], \"label\": \"winkel tripel\", \"method\": \"relayout\"}], \"x\": 0.1, \"y\": 0.8, \"yanchor\": \"top\"}]},                        {\"responsive\": true}                    ).then(function(){\n",
       "                            \n",
       "var gd = document.getElementById('98342777-7ad3-400e-be19-6b3b40c09987');\n",
       "var x = new MutationObserver(function (mutations, observer) {{\n",
       "        var display = window.getComputedStyle(gd).display;\n",
       "        if (!display || display === 'none') {{\n",
       "            console.log([gd, 'removed!']);\n",
       "            Plotly.purge(gd);\n",
       "            observer.disconnect();\n",
       "        }}\n",
       "}});\n",
       "\n",
       "// Listen for the removal of the full notebook cells\n",
       "var notebookContainer = gd.closest('#notebook-container');\n",
       "if (notebookContainer) {{\n",
       "    x.observe(notebookContainer, {childList: true});\n",
       "}}\n",
       "\n",
       "// Listen for the clearing of the current output cell\n",
       "var outputEl = gd.closest('.output');\n",
       "if (outputEl) {{\n",
       "    x.observe(outputEl, {childList: true});\n",
       "}}\n",
       "\n",
       "                        })                };                });            </script>        </div>"
      ]
     },
     "metadata": {},
     "output_type": "display_data"
    }
   ],
   "source": [
    "trace1 = [go.Choropleth(\n",
    "               colorscale = 'Electric',\n",
    "               locationmode = 'country names',\n",
    "               locations = data_2015['Country'],\n",
    "               text = data_2015['Country'], \n",
    "               z = data_2015['Happiness Rank'],\n",
    "               )]\n",
    "\n",
    "layout = dict(title = 'Happiness Rank',\n",
    "                  geo = dict(\n",
    "                      showframe = True,\n",
    "                      showocean = True,\n",
    "                      showlakes = True,\n",
    "                      showcoastlines = True,\n",
    "                      projection = dict(\n",
    "                          type = 'hammer'\n",
    "        )))\n",
    "\n",
    "\n",
    "projections = [ \"equirectangular\", \"mercator\", \"orthographic\", \"natural earth\",\"kavrayskiy7\", \n",
    "               \"miller\", \"robinson\", \"eckert4\", \"azimuthal equal area\",\"azimuthal equidistant\", \n",
    "               \"conic equal area\", \"conic conformal\", \"conic equidistant\", \"gnomonic\", \"stereographic\", \n",
    "               \"mollweide\", \"hammer\", \"transverse mercator\", \"albers usa\", \"winkel tripel\" ]\n",
    "\n",
    "buttons = [dict(args = ['geo.projection.type', y],\n",
    "           label = y, method = 'relayout') for y in projections]\n",
    "\n",
    "annot = list([ dict( x=0.1, y=0.8, text='Projection', yanchor='bottom', \n",
    "                    xref='paper', xanchor='right', showarrow=False )])\n",
    "\n",
    "\n",
    "# Update Layout Object\n",
    "\n",
    "layout[ 'updatemenus' ] = list([ dict( x=0.1, y=0.8, buttons=buttons, yanchor='top' )])\n",
    "layout[ 'annotations' ] = annot\n",
    "\n",
    "\n",
    "fig = go.Figure(data = trace1, layout = layout)\n",
    "py.iplot(fig)"
   ]
  },
  {
   "cell_type": "code",
   "execution_count": null,
   "metadata": {},
   "outputs": [],
   "source": []
  }
 ],
 "metadata": {
  "kernelspec": {
   "display_name": "Python 3",
   "language": "python",
   "name": "python3"
  },
  "language_info": {
   "codemirror_mode": {
    "name": "ipython",
    "version": 3
   },
   "file_extension": ".py",
   "mimetype": "text/x-python",
   "name": "python",
   "nbconvert_exporter": "python",
   "pygments_lexer": "ipython3",
   "version": "3.7.4"
  }
 },
 "nbformat": 4,
 "nbformat_minor": 2
}
